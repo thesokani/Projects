{
 "cells": [
  {
   "cell_type": "markdown",
   "metadata": {},
   "source": [
    "# Игровая индустрия"
   ]
  },
  {
   "cell_type": "markdown",
   "metadata": {},
   "source": [
    "# Описание проекта\n",
    "\n",
    "Вы работаете в интернет-магазине «Стримчик», который продаёт по всему миру компьютерные игры. Из открытых источников доступны исторические данные о продажах игр, оценки пользователей и экспертов, жанры и платформы (например, Xbox или PlayStation). Вам нужно выявить определяющие успешность игры закономерности. Это позволит сделать ставку на потенциально популярный продукт и спланировать рекламные кампании.\n",
    "Перед вами данные до 2016 года. Представим, что сейчас декабрь 2016 г., и вы планируете кампанию на 2017-й. Нужно отработать принцип работы с данными. Неважно, прогнозируете ли вы продажи на 2017 год по данным 2016-го или же 2027-й — по данным 2026 года.\n",
    "В наборе данных попадается аббревиатура ESRB (Entertainment Software Rating Board) — это ассоциация, определяющая возрастной рейтинг компьютерных игр. ESRB оценивает игровой контент и присваивает ему подходящую возрастную категорию, например, «Для взрослых», «Для детей младшего возраста» или «Для подростков»."
   ]
  },
  {
   "cell_type": "markdown",
   "metadata": {},
   "source": [
    "## Изучение данных"
   ]
  },
  {
   "cell_type": "code",
   "execution_count": 1,
   "metadata": {},
   "outputs": [],
   "source": [
    "import pandas as pd\n",
    "import seaborn as sns\n",
    "import matplotlib.pyplot as plt\n",
    "import numpy as np\n",
    "from scipy import stats as st "
   ]
  },
  {
   "cell_type": "code",
   "execution_count": 2,
   "metadata": {},
   "outputs": [],
   "source": [
    "import warnings\n",
    "warnings.filterwarnings(\"ignore\")"
   ]
  },
  {
   "cell_type": "code",
   "execution_count": 3,
   "metadata": {},
   "outputs": [],
   "source": [
    "df = pd.read_csv('/datasets/games.csv')"
   ]
  },
  {
   "cell_type": "code",
   "execution_count": 4,
   "metadata": {},
   "outputs": [
    {
     "data": {
      "text/html": [
       "<div>\n",
       "<style scoped>\n",
       "    .dataframe tbody tr th:only-of-type {\n",
       "        vertical-align: middle;\n",
       "    }\n",
       "\n",
       "    .dataframe tbody tr th {\n",
       "        vertical-align: top;\n",
       "    }\n",
       "\n",
       "    .dataframe thead th {\n",
       "        text-align: right;\n",
       "    }\n",
       "</style>\n",
       "<table border=\"1\" class=\"dataframe\">\n",
       "  <thead>\n",
       "    <tr style=\"text-align: right;\">\n",
       "      <th></th>\n",
       "      <th>Name</th>\n",
       "      <th>Platform</th>\n",
       "      <th>Year_of_Release</th>\n",
       "      <th>Genre</th>\n",
       "      <th>NA_sales</th>\n",
       "      <th>EU_sales</th>\n",
       "      <th>JP_sales</th>\n",
       "      <th>Other_sales</th>\n",
       "      <th>Critic_Score</th>\n",
       "      <th>User_Score</th>\n",
       "      <th>Rating</th>\n",
       "    </tr>\n",
       "  </thead>\n",
       "  <tbody>\n",
       "    <tr>\n",
       "      <td>0</td>\n",
       "      <td>Wii Sports</td>\n",
       "      <td>Wii</td>\n",
       "      <td>2006.0</td>\n",
       "      <td>Sports</td>\n",
       "      <td>41.36</td>\n",
       "      <td>28.96</td>\n",
       "      <td>3.77</td>\n",
       "      <td>8.45</td>\n",
       "      <td>76.0</td>\n",
       "      <td>8</td>\n",
       "      <td>E</td>\n",
       "    </tr>\n",
       "    <tr>\n",
       "      <td>1</td>\n",
       "      <td>Super Mario Bros.</td>\n",
       "      <td>NES</td>\n",
       "      <td>1985.0</td>\n",
       "      <td>Platform</td>\n",
       "      <td>29.08</td>\n",
       "      <td>3.58</td>\n",
       "      <td>6.81</td>\n",
       "      <td>0.77</td>\n",
       "      <td>NaN</td>\n",
       "      <td>NaN</td>\n",
       "      <td>NaN</td>\n",
       "    </tr>\n",
       "    <tr>\n",
       "      <td>2</td>\n",
       "      <td>Mario Kart Wii</td>\n",
       "      <td>Wii</td>\n",
       "      <td>2008.0</td>\n",
       "      <td>Racing</td>\n",
       "      <td>15.68</td>\n",
       "      <td>12.76</td>\n",
       "      <td>3.79</td>\n",
       "      <td>3.29</td>\n",
       "      <td>82.0</td>\n",
       "      <td>8.3</td>\n",
       "      <td>E</td>\n",
       "    </tr>\n",
       "    <tr>\n",
       "      <td>3</td>\n",
       "      <td>Wii Sports Resort</td>\n",
       "      <td>Wii</td>\n",
       "      <td>2009.0</td>\n",
       "      <td>Sports</td>\n",
       "      <td>15.61</td>\n",
       "      <td>10.93</td>\n",
       "      <td>3.28</td>\n",
       "      <td>2.95</td>\n",
       "      <td>80.0</td>\n",
       "      <td>8</td>\n",
       "      <td>E</td>\n",
       "    </tr>\n",
       "    <tr>\n",
       "      <td>4</td>\n",
       "      <td>Pokemon Red/Pokemon Blue</td>\n",
       "      <td>GB</td>\n",
       "      <td>1996.0</td>\n",
       "      <td>Role-Playing</td>\n",
       "      <td>11.27</td>\n",
       "      <td>8.89</td>\n",
       "      <td>10.22</td>\n",
       "      <td>1.00</td>\n",
       "      <td>NaN</td>\n",
       "      <td>NaN</td>\n",
       "      <td>NaN</td>\n",
       "    </tr>\n",
       "  </tbody>\n",
       "</table>\n",
       "</div>"
      ],
      "text/plain": [
       "                       Name Platform  Year_of_Release         Genre  NA_sales  \\\n",
       "0                Wii Sports      Wii           2006.0        Sports     41.36   \n",
       "1         Super Mario Bros.      NES           1985.0      Platform     29.08   \n",
       "2            Mario Kart Wii      Wii           2008.0        Racing     15.68   \n",
       "3         Wii Sports Resort      Wii           2009.0        Sports     15.61   \n",
       "4  Pokemon Red/Pokemon Blue       GB           1996.0  Role-Playing     11.27   \n",
       "\n",
       "   EU_sales  JP_sales  Other_sales  Critic_Score User_Score Rating  \n",
       "0     28.96      3.77         8.45          76.0          8      E  \n",
       "1      3.58      6.81         0.77           NaN        NaN    NaN  \n",
       "2     12.76      3.79         3.29          82.0        8.3      E  \n",
       "3     10.93      3.28         2.95          80.0          8      E  \n",
       "4      8.89     10.22         1.00           NaN        NaN    NaN  "
      ]
     },
     "metadata": {},
     "output_type": "display_data"
    },
    {
     "name": "stdout",
     "output_type": "stream",
     "text": [
      "<class 'pandas.core.frame.DataFrame'>\n",
      "RangeIndex: 16715 entries, 0 to 16714\n",
      "Data columns (total 11 columns):\n",
      "Name               16713 non-null object\n",
      "Platform           16715 non-null object\n",
      "Year_of_Release    16446 non-null float64\n",
      "Genre              16713 non-null object\n",
      "NA_sales           16715 non-null float64\n",
      "EU_sales           16715 non-null float64\n",
      "JP_sales           16715 non-null float64\n",
      "Other_sales        16715 non-null float64\n",
      "Critic_Score       8137 non-null float64\n",
      "User_Score         10014 non-null object\n",
      "Rating             9949 non-null object\n",
      "dtypes: float64(6), object(5)\n",
      "memory usage: 1.4+ MB\n"
     ]
    },
    {
     "data": {
      "text/plain": [
       "None"
      ]
     },
     "metadata": {},
     "output_type": "display_data"
    },
    {
     "data": {
      "text/plain": [
       "Name                  2\n",
       "Platform              0\n",
       "Year_of_Release     269\n",
       "Genre                 2\n",
       "NA_sales              0\n",
       "EU_sales              0\n",
       "JP_sales              0\n",
       "Other_sales           0\n",
       "Critic_Score       8578\n",
       "User_Score         6701\n",
       "Rating             6766\n",
       "dtype: int64"
      ]
     },
     "metadata": {},
     "output_type": "display_data"
    },
    {
     "data": {
      "text/plain": [
       "0"
      ]
     },
     "execution_count": 4,
     "metadata": {},
     "output_type": "execute_result"
    }
   ],
   "source": [
    "display(df.head())\n",
    "display(df.info())\n",
    "display(df.isna().sum())\n",
    "df.duplicated().sum()"
   ]
  },
  {
   "cell_type": "markdown",
   "metadata": {},
   "source": [
    "**Вывод:**\n",
    "\n",
    "+ Необходимо привести к правильному типу столбец `Year_of_Release`;\n",
    "+ Нужно привести к нижнему регистру столбцы нашей таблицы, а так же данные в них;\n",
    "+ Имеются пустые значения в столбцах: `Rating`, `User_Score`, `Critic_Score`.  \n",
    "  Мы можем заменить имеющиеся пустые значения в столбце `Year_of_Release`;\n",
    "+ Дубликатов нет."
   ]
  },
  {
   "cell_type": "markdown",
   "metadata": {},
   "source": [
    "**Дополнительная информация:**\n",
    "\n",
    "`Critic_Score` и `User_Score`  \n",
    "Крупнейшие платформы, освещающие рынок игр, стали появляться во второй половине 90-х (IGN - 1996, Igromania - 1997, Metacritic - 1998). Таким образом, вполне вероятно, что далеко не всем играм, выпущенным до 1996 года, критики ставили оценки. То же самое справедливо и для столбца `User_Score`. Ведь оценки играм пользователям нужно было где-то размещать в сети. Также, так как данные не за полный 2016 год, то и там логично наблюдать пустые значения.\n",
    "\n",
    "`Raiting`  \n",
    "Крупнейшая негосударственная организация (ESRB), присуждающая рейтинги играм была основана в 1994 году. Соответственно, далеко не всем играм, выпущенным до этого года, присуждался рейтинг."
   ]
  },
  {
   "cell_type": "markdown",
   "metadata": {},
   "source": [
    "## Предобработка данных"
   ]
  },
  {
   "cell_type": "markdown",
   "metadata": {},
   "source": [
    "**Выполним следующие действия:**\n",
    "\n",
    "+ Приведем к нижнему регистру названия столбцов и данные в них\n",
    "+ Изменим тип данных\n",
    "+ Заполним пропуски в столбце `Rating`\n",
    "+ Разберемся с значениями `'tbd'` в `User_Score`\n",
    "+ Добавим дополнительный столбец с суммарными продажами по всем регионам"
   ]
  },
  {
   "cell_type": "code",
   "execution_count": 5,
   "metadata": {},
   "outputs": [],
   "source": [
    "# приведем к нижнему регистру названия столбцов\n",
    "df.columns = df.columns.str.lower()"
   ]
  },
  {
   "cell_type": "code",
   "execution_count": 6,
   "metadata": {},
   "outputs": [],
   "source": [
    "# приведем к нижнему регистру данные в столбцах\n",
    "for column in df[['name','platform','genre','rating']]:\n",
    "    df[column] = df[column].str.lower()"
   ]
  },
  {
   "cell_type": "code",
   "execution_count": 7,
   "metadata": {},
   "outputs": [],
   "source": [
    "# изменим тип данных в столбце year_of_realese\n",
    "df['year_of_release'] = df['year_of_release'].astype('Int64')"
   ]
  },
  {
   "cell_type": "code",
   "execution_count": 8,
   "metadata": {},
   "outputs": [],
   "source": [
    "# цикл заполняющий пропуски в годах, для тех игр, дата релиза которых известна на других платформах\n",
    "for i in df[df['year_of_release'].isnull() == True].index:  \n",
    "    df['year_of_release'][i] = df.loc[df['name'] == df['name'][i], 'year_of_release'].max()"
   ]
  },
  {
   "cell_type": "code",
   "execution_count": 9,
   "metadata": {},
   "outputs": [],
   "source": [
    "# аббревиатура tbd (to be determined - будет определено), то же что NaN (неизвестное значение)\n",
    "df['user_score'] = df['user_score'].replace('tbd', np.nan, regex=True)"
   ]
  },
  {
   "cell_type": "code",
   "execution_count": 10,
   "metadata": {},
   "outputs": [],
   "source": [
    "# изменим тип данных в столбце user_score\n",
    "df['user_score'] = df['user_score'].astype(float)"
   ]
  },
  {
   "cell_type": "code",
   "execution_count": 11,
   "metadata": {
    "scrolled": false
   },
   "outputs": [
    {
     "data": {
      "text/html": [
       "<div>\n",
       "<style scoped>\n",
       "    .dataframe tbody tr th:only-of-type {\n",
       "        vertical-align: middle;\n",
       "    }\n",
       "\n",
       "    .dataframe tbody tr th {\n",
       "        vertical-align: top;\n",
       "    }\n",
       "\n",
       "    .dataframe thead th {\n",
       "        text-align: right;\n",
       "    }\n",
       "</style>\n",
       "<table border=\"1\" class=\"dataframe\">\n",
       "  <thead>\n",
       "    <tr style=\"text-align: right;\">\n",
       "      <th></th>\n",
       "      <th>name</th>\n",
       "      <th>platform</th>\n",
       "      <th>year_of_release</th>\n",
       "      <th>genre</th>\n",
       "      <th>na_sales</th>\n",
       "      <th>eu_sales</th>\n",
       "      <th>jp_sales</th>\n",
       "      <th>other_sales</th>\n",
       "      <th>critic_score</th>\n",
       "      <th>user_score</th>\n",
       "      <th>rating</th>\n",
       "      <th>total_sales</th>\n",
       "    </tr>\n",
       "  </thead>\n",
       "  <tbody>\n",
       "    <tr>\n",
       "      <td>0</td>\n",
       "      <td>wii sports</td>\n",
       "      <td>wii</td>\n",
       "      <td>2006</td>\n",
       "      <td>sports</td>\n",
       "      <td>41.36</td>\n",
       "      <td>28.96</td>\n",
       "      <td>3.77</td>\n",
       "      <td>8.45</td>\n",
       "      <td>76.0</td>\n",
       "      <td>8.0</td>\n",
       "      <td>e</td>\n",
       "      <td>82.54</td>\n",
       "    </tr>\n",
       "    <tr>\n",
       "      <td>1</td>\n",
       "      <td>super mario bros.</td>\n",
       "      <td>nes</td>\n",
       "      <td>1985</td>\n",
       "      <td>platform</td>\n",
       "      <td>29.08</td>\n",
       "      <td>3.58</td>\n",
       "      <td>6.81</td>\n",
       "      <td>0.77</td>\n",
       "      <td>NaN</td>\n",
       "      <td>NaN</td>\n",
       "      <td>NaN</td>\n",
       "      <td>40.24</td>\n",
       "    </tr>\n",
       "    <tr>\n",
       "      <td>2</td>\n",
       "      <td>mario kart wii</td>\n",
       "      <td>wii</td>\n",
       "      <td>2008</td>\n",
       "      <td>racing</td>\n",
       "      <td>15.68</td>\n",
       "      <td>12.76</td>\n",
       "      <td>3.79</td>\n",
       "      <td>3.29</td>\n",
       "      <td>82.0</td>\n",
       "      <td>8.3</td>\n",
       "      <td>e</td>\n",
       "      <td>35.52</td>\n",
       "    </tr>\n",
       "    <tr>\n",
       "      <td>3</td>\n",
       "      <td>wii sports resort</td>\n",
       "      <td>wii</td>\n",
       "      <td>2009</td>\n",
       "      <td>sports</td>\n",
       "      <td>15.61</td>\n",
       "      <td>10.93</td>\n",
       "      <td>3.28</td>\n",
       "      <td>2.95</td>\n",
       "      <td>80.0</td>\n",
       "      <td>8.0</td>\n",
       "      <td>e</td>\n",
       "      <td>32.77</td>\n",
       "    </tr>\n",
       "    <tr>\n",
       "      <td>4</td>\n",
       "      <td>pokemon red/pokemon blue</td>\n",
       "      <td>gb</td>\n",
       "      <td>1996</td>\n",
       "      <td>role-playing</td>\n",
       "      <td>11.27</td>\n",
       "      <td>8.89</td>\n",
       "      <td>10.22</td>\n",
       "      <td>1.00</td>\n",
       "      <td>NaN</td>\n",
       "      <td>NaN</td>\n",
       "      <td>NaN</td>\n",
       "      <td>31.38</td>\n",
       "    </tr>\n",
       "    <tr>\n",
       "      <td>5</td>\n",
       "      <td>tetris</td>\n",
       "      <td>gb</td>\n",
       "      <td>1989</td>\n",
       "      <td>puzzle</td>\n",
       "      <td>23.20</td>\n",
       "      <td>2.26</td>\n",
       "      <td>4.22</td>\n",
       "      <td>0.58</td>\n",
       "      <td>NaN</td>\n",
       "      <td>NaN</td>\n",
       "      <td>NaN</td>\n",
       "      <td>30.26</td>\n",
       "    </tr>\n",
       "    <tr>\n",
       "      <td>6</td>\n",
       "      <td>new super mario bros.</td>\n",
       "      <td>ds</td>\n",
       "      <td>2006</td>\n",
       "      <td>platform</td>\n",
       "      <td>11.28</td>\n",
       "      <td>9.14</td>\n",
       "      <td>6.50</td>\n",
       "      <td>2.88</td>\n",
       "      <td>89.0</td>\n",
       "      <td>8.5</td>\n",
       "      <td>e</td>\n",
       "      <td>29.80</td>\n",
       "    </tr>\n",
       "    <tr>\n",
       "      <td>7</td>\n",
       "      <td>wii play</td>\n",
       "      <td>wii</td>\n",
       "      <td>2006</td>\n",
       "      <td>misc</td>\n",
       "      <td>13.96</td>\n",
       "      <td>9.18</td>\n",
       "      <td>2.93</td>\n",
       "      <td>2.84</td>\n",
       "      <td>58.0</td>\n",
       "      <td>6.6</td>\n",
       "      <td>e</td>\n",
       "      <td>28.91</td>\n",
       "    </tr>\n",
       "    <tr>\n",
       "      <td>8</td>\n",
       "      <td>new super mario bros. wii</td>\n",
       "      <td>wii</td>\n",
       "      <td>2009</td>\n",
       "      <td>platform</td>\n",
       "      <td>14.44</td>\n",
       "      <td>6.94</td>\n",
       "      <td>4.70</td>\n",
       "      <td>2.24</td>\n",
       "      <td>87.0</td>\n",
       "      <td>8.4</td>\n",
       "      <td>e</td>\n",
       "      <td>28.32</td>\n",
       "    </tr>\n",
       "    <tr>\n",
       "      <td>9</td>\n",
       "      <td>duck hunt</td>\n",
       "      <td>nes</td>\n",
       "      <td>1984</td>\n",
       "      <td>shooter</td>\n",
       "      <td>26.93</td>\n",
       "      <td>0.63</td>\n",
       "      <td>0.28</td>\n",
       "      <td>0.47</td>\n",
       "      <td>NaN</td>\n",
       "      <td>NaN</td>\n",
       "      <td>NaN</td>\n",
       "      <td>28.31</td>\n",
       "    </tr>\n",
       "  </tbody>\n",
       "</table>\n",
       "</div>"
      ],
      "text/plain": [
       "                        name platform  year_of_release         genre  \\\n",
       "0                 wii sports      wii             2006        sports   \n",
       "1          super mario bros.      nes             1985      platform   \n",
       "2             mario kart wii      wii             2008        racing   \n",
       "3          wii sports resort      wii             2009        sports   \n",
       "4   pokemon red/pokemon blue       gb             1996  role-playing   \n",
       "5                     tetris       gb             1989        puzzle   \n",
       "6      new super mario bros.       ds             2006      platform   \n",
       "7                   wii play      wii             2006          misc   \n",
       "8  new super mario bros. wii      wii             2009      platform   \n",
       "9                  duck hunt      nes             1984       shooter   \n",
       "\n",
       "   na_sales  eu_sales  jp_sales  other_sales  critic_score  user_score rating  \\\n",
       "0     41.36     28.96      3.77         8.45          76.0         8.0      e   \n",
       "1     29.08      3.58      6.81         0.77           NaN         NaN    NaN   \n",
       "2     15.68     12.76      3.79         3.29          82.0         8.3      e   \n",
       "3     15.61     10.93      3.28         2.95          80.0         8.0      e   \n",
       "4     11.27      8.89     10.22         1.00           NaN         NaN    NaN   \n",
       "5     23.20      2.26      4.22         0.58           NaN         NaN    NaN   \n",
       "6     11.28      9.14      6.50         2.88          89.0         8.5      e   \n",
       "7     13.96      9.18      2.93         2.84          58.0         6.6      e   \n",
       "8     14.44      6.94      4.70         2.24          87.0         8.4      e   \n",
       "9     26.93      0.63      0.28         0.47           NaN         NaN    NaN   \n",
       "\n",
       "   total_sales  \n",
       "0        82.54  \n",
       "1        40.24  \n",
       "2        35.52  \n",
       "3        32.77  \n",
       "4        31.38  \n",
       "5        30.26  \n",
       "6        29.80  \n",
       "7        28.91  \n",
       "8        28.32  \n",
       "9        28.31  "
      ]
     },
     "execution_count": 11,
     "metadata": {},
     "output_type": "execute_result"
    }
   ],
   "source": [
    "# добавим столбец с суммарными продажами по всем регионам\n",
    "df['total_sales'] = df['na_sales'] + df['eu_sales'] + df['jp_sales'] + df['other_sales']\n",
    "\n",
    "df.head(10)"
   ]
  },
  {
   "cell_type": "code",
   "execution_count": 12,
   "metadata": {
    "scrolled": true
   },
   "outputs": [
    {
     "name": "stdout",
     "output_type": "stream",
     "text": [
      "<class 'pandas.core.frame.DataFrame'>\n",
      "RangeIndex: 16715 entries, 0 to 16714\n",
      "Data columns (total 12 columns):\n",
      "name               16713 non-null object\n",
      "platform           16715 non-null object\n",
      "year_of_release    16569 non-null Int64\n",
      "genre              16713 non-null object\n",
      "na_sales           16715 non-null float64\n",
      "eu_sales           16715 non-null float64\n",
      "jp_sales           16715 non-null float64\n",
      "other_sales        16715 non-null float64\n",
      "critic_score       8137 non-null float64\n",
      "user_score         7590 non-null float64\n",
      "rating             9949 non-null object\n",
      "total_sales        16715 non-null float64\n",
      "dtypes: Int64(1), float64(7), object(4)\n",
      "memory usage: 1.5+ MB\n"
     ]
    }
   ],
   "source": [
    "df.info()"
   ]
  },
  {
   "cell_type": "markdown",
   "metadata": {},
   "source": [
    "**Вывод:**\n",
    "\n",
    "Мы заменили пропущенные значения в столбце `year_of_release`. Что касается остальных пропусков, для их заполнения у нас недостаточно данных. Поэтому, лучше будем работать с меньшим количеством данных но хорошего качества. В остальном же, ошибки в данных устранены. Данные подготовлены к дальнейшему анализу."
   ]
  },
  {
   "cell_type": "markdown",
   "metadata": {},
   "source": [
    "## Анализ данных"
   ]
  },
  {
   "cell_type": "markdown",
   "metadata": {},
   "source": [
    "**Выполним следующие действия:**\n",
    "\n",
    "+ Посмотрим сколько игр выпускалось в разные годы\n",
    "+ Выясним как менялись продажи по платформам\n",
    "+ Возьмем данные за актуальный период и сделаем прогноз на 2017 год\n",
    "+ Выберем несколько прибыльных платформ\n",
    "+ Узнаем как влияют оценки пользователей и критиков на игровую индустрию"
   ]
  },
  {
   "cell_type": "markdown",
   "metadata": {},
   "source": [
    "**Посмотрим:**\n",
    "+ Сколько игр выпускалось в разные годы."
   ]
  },
  {
   "cell_type": "code",
   "execution_count": 13,
   "metadata": {},
   "outputs": [
    {
     "data": {
      "image/png": "[encoded data removed]",
      "text/plain": [
       "<Figure size 864x432 with 1 Axes>"
      ]
     },
     "metadata": {
      "needs_background": "light"
     },
     "output_type": "display_data"
    }
   ],
   "source": [
    "games_on_period = df.pivot_table(index='year_of_release',\n",
    "                                 values='name',\n",
    "                                 aggfunc='count')\n",
    "\n",
    "plt.figure(figsize=(12,6))\n",
    "sns.lineplot(data=games_on_period)\n",
    "\n",
    "plt.title(\"Количество игр выпускаемые в разные года\")\n",
    "plt.xlabel(\"Год выпуска\")\n",
    "plt.ylabel(\"Количество выпущенных игр\")\n",
    "plt.legend('')\n",
    "plt.show()"
   ]
  },
  {
   "cell_type": "markdown",
   "metadata": {},
   "source": [
    "**Вывод:**\n",
    "\n",
    "+ Из графика видно, что количество игр для консолей и компьютеров начало расти с большой скоростью с 90-х годов до 2008 года; \n",
    "+ С 2008 года, после того как массово начали создавать мобильные приложения и игры, виден резкий спад консольных игр."
   ]
  },
  {
   "cell_type": "markdown",
   "metadata": {},
   "source": [
    "**Посмотрим:**\n",
    "+ Как менялись продажи по платформам.  \n",
    "  Выберем платформы с наибольшими суммарными продажами и построим распределение по годам;\n",
    "+ Возьмем данные за соответствующий актуальный период. Эти данные помогут построить прогноз на 2017 год;\n",
    "+ Выберем несколько потенциально прибыльных платформ."
   ]
  },
  {
   "cell_type": "code",
   "execution_count": 14,
   "metadata": {},
   "outputs": [
    {
     "data": {
      "image/png": "[encoded data removed]",
      "text/plain": [
       "<Figure size 936x432 with 1 Axes>"
      ]
     },
     "metadata": {
      "needs_background": "light"
     },
     "output_type": "display_data"
    }
   ],
   "source": [
    "platform_on_sales = df.pivot_table(index='platform',\n",
    "                                   values='total_sales',\n",
    "                                   aggfunc='sum').sort_values(by='total_sales', ascending=False)\n",
    "\n",
    "plt.figure(figsize=(13,6))\n",
    "sns.barplot(x=platform_on_sales.index,\n",
    "            y=platform_on_sales['total_sales'],\n",
    "            palette='cividis_r')\n",
    "\n",
    "plt.title(\"Продажи по платформам за весь период\")\n",
    "plt.xlabel(\"Название платформы\")\n",
    "plt.ylabel(\"Количество продаж\")\n",
    "plt.show()"
   ]
  },
  {
   "cell_type": "markdown",
   "metadata": {},
   "source": [
    "Из графика видно, что самые популярные игровые платформы за весь период это:\n",
    "+ `PS2`;\n",
    "+ `X360`;\n",
    "+ `PS3`;\n",
    "+ `WII`;\n",
    "+ `DS`;\n",
    "+ `PS`."
   ]
  },
  {
   "cell_type": "code",
   "execution_count": 15,
   "metadata": {},
   "outputs": [
    {
     "data": {
      "text/plain": [
       "array(['ps2', 'x360', 'ps3', 'wii', 'ds', 'ps', 'gba', 'ps4', 'psp', 'pc',\n",
       "       '3ds', 'xb', 'gb', 'nes', 'n64', 'snes', 'gc', 'xone', '2600',\n",
       "       'wiiu', 'psv', 'sat', 'gen', 'dc', 'scd', 'ng', 'ws', 'tg16',\n",
       "       '3do', 'gg', 'pcfx'], dtype=object)"
      ]
     },
     "execution_count": 15,
     "metadata": {},
     "output_type": "execute_result"
    }
   ],
   "source": [
    "platform_grouped = platform_on_sales.reset_index()\n",
    "platforms_list = platform_grouped['platform'].unique()\n",
    "platforms_list"
   ]
  },
  {
   "cell_type": "code",
   "execution_count": 16,
   "metadata": {
    "scrolled": false
   },
   "outputs": [
    {
     "data": {
      "image/png": "[encoded data removed]",
      "text/plain": [
       "<Figure size 936x288 with 1 Axes>"
      ]
     },
     "metadata": {
      "needs_background": "light"
     },
     "output_type": "display_data"
    },
    {
     "data": {
      "image/png": "[encoded data removed]",
      "text/plain": [
       "<Figure size 936x288 with 1 Axes>"
      ]
     },
     "metadata": {
      "needs_background": "light"
     },
     "output_type": "display_data"
    },
    {
     "data": {
      "image/png": "[encoded data removed]",
      "text/plain": [
       "<Figure size 936x288 with 1 Axes>"
      ]
     },
     "metadata": {
      "needs_background": "light"
     },
     "output_type": "display_data"
    },
    {
     "data": {
      "image/png": "[encoded data removed]",
      "text/plain": [
       "<Figure size 936x288 with 1 Axes>"
      ]
     },
     "metadata": {
      "needs_background": "light"
     },
     "output_type": "display_data"
    },
    {
     "data": {
      "image/png": "[encoded data removed]",
      "text/plain": [
       "<Figure size 936x288 with 1 Axes>"
      ]
     },
     "metadata": {
      "needs_background": "light"
     },
     "output_type": "display_data"
    },
    {
     "data": {
      "image/png": "[encoded data removed]",
      "text/plain": [
       "<Figure size 936x288 with 1 Axes>"
      ]
     },
     "metadata": {
      "needs_background": "light"
     },
     "output_type": "display_data"
    },
    {
     "data": {
      "image/png": "[encoded data removed]",
      "text/plain": [
       "<Figure size 936x288 with 1 Axes>"
      ]
     },
     "metadata": {
      "needs_background": "light"
     },
     "output_type": "display_data"
    },
    {
     "data": {
      "image/png": "[encoded data removed]",
      "text/plain": [
       "<Figure size 936x288 with 1 Axes>"
      ]
     },
     "metadata": {
      "needs_background": "light"
     },
     "output_type": "display_data"
    },
    {
     "data": {
      "image/png": "[encoded data removed]",
      "text/plain": [
       "<Figure size 936x288 with 1 Axes>"
      ]
     },
     "metadata": {
      "needs_background": "light"
     },
     "output_type": "display_data"
    },
    {
     "data": {
      "image/png": "[encoded data removed]",
      "text/plain": [
       "<Figure size 936x288 with 1 Axes>"
      ]
     },
     "metadata": {
      "needs_background": "light"
     },
     "output_type": "display_data"
    },
    {
     "data": {
      "image/png": "[encoded data removed]",
      "text/plain": [
       "<Figure size 936x288 with 1 Axes>"
      ]
     },
     "metadata": {
      "needs_background": "light"
     },
     "output_type": "display_data"
    },
    {
     "data": {
      "image/png": "[encoded data removed]",
      "text/plain": [
       "<Figure size 936x288 with 1 Axes>"
      ]
     },
     "metadata": {
      "needs_background": "light"
     },
     "output_type": "display_data"
    },
    {
     "data": {
      "image/png": "[encoded data removed]",
      "text/plain": [
       "<Figure size 936x288 with 1 Axes>"
      ]
     },
     "metadata": {
      "needs_background": "light"
     },
     "output_type": "display_data"
    },
    {
     "data": {
      "image/png": "[encoded data removed]",
      "text/plain": [
       "<Figure size 936x288 with 1 Axes>"
      ]
     },
     "metadata": {
      "needs_background": "light"
     },
     "output_type": "display_data"
    },
    {
     "data": {
      "image/png": "[encoded data removed]",
      "text/plain": [
       "<Figure size 936x288 with 1 Axes>"
      ]
     },
     "metadata": {
      "needs_background": "light"
     },
     "output_type": "display_data"
    },
    {
     "data": {
      "image/png": "[encoded data removed]",
      "text/plain": [
       "<Figure size 936x288 with 1 Axes>"
      ]
     },
     "metadata": {
      "needs_background": "light"
     },
     "output_type": "display_data"
    },
    {
     "data": {
      "image/png": "[encoded data removed]",
      "text/plain": [
       "<Figure size 936x288 with 1 Axes>"
      ]
     },
     "metadata": {
      "needs_background": "light"
     },
     "output_type": "display_data"
    },
    {
     "data": {
      "image/png": "[encoded data removed]",
      "text/plain": [
       "<Figure size 936x288 with 1 Axes>"
      ]
     },
     "metadata": {
      "needs_background": "light"
     },
     "output_type": "display_data"
    },
    {
     "data": {
      "image/png": "[encoded data removed]",
      "text/plain": [
       "<Figure size 936x288 with 1 Axes>"
      ]
     },
     "metadata": {
      "needs_background": "light"
     },
     "output_type": "display_data"
    },
    {
     "data": {
      "image/png": "[encoded data removed]",
      "text/plain": [
       "<Figure size 936x288 with 1 Axes>"
      ]
     },
     "metadata": {
      "needs_background": "light"
     },
     "output_type": "display_data"
    },
    {
     "data": {
      "image/png": "[encoded data removed]",
      "text/plain": [
       "<Figure size 936x288 with 1 Axes>"
      ]
     },
     "metadata": {
      "needs_background": "light"
     },
     "output_type": "display_data"
    },
    {
     "data": {
      "image/png": "[encoded data removed]",
      "text/plain": [
       "<Figure size 936x288 with 1 Axes>"
      ]
     },
     "metadata": {
      "needs_background": "light"
     },
     "output_type": "display_data"
    },
    {
     "data": {
      "image/png": "[encoded data removed]",
      "text/plain": [
       "<Figure size 936x288 with 1 Axes>"
      ]
     },
     "metadata": {
      "needs_background": "light"
     },
     "output_type": "display_data"
    },
    {
     "data": {
      "image/png": "[encoded data removed]",
      "text/plain": [
       "<Figure size 936x288 with 1 Axes>"
      ]
     },
     "metadata": {
      "needs_background": "light"
     },
     "output_type": "display_data"
    },
    {
     "data": {
      "image/png": "[encoded data removed]",
      "text/plain": [
       "<Figure size 936x288 with 1 Axes>"
      ]
     },
     "metadata": {
      "needs_background": "light"
     },
     "output_type": "display_data"
    },
    {
     "data": {
      "image/png": "[encoded data removed]",
      "text/plain": [
       "<Figure size 936x288 with 1 Axes>"
      ]
     },
     "metadata": {
      "needs_background": "light"
     },
     "output_type": "display_data"
    },
    {
     "data": {
      "image/png": "[encoded data removed]",
      "text/plain": [
       "<Figure size 936x288 with 1 Axes>"
      ]
     },
     "metadata": {
      "needs_background": "light"
     },
     "output_type": "display_data"
    },
    {
     "data": {
      "image/png": "[encoded data removed]",
      "text/plain": [
       "<Figure size 936x288 with 1 Axes>"
      ]
     },
     "metadata": {
      "needs_background": "light"
     },
     "output_type": "display_data"
    },
    {
     "data": {
      "image/png": "[encoded data removed]",
      "text/plain": [
       "<Figure size 936x288 with 1 Axes>"
      ]
     },
     "metadata": {
      "needs_background": "light"
     },
     "output_type": "display_data"
    },
    {
     "data": {
      "image/png": "[encoded data removed]",
      "text/plain": [
       "<Figure size 936x288 with 1 Axes>"
      ]
     },
     "metadata": {
      "needs_background": "light"
     },
     "output_type": "display_data"
    },
    {
     "data": {
      "image/png": "[encoded data removed]",
      "text/plain": [
       "<Figure size 936x288 with 1 Axes>"
      ]
     },
     "metadata": {
      "needs_background": "light"
     },
     "output_type": "display_data"
    }
   ],
   "source": [
    "# построим распределения по годам для каждой платформы.\n",
    "for platform in platforms_list:\n",
    "    df[df['platform'] == platform].pivot_table(index='year_of_release',\n",
    "                                                     values='total_sales',\n",
    "                                                     aggfunc='sum') \\\n",
    "                                  .plot(kind='bar',\n",
    "                                        figsize=(13,4))\n",
    "    plt.title(platform)"
   ]
  },
  {
   "cell_type": "code",
   "execution_count": 17,
   "metadata": {},
   "outputs": [
    {
     "data": {
      "text/html": [
       "<div>\n",
       "<style scoped>\n",
       "    .dataframe tbody tr th:only-of-type {\n",
       "        vertical-align: middle;\n",
       "    }\n",
       "\n",
       "    .dataframe tbody tr th {\n",
       "        vertical-align: top;\n",
       "    }\n",
       "\n",
       "    .dataframe thead th {\n",
       "        text-align: right;\n",
       "    }\n",
       "</style>\n",
       "<table border=\"1\" class=\"dataframe\">\n",
       "  <thead>\n",
       "    <tr style=\"text-align: right;\">\n",
       "      <th></th>\n",
       "      <th>platform</th>\n",
       "      <th>total_sales</th>\n",
       "    </tr>\n",
       "  </thead>\n",
       "  <tbody>\n",
       "    <tr>\n",
       "      <td>0</td>\n",
       "      <td>ps2</td>\n",
       "      <td>1255.77</td>\n",
       "    </tr>\n",
       "    <tr>\n",
       "      <td>1</td>\n",
       "      <td>x360</td>\n",
       "      <td>971.42</td>\n",
       "    </tr>\n",
       "    <tr>\n",
       "      <td>2</td>\n",
       "      <td>ps3</td>\n",
       "      <td>939.65</td>\n",
       "    </tr>\n",
       "    <tr>\n",
       "      <td>3</td>\n",
       "      <td>wii</td>\n",
       "      <td>907.51</td>\n",
       "    </tr>\n",
       "    <tr>\n",
       "      <td>4</td>\n",
       "      <td>ds</td>\n",
       "      <td>806.12</td>\n",
       "    </tr>\n",
       "  </tbody>\n",
       "</table>\n",
       "</div>"
      ],
      "text/plain": [
       "  platform  total_sales\n",
       "0      ps2      1255.77\n",
       "1     x360       971.42\n",
       "2      ps3       939.65\n",
       "3      wii       907.51\n",
       "4       ds       806.12"
      ]
     },
     "execution_count": 17,
     "metadata": {},
     "output_type": "execute_result"
    }
   ],
   "source": [
    "# создадим свою таблицу по платформам и их обшим продажам, отсортируем их по убыванию и оставим только топ-5\n",
    "top_5_platforms = df.pivot_table(index='platform',\n",
    "                                 values='total_sales',\n",
    "                                 aggfunc='sum').sort_values(by='total_sales', ascending=False).head(5)\n",
    "top_5_platforms = top_5_platforms.reset_index().rename_axis(None, axis=1)\n",
    "\n",
    "# топ-5 продаваемых платформ\n",
    "top_5_platforms"
   ]
  },
  {
   "cell_type": "markdown",
   "metadata": {},
   "source": [
    "**Вывод:**\n",
    "\n",
    "- Практически все игровые платформы в среднем существуют по 10 лет; \n",
    "- Cамые продаваемые это `Sony PlayStation` и `XBOX`;\n",
    "- Самый пик наступает примерно через 5 лет после выхода приставки;\n",
    "- у `Nintento WII` был быстрый скачок в 2009 году и такой же резкий провал;\n",
    "- Пятерка лидирующих по продажам за всё время платформ в нашем датасете теряет свое могущество на момент 2016 года;\n",
    "- Из тех, кто продолжает оставаться на плаву в 2016 году, можно отметить: `PS4`, `PC`, `Nintendo 3DS`, `XBOX One`, `Nintendo Wii U`, `PlayStation Vita`."
   ]
  },
  {
   "cell_type": "markdown",
   "metadata": {},
   "source": [
    "**Определим период, за который нужно взять данные для дальнейшего исследования:**\n",
    "\n",
    "- Сейчас у нас выделяются 3 явных этапа развития индустрии: рост до 2008 года, пик 2008 и 2009 годов, а также сокращение рынка последних годов.\n",
    "- Также большей части платформ уже нет в 2016 году, в построении прогноза на 2017 год они нам не помогут.\n",
    "- При уменьшении периода в рассмотрение попадут только последние поколения платформ, а также будем рассматривать период не больше 3-х лет."
   ]
  },
  {
   "cell_type": "code",
   "execution_count": 18,
   "metadata": {},
   "outputs": [
    {
     "data": {
      "text/html": [
       "<div>\n",
       "<style scoped>\n",
       "    .dataframe tbody tr th:only-of-type {\n",
       "        vertical-align: middle;\n",
       "    }\n",
       "\n",
       "    .dataframe tbody tr th {\n",
       "        vertical-align: top;\n",
       "    }\n",
       "\n",
       "    .dataframe thead th {\n",
       "        text-align: right;\n",
       "    }\n",
       "</style>\n",
       "<table border=\"1\" class=\"dataframe\">\n",
       "  <thead>\n",
       "    <tr style=\"text-align: right;\">\n",
       "      <th></th>\n",
       "      <th>name</th>\n",
       "      <th>platform</th>\n",
       "      <th>year_of_release</th>\n",
       "      <th>genre</th>\n",
       "      <th>na_sales</th>\n",
       "      <th>eu_sales</th>\n",
       "      <th>jp_sales</th>\n",
       "      <th>other_sales</th>\n",
       "      <th>critic_score</th>\n",
       "      <th>user_score</th>\n",
       "      <th>rating</th>\n",
       "      <th>total_sales</th>\n",
       "    </tr>\n",
       "  </thead>\n",
       "  <tbody>\n",
       "    <tr>\n",
       "      <td>0</td>\n",
       "      <td>call of duty: black ops 3</td>\n",
       "      <td>ps4</td>\n",
       "      <td>2015</td>\n",
       "      <td>shooter</td>\n",
       "      <td>6.03</td>\n",
       "      <td>5.86</td>\n",
       "      <td>0.36</td>\n",
       "      <td>2.38</td>\n",
       "      <td>NaN</td>\n",
       "      <td>NaN</td>\n",
       "      <td>NaN</td>\n",
       "      <td>14.63</td>\n",
       "    </tr>\n",
       "    <tr>\n",
       "      <td>1</td>\n",
       "      <td>grand theft auto v</td>\n",
       "      <td>ps4</td>\n",
       "      <td>2014</td>\n",
       "      <td>action</td>\n",
       "      <td>3.96</td>\n",
       "      <td>6.31</td>\n",
       "      <td>0.38</td>\n",
       "      <td>1.97</td>\n",
       "      <td>97.0</td>\n",
       "      <td>8.3</td>\n",
       "      <td>m</td>\n",
       "      <td>12.62</td>\n",
       "    </tr>\n",
       "    <tr>\n",
       "      <td>2</td>\n",
       "      <td>pokemon omega ruby/pokemon alpha sapphire</td>\n",
       "      <td>3ds</td>\n",
       "      <td>2014</td>\n",
       "      <td>role-playing</td>\n",
       "      <td>4.35</td>\n",
       "      <td>3.49</td>\n",
       "      <td>3.10</td>\n",
       "      <td>0.74</td>\n",
       "      <td>NaN</td>\n",
       "      <td>NaN</td>\n",
       "      <td>NaN</td>\n",
       "      <td>11.68</td>\n",
       "    </tr>\n",
       "    <tr>\n",
       "      <td>3</td>\n",
       "      <td>fifa 16</td>\n",
       "      <td>ps4</td>\n",
       "      <td>2015</td>\n",
       "      <td>sports</td>\n",
       "      <td>1.12</td>\n",
       "      <td>6.12</td>\n",
       "      <td>0.06</td>\n",
       "      <td>1.28</td>\n",
       "      <td>82.0</td>\n",
       "      <td>4.3</td>\n",
       "      <td>e</td>\n",
       "      <td>8.58</td>\n",
       "    </tr>\n",
       "    <tr>\n",
       "      <td>4</td>\n",
       "      <td>star wars battlefront (2015)</td>\n",
       "      <td>ps4</td>\n",
       "      <td>2015</td>\n",
       "      <td>shooter</td>\n",
       "      <td>2.99</td>\n",
       "      <td>3.49</td>\n",
       "      <td>0.22</td>\n",
       "      <td>1.28</td>\n",
       "      <td>NaN</td>\n",
       "      <td>NaN</td>\n",
       "      <td>NaN</td>\n",
       "      <td>7.98</td>\n",
       "    </tr>\n",
       "  </tbody>\n",
       "</table>\n",
       "</div>"
      ],
      "text/plain": [
       "                                        name platform  year_of_release  \\\n",
       "0                  call of duty: black ops 3      ps4             2015   \n",
       "1                         grand theft auto v      ps4             2014   \n",
       "2  pokemon omega ruby/pokemon alpha sapphire      3ds             2014   \n",
       "3                                    fifa 16      ps4             2015   \n",
       "4               star wars battlefront (2015)      ps4             2015   \n",
       "\n",
       "          genre  na_sales  eu_sales  jp_sales  other_sales  critic_score  \\\n",
       "0       shooter      6.03      5.86      0.36         2.38           NaN   \n",
       "1        action      3.96      6.31      0.38         1.97          97.0   \n",
       "2  role-playing      4.35      3.49      3.10         0.74           NaN   \n",
       "3        sports      1.12      6.12      0.06         1.28          82.0   \n",
       "4       shooter      2.99      3.49      0.22         1.28           NaN   \n",
       "\n",
       "   user_score rating  total_sales  \n",
       "0         NaN    NaN        14.63  \n",
       "1         8.3      m        12.62  \n",
       "2         NaN    NaN        11.68  \n",
       "3         4.3      e         8.58  \n",
       "4         NaN    NaN         7.98  "
      ]
     },
     "execution_count": 18,
     "metadata": {},
     "output_type": "execute_result"
    }
   ],
   "source": [
    "df = df[df['year_of_release'] > 2013].reset_index(drop=True)\n",
    "df.head()"
   ]
  },
  {
   "cell_type": "code",
   "execution_count": 19,
   "metadata": {},
   "outputs": [
    {
     "data": {
      "text/plain": [
       "ps4     376\n",
       "psv     295\n",
       "xone    228\n",
       "ps3     219\n",
       "3ds     212\n",
       "pc      152\n",
       "x360    111\n",
       "wiiu     73\n",
       "psp      13\n",
       "wii      11\n",
       "Name: platform, dtype: int64"
      ]
     },
     "execution_count": 19,
     "metadata": {},
     "output_type": "execute_result"
    }
   ],
   "source": [
    "df.platform.value_counts()"
   ]
  },
  {
   "cell_type": "markdown",
   "metadata": {},
   "source": [
    "**Построим график «ящик с усами» по глобальным продажам игр в разбивке по платформам:**"
   ]
  },
  {
   "cell_type": "code",
   "execution_count": 20,
   "metadata": {},
   "outputs": [],
   "source": [
    "# сохраним в переменной df_top_5_platforms топ 5 платформ и избавимся от выбросов\n",
    "list_of_top5 = ['ps4', 'xone', 'psv', 'pc', '3ds']\n",
    "df_top_5_platforms = df[df['platform'].isin(['ps4', 'xone', 'psv', 'pc', '3ds'])]\n",
    "df_top_5_platforms = df_top_5_platforms[df_top_5_platforms['total_sales'] < 1.4]"
   ]
  },
  {
   "cell_type": "code",
   "execution_count": 21,
   "metadata": {},
   "outputs": [
    {
     "data": {
      "image/png": "[encoded data removed]",
      "text/plain": [
       "<Figure size 864x720 with 1 Axes>"
      ]
     },
     "metadata": {
      "needs_background": "light"
     },
     "output_type": "display_data"
    }
   ],
   "source": [
    "plt.figure(figsize=(12,10))\n",
    "sns.boxplot(data=df_top_5_platforms,\n",
    "            x='platform',\n",
    "            y='total_sales')\n",
    "\n",
    "plt.title('Ящик с усами', fontsize=12)\n",
    "plt.xlabel('Платформа', fontsize=12)\n",
    "plt.ylabel('Глобальные продажи',fontsize=12)\n",
    "plt.show()"
   ]
  },
  {
   "cell_type": "markdown",
   "metadata": {},
   "source": [
    "**Вывод:**\n",
    "\n",
    "- Исходя из графиков видно, что медиана протекает у всех по разному\n",
    "- Больше всех продаж у `XOne`, затем `PS4`, после `3DS`, `PC` и `PSV` на последнем месте."
   ]
  },
  {
   "cell_type": "markdown",
   "metadata": {},
   "source": [
    "**Посмотрим, как влияют на продажи внутри одной популярной платформы отзывы пользователей и критиков:**\n",
    "+ построем диаграмму рассеяния;\n",
    "+ посчитаем корреляцию между отзывами и продажами. "
   ]
  },
  {
   "cell_type": "code",
   "execution_count": 22,
   "metadata": {},
   "outputs": [
    {
     "data": {
      "image/png": "[encoded data removed]",
      "text/plain": [
       "<Figure size 864x432 with 1 Axes>"
      ]
     },
     "metadata": {
      "needs_background": "light"
     },
     "output_type": "display_data"
    }
   ],
   "source": [
    "# диаграмма рассеяния по оценкам пользователей\n",
    "xbox_one = df[df['platform']=='xone']\n",
    "\n",
    "plt.figure(figsize=(12,6))\n",
    "sns.scatterplot(x='user_score',\n",
    "                y='total_sales',\n",
    "                alpha=0.5,\n",
    "                color='black',\n",
    "                data=xbox_one)\n",
    "\n",
    "plt.title('user_score_xone')\n",
    "plt.show()"
   ]
  },
  {
   "cell_type": "code",
   "execution_count": 23,
   "metadata": {},
   "outputs": [
    {
     "data": {
      "text/plain": [
       "-0.07"
      ]
     },
     "execution_count": 23,
     "metadata": {},
     "output_type": "execute_result"
    }
   ],
   "source": [
    "# корреляция между оценками пользователей и продажами \n",
    "round(xbox_one['user_score'].corr(xbox_one['total_sales']), 2)"
   ]
  },
  {
   "cell_type": "code",
   "execution_count": 24,
   "metadata": {},
   "outputs": [
    {
     "data": {
      "image/png": "[encoded data removed]",
      "text/plain": [
       "<Figure size 864x432 with 1 Axes>"
      ]
     },
     "metadata": {
      "needs_background": "light"
     },
     "output_type": "display_data"
    }
   ],
   "source": [
    "# диаграмма рассеяния по оценкам критиков \n",
    "plt.figure(figsize=(12,6))\n",
    "sns.scatterplot(x='critic_score',\n",
    "                y='total_sales',\n",
    "                alpha=0.5,\n",
    "                color='orange',\n",
    "                data=xbox_one)\n",
    "plt.title('critic_score_xone')\n",
    "plt.show()"
   ]
  },
  {
   "cell_type": "code",
   "execution_count": 25,
   "metadata": {},
   "outputs": [
    {
     "data": {
      "text/plain": [
       "0.43"
      ]
     },
     "execution_count": 25,
     "metadata": {},
     "output_type": "execute_result"
    }
   ],
   "source": [
    "# корреляция между оценкой критиков и продажам\n",
    "round(xbox_one['critic_score'].corr(xbox_one['total_sales']), 2)"
   ]
  },
  {
   "cell_type": "markdown",
   "metadata": {},
   "source": [
    "**Соотнесем выводы с продажами игр на других платформах:**"
   ]
  },
  {
   "cell_type": "code",
   "execution_count": 26,
   "metadata": {},
   "outputs": [],
   "source": [
    "def other_platform_matrix(name_of_platform):\n",
    "    platform = df[df['platform']==name_of_platform]\n",
    "    fig, ax = plt.subplots(1 ,2, figsize=(15,5))\n",
    "    sns.scatterplot(x='user_score', y='total_sales', alpha=0.5, data=platform, color='black', ax=ax[0])\n",
    "    sns.scatterplot(x='critic_score', y='total_sales', alpha=0.5, data=platform, color='orange', ax=ax[1])\n",
    "    fig.suptitle(name_of_platform, fontsize=15)\n",
    "    ax[0].set(xlabel='Оценка пользователей')\n",
    "    ax[1].set(xlabel='Оценка критиков')\n",
    "    ax[0].set(ylabel='Количество продаж')\n",
    "    ax[1].set(ylabel='Количество продаж')\n",
    "    plt.show()\n",
    "    \n",
    "    correl = round(platform['user_score'].corr(platform['total_sales']), 2)\n",
    "    critic_correl = round(platform['critic_score'].corr(platform['total_sales']), 2)\n",
    "    \n",
    "    if 0.3 >= correl >= 0.1:\n",
    "        print('Корреляция между отзывами пользователей и продажами ', name_of_platform.upper(), ': Слабая', correl)\n",
    "    if 0.5 >= correl >= 0.3:\n",
    "        print('Корреляция между отзывами пользователей и продажами ', name_of_platform.upper(), ': Умеренная', correl)\n",
    "    if 0.7 >= correl >= 0.5:\n",
    "        print('Корреляция между отзывами пользователей и продажами ', name_of_platform.upper(), ': Высокая', correl)\n",
    "    if 0.9 >= correl >= 0.7:\n",
    "        print('Корреляция между отзывами пользователей и продажами ', name_of_platform.upper(), ': Весьма высокая', correl)\n",
    "    if 1 >= correl >= 0.9:\n",
    "        print('Корреляция между отзывами пользователей и продажами ', name_of_platform.upper(), ': Сильная', correl)\n",
    "    \n",
    "    if 0.1 >= correl >= -0.1:\n",
    "        print('Корреляция между отзывами пользователей и продажами ', name_of_platform.upper(), ': Корреляция не выявлена', correl)\n",
    "    if -0.1 >= correl >= -0.3:\n",
    "        print('Корреляция между отзывами пользователей и продажами ', name_of_platform.upper(), ': Слабая обратная', correl)\n",
    "    if -0.3 >= correl >= -0.5:\n",
    "        print('Корреляция между отзывами пользователей и продажами ', name_of_platform.upper(), ': Умеренная обратная', correl)\n",
    "    if -0.5 >= correl >= -0.7:\n",
    "        print('Корреляция между отзывами пользователей и продажами ', name_of_platform.upper(), ': Высокая обратная', correl)\n",
    "    if -0.7 >= correl >= -0.9:\n",
    "        print('Корреляция между отзывами пользователей и продажами ', name_of_platform.upper(), ': Весьма высокая обратная', correl)\n",
    "    if -0.9 >= correl >= -1:\n",
    "        print('Корреляция между отзывами пользователей и продажами ', name_of_platform.upper(), ': Сильная обратная', correl)\n",
    "        \n",
    "    if 0.3 >= critic_correl >= 0.1:\n",
    "        print('Корреляция между отзывами критиков и игровой платформой ', name_of_platform.upper(), ': Слабая', critic_correl)\n",
    "    if 0.5 >= critic_correl >= 0.3:\n",
    "        print('Корреляция между отзывами критиков и игровой платформой ', name_of_platform.upper(), ': Умеренная', critic_correl)\n",
    "    if 0.7 >= critic_correl >= 0.5:\n",
    "        print('Корреляция между отзывами критиков и игровой платформой ', name_of_platform.upper(), ': Высокая', critic_correl)\n",
    "    if 0.9 >= critic_correl >= 0.7:\n",
    "        print('Корреляция между отзывами критиков и игровой платформой ', name_of_platform.upper(), ': Весьма высокая', critic_correl)\n",
    "    if 1 >= critic_correl >= 0.9:\n",
    "        print('Корреляция между отзывами критиков и игровой платформой ', name_of_platform.upper(), ': Сильная', critic_correl)\n",
    "    \n",
    "    if 0.1 >= critic_correl >= -0.1:\n",
    "        print('Корреляция между отзывами критиков и игровой платформой ', name_of_platform.upper(), ': Корреляция не выявлена', critic_correl)\n",
    "    if -0.1 >= critic_correl >= -0.3:\n",
    "        print('Корреляция между отзывами критиков и игровой платформой ', name_of_platform.upper(), ': Слабая обратная', critic_correl)\n",
    "    if -0.3 >= critic_correl >= -0.5:\n",
    "        print('Корреляция между отзывами критиков и игровой платформой ', name_of_platform.upper(), ': Умеренная обратная', critic_correl)\n",
    "    if -0.5 >= critic_correl >= -0.7:\n",
    "        print('Корреляция между отзывами критиков и игровой платформой ', name_of_platform.upper(), ': Высокая обратная', critic_correl)\n",
    "    if -0.7 >= critic_correl >= -0.9:\n",
    "        print('Корреляция между отзывами критиков и игровой платформой ', name_of_platform.upper(), ': Весьма высокая обратная', critic_correl)\n",
    "    if -0.9 >= critic_correl >= -1:\n",
    "        print('Корреляция между отзывами критиков и игровой платформой ', name_of_platform.upper(), ': Сильная обратная', critic_correl)"
   ]
  },
  {
   "cell_type": "code",
   "execution_count": 27,
   "metadata": {
    "scrolled": false
   },
   "outputs": [
    {
     "data": {
      "image/png": "[encoded data removed]",
      "text/plain": [
       "<Figure size 1080x360 with 2 Axes>"
      ]
     },
     "metadata": {
      "needs_background": "light"
     },
     "output_type": "display_data"
    },
    {
     "name": "stdout",
     "output_type": "stream",
     "text": [
      "Корреляция между отзывами пользователей и продажами  PS4 : Корреляция не выявлена -0.04\n",
      "Корреляция между отзывами критиков и игровой платформой  PS4 : Умеренная 0.4\n"
     ]
    },
    {
     "data": {
      "image/png": "[encoded data removed]",
      "text/plain": [
       "<Figure size 1080x360 with 2 Axes>"
      ]
     },
     "metadata": {
      "needs_background": "light"
     },
     "output_type": "display_data"
    },
    {
     "name": "stdout",
     "output_type": "stream",
     "text": [
      "Корреляция между отзывами пользователей и продажами  XONE : Корреляция не выявлена -0.07\n",
      "Корреляция между отзывами критиков и игровой платформой  XONE : Умеренная 0.43\n"
     ]
    },
    {
     "data": {
      "image/png": "[encoded data removed]",
      "text/plain": [
       "<Figure size 1080x360 with 2 Axes>"
      ]
     },
     "metadata": {
      "needs_background": "light"
     },
     "output_type": "display_data"
    },
    {
     "name": "stdout",
     "output_type": "stream",
     "text": [
      "Корреляция между отзывами пользователей и продажами  PSV : Слабая обратная -0.17\n",
      "Корреляция между отзывами критиков и игровой платформой  PSV : Корреляция не выявлена 0.04\n"
     ]
    },
    {
     "data": {
      "image/png": "[encoded data removed]",
      "text/plain": [
       "<Figure size 1080x360 with 2 Axes>"
      ]
     },
     "metadata": {
      "needs_background": "light"
     },
     "output_type": "display_data"
    },
    {
     "name": "stdout",
     "output_type": "stream",
     "text": [
      "Корреляция между отзывами пользователей и продажами  PC : Корреляция не выявлена -0.07\n",
      "Корреляция между отзывами критиков и игровой платформой  PC : Слабая 0.18\n"
     ]
    },
    {
     "data": {
      "image/png": "[encoded data removed]",
      "text/plain": [
       "<Figure size 1080x360 with 2 Axes>"
      ]
     },
     "metadata": {
      "needs_background": "light"
     },
     "output_type": "display_data"
    },
    {
     "name": "stdout",
     "output_type": "stream",
     "text": [
      "Корреляция между отзывами пользователей и продажами  3DS : Слабая 0.22\n",
      "Корреляция между отзывами критиков и игровой платформой  3DS : Умеренная 0.31\n"
     ]
    }
   ],
   "source": [
    "for platform in list_of_top5:\n",
    "    other_platform_matrix(platform)"
   ]
  },
  {
   "cell_type": "code",
   "execution_count": 28,
   "metadata": {},
   "outputs": [
    {
     "name": "stdout",
     "output_type": "stream",
     "text": [
      "Дисперсия PS4 : 1.949210436445598\n",
      "Стандартное отклонение PS4 : 1.3961412666509065\n",
      "Среднее PS4 : 6.82809917355372\n",
      "Медиана PS4 : 7.1\n",
      "\n",
      "\n",
      "Дисперсия XONE : 1.879546005509642\n",
      "Стандартное отклонение XONE : 1.3709653553280046\n",
      "Среднее XONE : 6.594545454545454\n",
      "Медиана XONE : 6.8\n",
      "\n",
      "\n",
      "Дисперсия PSV : 1.2008181647588672\n",
      "Стандартное отклонение PSV : 1.0958184907907271\n",
      "Среднее PSV : 7.656164383561643\n",
      "Медиана PSV : 7.8\n",
      "\n",
      "\n",
      "Дисперсия PC : 2.8930689404455023\n",
      "Стандартное отклонение PC : 1.7009023900405051\n",
      "Среднее PC : 6.316260162601626\n",
      "Медиана PC : 6.8\n",
      "\n",
      "\n",
      "Дисперсия 3DS : 2.2194512396694215\n",
      "Стандартное отклонение 3DS : 1.4897822792842657\n",
      "Среднее 3DS : 7.138181818181819\n",
      "Медиана 3DS : 7.4\n",
      "\n",
      "\n"
     ]
    }
   ],
   "source": [
    "# дисперсия, стандартное отклонение, среднее и медиана у топ-5 платформ по оценкам пользователей\n",
    "for platform in list_of_top5:\n",
    "    print('Дисперсия', platform.upper(),':', np.var(df[df['platform']==platform]['user_score']))\n",
    "    print('Стандартное отклонение', platform.upper(),':', np.std(df[df['platform']==platform]['user_score']))\n",
    "    print('Среднее',platform.upper(),':',  df[df['platform']==platform]['user_score'].mean())\n",
    "    print('Медиана',platform.upper(),':',  df[df['platform']==platform]['user_score'].median())\n",
    "    print('\\n')"
   ]
  },
  {
   "cell_type": "code",
   "execution_count": 29,
   "metadata": {},
   "outputs": [
    {
     "name": "stdout",
     "output_type": "stream",
     "text": [
      "Дисперсия PS4 : 148.57629653367516\n",
      "Стандартное отклонение PS4 : 12.189187689656565\n",
      "Среднее PS4 : 72.16455696202532\n",
      "Медиана PS4 : 73.0\n",
      "\n",
      "\n",
      "Дисперсия XONE : 149.15737773152964\n",
      "Стандартное отклонение XONE : 12.21300035746866\n",
      "Среднее XONE : 73.79354838709678\n",
      "Медиана XONE : 76.0\n",
      "\n",
      "\n",
      "Дисперсия PSV : 59.96982167352537\n",
      "Стандартное отклонение PSV : 7.744018444807926\n",
      "Среднее PSV : 72.25925925925925\n",
      "Медиана PSV : 72.0\n",
      "\n",
      "\n",
      "Дисперсия PC : 94.61991379940098\n",
      "Стандартное отклонение PC : 9.727276792576685\n",
      "Среднее PC : 76.2991452991453\n",
      "Медиана PC : 77.0\n",
      "\n",
      "\n",
      "Дисперсия 3DS : 162.09765474817377\n",
      "Стандартное отклонение 3DS : 12.731757724217571\n",
      "Среднее 3DS : 68.98039215686275\n",
      "Медиана 3DS : 69.0\n",
      "\n",
      "\n"
     ]
    }
   ],
   "source": [
    "# дисперсия, стандартное отклонение, среднее и медиана у топ-5 платформ по оценкам критиков\n",
    "for platform in list_of_top5:\n",
    "    print('Дисперсия', platform.upper(),':', np.var(df[df['platform']==platform]['critic_score']))\n",
    "    print('Стандартное отклонение', platform.upper(),':', np.std(df[df['platform']==platform]['critic_score']))\n",
    "    print('Среднее',platform.upper(),':',  df[df['platform']==platform]['critic_score'].mean())\n",
    "    print('Медиана',platform.upper(),':',  df[df['platform']==platform]['critic_score'].median())\n",
    "    print('\\n')"
   ]
  },
  {
   "cell_type": "markdown",
   "metadata": {},
   "source": [
    "**Вывод:**\n",
    "\n",
    "+ Практически у всех платформ присутствуем корреляция, между оценками пользователей и критиков к продажам;\n",
    "+ Оценка пользователей слабо влияет на продажи, чего не скажешь о оценке критиков. Покупатели прислушиваются больше к критикам чем к оценкам других пользователей."
   ]
  },
  {
   "cell_type": "markdown",
   "metadata": {},
   "source": [
    "**Посмотрим на общее распределение игр по жанрам:**"
   ]
  },
  {
   "cell_type": "code",
   "execution_count": 30,
   "metadata": {},
   "outputs": [
    {
     "data": {
      "text/html": [
       "<div>\n",
       "<style scoped>\n",
       "    .dataframe tbody tr th:only-of-type {\n",
       "        vertical-align: middle;\n",
       "    }\n",
       "\n",
       "    .dataframe tbody tr th {\n",
       "        vertical-align: top;\n",
       "    }\n",
       "\n",
       "    .dataframe thead th {\n",
       "        text-align: right;\n",
       "    }\n",
       "</style>\n",
       "<table border=\"1\" class=\"dataframe\">\n",
       "  <thead>\n",
       "    <tr style=\"text-align: right;\">\n",
       "      <th></th>\n",
       "      <th>genre</th>\n",
       "      <th>total_sales</th>\n",
       "    </tr>\n",
       "  </thead>\n",
       "  <tbody>\n",
       "    <tr>\n",
       "      <td>0</td>\n",
       "      <td>shooter</td>\n",
       "      <td>1.335469</td>\n",
       "    </tr>\n",
       "    <tr>\n",
       "      <td>1</td>\n",
       "      <td>sports</td>\n",
       "      <td>0.680000</td>\n",
       "    </tr>\n",
       "    <tr>\n",
       "      <td>2</td>\n",
       "      <td>platform</td>\n",
       "      <td>0.476053</td>\n",
       "    </tr>\n",
       "    <tr>\n",
       "      <td>3</td>\n",
       "      <td>fighting</td>\n",
       "      <td>0.470333</td>\n",
       "    </tr>\n",
       "    <tr>\n",
       "      <td>4</td>\n",
       "      <td>role-playing</td>\n",
       "      <td>0.459005</td>\n",
       "    </tr>\n",
       "    <tr>\n",
       "      <td>5</td>\n",
       "      <td>racing</td>\n",
       "      <td>0.398841</td>\n",
       "    </tr>\n",
       "    <tr>\n",
       "      <td>6</td>\n",
       "      <td>misc</td>\n",
       "      <td>0.332301</td>\n",
       "    </tr>\n",
       "    <tr>\n",
       "      <td>7</td>\n",
       "      <td>action</td>\n",
       "      <td>0.322113</td>\n",
       "    </tr>\n",
       "    <tr>\n",
       "      <td>8</td>\n",
       "      <td>simulation</td>\n",
       "      <td>0.298409</td>\n",
       "    </tr>\n",
       "    <tr>\n",
       "      <td>9</td>\n",
       "      <td>puzzle</td>\n",
       "      <td>0.157857</td>\n",
       "    </tr>\n",
       "    <tr>\n",
       "      <td>10</td>\n",
       "      <td>strategy</td>\n",
       "      <td>0.107027</td>\n",
       "    </tr>\n",
       "    <tr>\n",
       "      <td>11</td>\n",
       "      <td>adventure</td>\n",
       "      <td>0.094865</td>\n",
       "    </tr>\n",
       "  </tbody>\n",
       "</table>\n",
       "</div>"
      ],
      "text/plain": [
       "           genre  total_sales\n",
       "0        shooter     1.335469\n",
       "1         sports     0.680000\n",
       "2       platform     0.476053\n",
       "3       fighting     0.470333\n",
       "4   role-playing     0.459005\n",
       "5         racing     0.398841\n",
       "6           misc     0.332301\n",
       "7         action     0.322113\n",
       "8     simulation     0.298409\n",
       "9         puzzle     0.157857\n",
       "10      strategy     0.107027\n",
       "11     adventure     0.094865"
      ]
     },
     "execution_count": 30,
     "metadata": {},
     "output_type": "execute_result"
    }
   ],
   "source": [
    "# выберем жанры и их продажи с сортировкой по убыванию\n",
    "distr_genre = df.pivot_table(index='genre',\n",
    "                             values='total_sales',\n",
    "                             aggfunc='mean').sort_values(by='total_sales', ascending=False)\n",
    "distr_genre = distr_genre.reset_index().rename_axis(None, axis=1)\n",
    "distr_genre"
   ]
  },
  {
   "cell_type": "code",
   "execution_count": 31,
   "metadata": {},
   "outputs": [
    {
     "data": {
      "image/png": "[encoded data removed]",
      "text/plain": [
       "<Figure size 864x432 with 1 Axes>"
      ]
     },
     "metadata": {
      "needs_background": "light"
     },
     "output_type": "display_data"
    }
   ],
   "source": [
    "plt.figure(figsize=(12,6))\n",
    "plt.title('Распределение игр по жанрам ',fontsize=12)\n",
    "sns.barplot(data=distr_genre,\n",
    "            x='genre',\n",
    "            y='total_sales',\n",
    "            palette='cividis_r')\n",
    "\n",
    "plt.xlabel('Жанры игр',fontsize=12)\n",
    "plt.ylabel('Продажи',fontsize=12)\n",
    "plt.show()"
   ]
  },
  {
   "cell_type": "markdown",
   "metadata": {},
   "source": [
    "Лучше всего продаются игры жанра `Shooter`. На последнем месте закрепились `Adventure`."
   ]
  },
  {
   "cell_type": "markdown",
   "metadata": {},
   "source": [
    "**Вывод:**\n",
    "\n",
    "+ Количество игр на игровые приставки и компьютеры начало расти с большой скоростью с 90-х годов до 2008 года. С 2008 года, после того как массово начали создавать мобильные приложения и игры, произошел резкий спад разработки игр на игровые платформы.\n",
    "+ Самые популярные игровые платформы за весь период : `Sony PlayStation 2`, `Xbox 360`, `Sony Playstation 3`, `Nintendo WII`, `Nintendo DS`, `Sony Playstation`.\n",
    "+ Средняя жизнь игровой платформы составляет 10 лет. Пик продаж наступает примерно через 5 лет после выхода приставки.\n",
    "+ Больше всего продаются игры на `Sony Playstation` и `Xbox 360`\n",
    "+ У всех платформ наблюдается взаимосвязь между продажами и оценками критиков и пользователей. Заметнее всего корреляция между оценками критиков и продажами. Это значит для людей мнение критиков важнее мнения других пользователей\n",
    "+ Самым популярным жанром за последние 3 года, стал `Shooter`"
   ]
  },
  {
   "cell_type": "markdown",
   "metadata": {},
   "source": [
    "## Составим портрет пользователя каждого региона"
   ]
  },
  {
   "cell_type": "markdown",
   "metadata": {},
   "source": [
    "**Определим для пользователя каждого региона (`NA`, `EU`, `JP`):**\n",
    "\n",
    "+ Самые популярные платформы (топ-5);\n",
    "+ Самые популярные жанры (топ-5);\n",
    "+ Влияет ли рейтинг ESRB на продажи в отдельном регионе."
   ]
  },
  {
   "cell_type": "code",
   "execution_count": 32,
   "metadata": {},
   "outputs": [],
   "source": [
    "# функция для создания сводбных таблиц за последние 3 года\n",
    "def for_pivot(row, title):\n",
    "    fig, axes = plt.subplots(1, 3, figsize=(20, 4))\n",
    "    for pivot, ax in zip(list(['platform','genre','rating']), axes.flatten()[:3]):\n",
    "        ppivot = df.pivot_table(index=pivot,\n",
    "                                values=row,\n",
    "                                aggfunc='sum') \\\n",
    "        .sort_values(by=row, ascending=False).reset_index().rename_axis(None, axis=1).head(5)\n",
    "        \n",
    "        print(ppivot)\n",
    "        print('\\n\\n') \n",
    "        sns.set_palette('PuOr_r')\n",
    "        sns.barplot(data=ppivot, x=pivot, y=row, ax=ax)\n",
    "        fig.suptitle(title, fontsize=12)"
   ]
  },
  {
   "cell_type": "markdown",
   "metadata": {},
   "source": [
    "**Портрет пользователя `North America`**"
   ]
  },
  {
   "cell_type": "code",
   "execution_count": 33,
   "metadata": {},
   "outputs": [
    {
     "name": "stdout",
     "output_type": "stream",
     "text": [
      "  platform  na_sales\n",
      "0      ps4     98.61\n",
      "1     xone     81.27\n",
      "2     x360     28.30\n",
      "3      3ds     22.64\n",
      "4      ps3     22.05\n",
      "\n",
      "\n",
      "\n",
      "          genre  na_sales\n",
      "0       shooter     79.02\n",
      "1        action     72.59\n",
      "2        sports     46.13\n",
      "3  role-playing     33.47\n",
      "4          misc     15.05\n",
      "\n",
      "\n",
      "\n",
      "  rating  na_sales\n",
      "0      m     96.48\n",
      "1      e     50.74\n",
      "2      t     38.95\n",
      "3   e10+     33.23\n",
      "\n",
      "\n",
      "\n"
     ]
    },
    {
     "data": {
      "image/png": "[encoded data removed]",
      "text/plain": [
       "<Figure size 1440x288 with 3 Axes>"
      ]
     },
     "metadata": {
      "needs_background": "light"
     },
     "output_type": "display_data"
    }
   ],
   "source": [
    "for_pivot('na_sales','Топ-5 платформ, жанров и рейтингов за последние 3 года')"
   ]
  },
  {
   "cell_type": "markdown",
   "metadata": {},
   "source": [
    "**Вывод:**\n",
    "\n",
    "+ Самые популярные игровые платформы в Северной Америке: `PS4`, `XOne`, `X360`, `3DS`, `PS3`;\n",
    "+ Топ-5 жанров в Северной Америке: `Shooter`, `Action`, `Sports`, `Role-Plaing`, `Misc`;\n",
    "+ По рейтингам видно, что больше всего продаж у игр с рейтингом `'от 17 и выше'`, на втором месте игры с рейтингом `'для всех'` и на третьем месте игры с рейтингом `'от 13 и выше'`."
   ]
  },
  {
   "cell_type": "markdown",
   "metadata": {},
   "source": [
    "**Портрет пользователя `European Union`**"
   ]
  },
  {
   "cell_type": "code",
   "execution_count": 34,
   "metadata": {},
   "outputs": [
    {
     "name": "stdout",
     "output_type": "stream",
     "text": [
      "  platform  eu_sales\n",
      "0      ps4    130.04\n",
      "1     xone     46.25\n",
      "2      ps3     25.54\n",
      "3       pc     18.22\n",
      "4      3ds     16.12\n",
      "\n",
      "\n",
      "\n",
      "          genre  eu_sales\n",
      "0        action     74.93\n",
      "1       shooter     65.52\n",
      "2        sports     45.73\n",
      "3  role-playing     28.17\n",
      "4        racing     14.13\n",
      "\n",
      "\n",
      "\n",
      "  rating  eu_sales\n",
      "0      m     93.69\n",
      "1      e     58.06\n",
      "2      t     34.07\n",
      "3   e10+     26.16\n",
      "\n",
      "\n",
      "\n"
     ]
    },
    {
     "data": {
      "image/png": "[encoded data removed]",
      "text/plain": [
       "<Figure size 1440x288 with 3 Axes>"
      ]
     },
     "metadata": {
      "needs_background": "light"
     },
     "output_type": "display_data"
    }
   ],
   "source": [
    "for_pivot('eu_sales','Топ-5 платформ, жанров и рейтингов за весь период для Европейского союза')"
   ]
  },
  {
   "cell_type": "markdown",
   "metadata": {},
   "source": [
    "**Вывод:**\n",
    "\n",
    "+ Самые популярные игровые платформы в Европе это: `PS4`, `XOne`, `PS3`, `PC`, `3DS`;\n",
    "+ Топ-5 жанров в Европе: `Action`, `Shooter`, `Sports`, `Role-Plaing`, `Racing`;\n",
    "+ По рейтингам видно, что больше всего продаж у игр с рейтингом `'от 17 и выше'`, на втором месте игры с рейтингом `'для всех'` и на третьем месте игры с рейтингом `'от 13 и выше'`."
   ]
  },
  {
   "cell_type": "markdown",
   "metadata": {},
   "source": [
    "**Портрет пользователя `Japanese`**"
   ]
  },
  {
   "cell_type": "code",
   "execution_count": 35,
   "metadata": {},
   "outputs": [
    {
     "name": "stdout",
     "output_type": "stream",
     "text": [
      "  platform  jp_sales\n",
      "0      3ds     44.24\n",
      "1      ps4     15.02\n",
      "2      psv     14.54\n",
      "3      ps3     11.22\n",
      "4     wiiu      7.31\n",
      "\n",
      "\n",
      "\n",
      "          genre  jp_sales\n",
      "0  role-playing     31.16\n",
      "1        action     29.58\n",
      "2      fighting      6.37\n",
      "3          misc      5.61\n",
      "4       shooter      4.87\n",
      "\n",
      "\n",
      "\n",
      "  rating  jp_sales\n",
      "0      t     14.78\n",
      "1      e      8.94\n",
      "2      m      8.01\n",
      "3   e10+      4.46\n",
      "\n",
      "\n",
      "\n"
     ]
    },
    {
     "data": {
      "image/png": "[encoded data removed]",
      "text/plain": [
       "<Figure size 1440x288 with 3 Axes>"
      ]
     },
     "metadata": {
      "needs_background": "light"
     },
     "output_type": "display_data"
    }
   ],
   "source": [
    "for_pivot('jp_sales','Топ-5 платформ, жанров и рейтингов за весь период для Японии')"
   ]
  },
  {
   "cell_type": "markdown",
   "metadata": {},
   "source": [
    "**Вывод:**\n",
    "\n",
    "+ Самые популярные игровые платформы в Японии это: `3DS`, `PS4`, `PSV`, `PS3`, `WIIU`;\n",
    "+ Топ-5 жанров в Японии: `Role-Playing`, `Action`, `Fighting`, `Misc`, `Shooter`;\n",
    "+ По рейтингам видно, что больше всего продаж у игр с рейтингом `'от 13 и выше'`, на втором месте игры с рейтингом `'для всех'` и на третьем месте игры с рейтингом `'от 17 и выше'`."
   ]
  },
  {
   "cell_type": "markdown",
   "metadata": {},
   "source": [
    "**Визуализируем суммарные продажи игр по жанрам, рейтингу и платформам:**"
   ]
  },
  {
   "cell_type": "code",
   "execution_count": 36,
   "metadata": {},
   "outputs": [
    {
     "data": {
      "image/png": "[encoded data removed]",
      "text/plain": [
       "<Figure size 1296x576 with 2 Axes>"
      ]
     },
     "metadata": {
      "needs_background": "light"
     },
     "output_type": "display_data"
    }
   ],
   "source": [
    "platform_genre_sales = df.pivot_table(index='platform',\n",
    "                                      columns=['genre', 'rating'],\n",
    "                                      values='total_sales',\n",
    "                                      aggfunc='sum').fillna(0).applymap(float)\n",
    "plt.figure(figsize=(18,8))\n",
    "sns.heatmap(platform_genre_sales, annot=True, fmt='.1f', linewidths=.5)\n",
    "plt.show()"
   ]
  },
  {
   "cell_type": "markdown",
   "metadata": {},
   "source": [
    "В нашем датасете предостаточно игр без рейтинга. Посмотрим на их продажи по регионам за 2016 год."
   ]
  },
  {
   "cell_type": "markdown",
   "metadata": {},
   "source": [
    "**Продажи игр без рейтинга в Северной Америке:**"
   ]
  },
  {
   "cell_type": "code",
   "execution_count": 37,
   "metadata": {},
   "outputs": [
    {
     "data": {
      "text/html": [
       "<div>\n",
       "<style scoped>\n",
       "    .dataframe tbody tr th:only-of-type {\n",
       "        vertical-align: middle;\n",
       "    }\n",
       "\n",
       "    .dataframe tbody tr th {\n",
       "        vertical-align: top;\n",
       "    }\n",
       "\n",
       "    .dataframe thead th {\n",
       "        text-align: right;\n",
       "    }\n",
       "</style>\n",
       "<table border=\"1\" class=\"dataframe\">\n",
       "  <thead>\n",
       "    <tr style=\"text-align: right;\">\n",
       "      <th></th>\n",
       "      <th>platform</th>\n",
       "      <th>na_sales</th>\n",
       "    </tr>\n",
       "  </thead>\n",
       "  <tbody>\n",
       "    <tr>\n",
       "      <td>0</td>\n",
       "      <td>3ds</td>\n",
       "      <td>3.38</td>\n",
       "    </tr>\n",
       "    <tr>\n",
       "      <td>1</td>\n",
       "      <td>ps4</td>\n",
       "      <td>3.12</td>\n",
       "    </tr>\n",
       "    <tr>\n",
       "      <td>2</td>\n",
       "      <td>xone</td>\n",
       "      <td>1.40</td>\n",
       "    </tr>\n",
       "    <tr>\n",
       "      <td>3</td>\n",
       "      <td>wiiu</td>\n",
       "      <td>0.35</td>\n",
       "    </tr>\n",
       "    <tr>\n",
       "      <td>4</td>\n",
       "      <td>ps3</td>\n",
       "      <td>0.19</td>\n",
       "    </tr>\n",
       "    <tr>\n",
       "      <td>5</td>\n",
       "      <td>pc</td>\n",
       "      <td>0.08</td>\n",
       "    </tr>\n",
       "    <tr>\n",
       "      <td>6</td>\n",
       "      <td>x360</td>\n",
       "      <td>0.01</td>\n",
       "    </tr>\n",
       "    <tr>\n",
       "      <td>7</td>\n",
       "      <td>psv</td>\n",
       "      <td>0.00</td>\n",
       "    </tr>\n",
       "  </tbody>\n",
       "</table>\n",
       "</div>"
      ],
      "text/plain": [
       "  platform  na_sales\n",
       "0      3ds      3.38\n",
       "1      ps4      3.12\n",
       "2     xone      1.40\n",
       "3     wiiu      0.35\n",
       "4      ps3      0.19\n",
       "5       pc      0.08\n",
       "6     x360      0.01\n",
       "7      psv      0.00"
      ]
     },
     "execution_count": 37,
     "metadata": {},
     "output_type": "execute_result"
    }
   ],
   "source": [
    "# продажи игр без рейтинга по платформам для Северной Америки\n",
    "no_rate_na = df[pd.isnull(df['rating'])]\n",
    "no_rate_na = no_rate_na[no_rate_na['year_of_release'] > 2015]\n",
    "no_rate_na.pivot_table(index='platform',\n",
    "                       values='na_sales',\n",
    "                       aggfunc='sum') \\\n",
    "          .sort_values(by='na_sales',\n",
    "                       ascending=False) \\\n",
    "          .reset_index() \\\n",
    "          .rename_axis(None, axis=1) \\\n",
    "          .head(60)"
   ]
  },
  {
   "cell_type": "code",
   "execution_count": 38,
   "metadata": {},
   "outputs": [
    {
     "data": {
      "text/html": [
       "<div>\n",
       "<style scoped>\n",
       "    .dataframe tbody tr th:only-of-type {\n",
       "        vertical-align: middle;\n",
       "    }\n",
       "\n",
       "    .dataframe tbody tr th {\n",
       "        vertical-align: top;\n",
       "    }\n",
       "\n",
       "    .dataframe thead th {\n",
       "        text-align: right;\n",
       "    }\n",
       "</style>\n",
       "<table border=\"1\" class=\"dataframe\">\n",
       "  <thead>\n",
       "    <tr style=\"text-align: right;\">\n",
       "      <th></th>\n",
       "      <th>genre</th>\n",
       "      <th>na_sales</th>\n",
       "    </tr>\n",
       "  </thead>\n",
       "  <tbody>\n",
       "    <tr>\n",
       "      <td>0</td>\n",
       "      <td>role-playing</td>\n",
       "      <td>4.36</td>\n",
       "    </tr>\n",
       "    <tr>\n",
       "      <td>1</td>\n",
       "      <td>action</td>\n",
       "      <td>1.62</td>\n",
       "    </tr>\n",
       "    <tr>\n",
       "      <td>2</td>\n",
       "      <td>shooter</td>\n",
       "      <td>1.11</td>\n",
       "    </tr>\n",
       "    <tr>\n",
       "      <td>3</td>\n",
       "      <td>platform</td>\n",
       "      <td>0.55</td>\n",
       "    </tr>\n",
       "    <tr>\n",
       "      <td>4</td>\n",
       "      <td>adventure</td>\n",
       "      <td>0.35</td>\n",
       "    </tr>\n",
       "    <tr>\n",
       "      <td>5</td>\n",
       "      <td>misc</td>\n",
       "      <td>0.32</td>\n",
       "    </tr>\n",
       "    <tr>\n",
       "      <td>6</td>\n",
       "      <td>racing</td>\n",
       "      <td>0.11</td>\n",
       "    </tr>\n",
       "    <tr>\n",
       "      <td>7</td>\n",
       "      <td>sports</td>\n",
       "      <td>0.06</td>\n",
       "    </tr>\n",
       "    <tr>\n",
       "      <td>8</td>\n",
       "      <td>fighting</td>\n",
       "      <td>0.05</td>\n",
       "    </tr>\n",
       "  </tbody>\n",
       "</table>\n",
       "</div>"
      ],
      "text/plain": [
       "          genre  na_sales\n",
       "0  role-playing      4.36\n",
       "1        action      1.62\n",
       "2       shooter      1.11\n",
       "3      platform      0.55\n",
       "4     adventure      0.35\n",
       "5          misc      0.32\n",
       "6        racing      0.11\n",
       "7        sports      0.06\n",
       "8      fighting      0.05"
      ]
     },
     "execution_count": 38,
     "metadata": {},
     "output_type": "execute_result"
    }
   ],
   "source": [
    "# продажи игр без рейтинга по жанрам для Северной Америки\n",
    "no_rate_na[no_rate_na['na_sales'] > 0].pivot_table(index='genre',\n",
    "                                                   values='na_sales',\n",
    "                                                   aggfunc='sum') \\\n",
    "                                      .sort_values(by='na_sales',\n",
    "                                                   ascending=False) \\\n",
    "                                      .reset_index() \\\n",
    "                                      .rename_axis(None, axis=1) \\\n",
    "                                      .head(60)"
   ]
  },
  {
   "cell_type": "code",
   "execution_count": 39,
   "metadata": {},
   "outputs": [
    {
     "data": {
      "text/html": [
       "<div>\n",
       "<style scoped>\n",
       "    .dataframe tbody tr th:only-of-type {\n",
       "        vertical-align: middle;\n",
       "    }\n",
       "\n",
       "    .dataframe tbody tr th {\n",
       "        vertical-align: top;\n",
       "    }\n",
       "\n",
       "    .dataframe thead th {\n",
       "        text-align: right;\n",
       "    }\n",
       "</style>\n",
       "<table border=\"1\" class=\"dataframe\">\n",
       "  <thead>\n",
       "    <tr style=\"text-align: right;\">\n",
       "      <th></th>\n",
       "      <th>platform</th>\n",
       "      <th>na_sales</th>\n",
       "    </tr>\n",
       "  </thead>\n",
       "  <tbody>\n",
       "    <tr>\n",
       "      <td>0</td>\n",
       "      <td>ps4</td>\n",
       "      <td>23</td>\n",
       "    </tr>\n",
       "    <tr>\n",
       "      <td>1</td>\n",
       "      <td>xone</td>\n",
       "      <td>14</td>\n",
       "    </tr>\n",
       "    <tr>\n",
       "      <td>2</td>\n",
       "      <td>3ds</td>\n",
       "      <td>7</td>\n",
       "    </tr>\n",
       "    <tr>\n",
       "      <td>3</td>\n",
       "      <td>ps3</td>\n",
       "      <td>3</td>\n",
       "    </tr>\n",
       "    <tr>\n",
       "      <td>4</td>\n",
       "      <td>pc</td>\n",
       "      <td>2</td>\n",
       "    </tr>\n",
       "    <tr>\n",
       "      <td>5</td>\n",
       "      <td>wiiu</td>\n",
       "      <td>2</td>\n",
       "    </tr>\n",
       "    <tr>\n",
       "      <td>6</td>\n",
       "      <td>x360</td>\n",
       "      <td>1</td>\n",
       "    </tr>\n",
       "  </tbody>\n",
       "</table>\n",
       "</div>"
      ],
      "text/plain": [
       "  platform  na_sales\n",
       "0      ps4        23\n",
       "1     xone        14\n",
       "2      3ds         7\n",
       "3      ps3         3\n",
       "4       pc         2\n",
       "5     wiiu         2\n",
       "6     x360         1"
      ]
     },
     "execution_count": 39,
     "metadata": {},
     "output_type": "execute_result"
    }
   ],
   "source": [
    "# количество игр без рейтинга в разрезе платформ, где продажи не равны нулю, в Северной Америке\n",
    "no_rate_na[no_rate_na['na_sales'] > 0].pivot_table(index='platform',\n",
    "                                                   values='na_sales',\n",
    "                                                   aggfunc='count') \\\n",
    "                                      .sort_values(by='na_sales',\n",
    "                                                   ascending=False) \\\n",
    "                                      .reset_index() \\\n",
    "                                      .rename_axis(None, axis=1) \\\n",
    "                                      .head(60)"
   ]
  },
  {
   "cell_type": "markdown",
   "metadata": {},
   "source": [
    "**Вывод:**\n",
    "\n",
    "- Во-первых, самих игр с ненулевыми продажами не так много. \n",
    "- Лидирующая по продажам платформа - `3DS`. Следом идут `PS4` и `XOne`.\n",
    "- Лидирующий по продажам жанр - `Role-Playing`. С заметным отставанием идут `Action` и `Shooter`."
   ]
  },
  {
   "cell_type": "markdown",
   "metadata": {},
   "source": [
    "**Продажи игр без рейтинга в Европе:**"
   ]
  },
  {
   "cell_type": "code",
   "execution_count": 40,
   "metadata": {},
   "outputs": [
    {
     "data": {
      "text/html": [
       "<div>\n",
       "<style scoped>\n",
       "    .dataframe tbody tr th:only-of-type {\n",
       "        vertical-align: middle;\n",
       "    }\n",
       "\n",
       "    .dataframe tbody tr th {\n",
       "        vertical-align: top;\n",
       "    }\n",
       "\n",
       "    .dataframe thead th {\n",
       "        text-align: right;\n",
       "    }\n",
       "</style>\n",
       "<table border=\"1\" class=\"dataframe\">\n",
       "  <thead>\n",
       "    <tr style=\"text-align: right;\">\n",
       "      <th></th>\n",
       "      <th>platform</th>\n",
       "      <th>eu_sales</th>\n",
       "    </tr>\n",
       "  </thead>\n",
       "  <tbody>\n",
       "    <tr>\n",
       "      <td>0</td>\n",
       "      <td>ps4</td>\n",
       "      <td>3.91</td>\n",
       "    </tr>\n",
       "    <tr>\n",
       "      <td>1</td>\n",
       "      <td>3ds</td>\n",
       "      <td>1.84</td>\n",
       "    </tr>\n",
       "    <tr>\n",
       "      <td>2</td>\n",
       "      <td>xone</td>\n",
       "      <td>0.78</td>\n",
       "    </tr>\n",
       "    <tr>\n",
       "      <td>3</td>\n",
       "      <td>pc</td>\n",
       "      <td>0.48</td>\n",
       "    </tr>\n",
       "    <tr>\n",
       "      <td>4</td>\n",
       "      <td>wiiu</td>\n",
       "      <td>0.31</td>\n",
       "    </tr>\n",
       "    <tr>\n",
       "      <td>5</td>\n",
       "      <td>ps3</td>\n",
       "      <td>0.13</td>\n",
       "    </tr>\n",
       "    <tr>\n",
       "      <td>6</td>\n",
       "      <td>x360</td>\n",
       "      <td>0.02</td>\n",
       "    </tr>\n",
       "    <tr>\n",
       "      <td>7</td>\n",
       "      <td>psv</td>\n",
       "      <td>0.00</td>\n",
       "    </tr>\n",
       "  </tbody>\n",
       "</table>\n",
       "</div>"
      ],
      "text/plain": [
       "  platform  eu_sales\n",
       "0      ps4      3.91\n",
       "1      3ds      1.84\n",
       "2     xone      0.78\n",
       "3       pc      0.48\n",
       "4     wiiu      0.31\n",
       "5      ps3      0.13\n",
       "6     x360      0.02\n",
       "7      psv      0.00"
      ]
     },
     "execution_count": 40,
     "metadata": {},
     "output_type": "execute_result"
    }
   ],
   "source": [
    "# продажи игр без рейтинга по платформам для Европе\n",
    "no_rate_eu = df[pd.isnull(df['rating'])]\n",
    "no_rate_eu = no_rate_eu[no_rate_eu['year_of_release'] > 2015]\n",
    "no_rate_eu.pivot_table(index='platform',\n",
    "                       values='eu_sales',\n",
    "                       aggfunc='sum') \\\n",
    "          .sort_values(by='eu_sales',\n",
    "                       ascending=False) \\\n",
    "          .reset_index() \\\n",
    "          .rename_axis(None, axis=1) \\\n",
    "          .head(60)"
   ]
  },
  {
   "cell_type": "code",
   "execution_count": 41,
   "metadata": {},
   "outputs": [
    {
     "data": {
      "text/html": [
       "<div>\n",
       "<style scoped>\n",
       "    .dataframe tbody tr th:only-of-type {\n",
       "        vertical-align: middle;\n",
       "    }\n",
       "\n",
       "    .dataframe tbody tr th {\n",
       "        vertical-align: top;\n",
       "    }\n",
       "\n",
       "    .dataframe thead th {\n",
       "        text-align: right;\n",
       "    }\n",
       "</style>\n",
       "<table border=\"1\" class=\"dataframe\">\n",
       "  <thead>\n",
       "    <tr style=\"text-align: right;\">\n",
       "      <th></th>\n",
       "      <th>genre</th>\n",
       "      <th>eu_sales</th>\n",
       "    </tr>\n",
       "  </thead>\n",
       "  <tbody>\n",
       "    <tr>\n",
       "      <td>0</td>\n",
       "      <td>role-playing</td>\n",
       "      <td>2.65</td>\n",
       "    </tr>\n",
       "    <tr>\n",
       "      <td>1</td>\n",
       "      <td>action</td>\n",
       "      <td>1.16</td>\n",
       "    </tr>\n",
       "    <tr>\n",
       "      <td>2</td>\n",
       "      <td>shooter</td>\n",
       "      <td>1.07</td>\n",
       "    </tr>\n",
       "    <tr>\n",
       "      <td>3</td>\n",
       "      <td>platform</td>\n",
       "      <td>0.79</td>\n",
       "    </tr>\n",
       "    <tr>\n",
       "      <td>4</td>\n",
       "      <td>adventure</td>\n",
       "      <td>0.69</td>\n",
       "    </tr>\n",
       "    <tr>\n",
       "      <td>5</td>\n",
       "      <td>racing</td>\n",
       "      <td>0.51</td>\n",
       "    </tr>\n",
       "    <tr>\n",
       "      <td>6</td>\n",
       "      <td>sports</td>\n",
       "      <td>0.18</td>\n",
       "    </tr>\n",
       "    <tr>\n",
       "      <td>7</td>\n",
       "      <td>misc</td>\n",
       "      <td>0.17</td>\n",
       "    </tr>\n",
       "    <tr>\n",
       "      <td>8</td>\n",
       "      <td>strategy</td>\n",
       "      <td>0.12</td>\n",
       "    </tr>\n",
       "    <tr>\n",
       "      <td>9</td>\n",
       "      <td>simulation</td>\n",
       "      <td>0.11</td>\n",
       "    </tr>\n",
       "    <tr>\n",
       "      <td>10</td>\n",
       "      <td>fighting</td>\n",
       "      <td>0.02</td>\n",
       "    </tr>\n",
       "  </tbody>\n",
       "</table>\n",
       "</div>"
      ],
      "text/plain": [
       "           genre  eu_sales\n",
       "0   role-playing      2.65\n",
       "1         action      1.16\n",
       "2        shooter      1.07\n",
       "3       platform      0.79\n",
       "4      adventure      0.69\n",
       "5         racing      0.51\n",
       "6         sports      0.18\n",
       "7           misc      0.17\n",
       "8       strategy      0.12\n",
       "9     simulation      0.11\n",
       "10      fighting      0.02"
      ]
     },
     "execution_count": 41,
     "metadata": {},
     "output_type": "execute_result"
    }
   ],
   "source": [
    "# продажи игр без рейтинга по жанрам для Европы\n",
    "no_rate_eu[no_rate_eu['eu_sales'] > 0].pivot_table(index='genre',\n",
    "                                                   values='eu_sales',\n",
    "                                                   aggfunc='sum') \\\n",
    "                                      .sort_values(by='eu_sales',\n",
    "                                                   ascending=False) \\\n",
    "                                      .reset_index() \\\n",
    "                                      .rename_axis(None, axis=1) \\\n",
    "                                      .head(60)"
   ]
  },
  {
   "cell_type": "code",
   "execution_count": 42,
   "metadata": {},
   "outputs": [
    {
     "data": {
      "text/html": [
       "<div>\n",
       "<style scoped>\n",
       "    .dataframe tbody tr th:only-of-type {\n",
       "        vertical-align: middle;\n",
       "    }\n",
       "\n",
       "    .dataframe tbody tr th {\n",
       "        vertical-align: top;\n",
       "    }\n",
       "\n",
       "    .dataframe thead th {\n",
       "        text-align: right;\n",
       "    }\n",
       "</style>\n",
       "<table border=\"1\" class=\"dataframe\">\n",
       "  <thead>\n",
       "    <tr style=\"text-align: right;\">\n",
       "      <th></th>\n",
       "      <th>platform</th>\n",
       "      <th>eu_sales</th>\n",
       "    </tr>\n",
       "  </thead>\n",
       "  <tbody>\n",
       "    <tr>\n",
       "      <td>0</td>\n",
       "      <td>ps4</td>\n",
       "      <td>22</td>\n",
       "    </tr>\n",
       "    <tr>\n",
       "      <td>1</td>\n",
       "      <td>pc</td>\n",
       "      <td>17</td>\n",
       "    </tr>\n",
       "    <tr>\n",
       "      <td>2</td>\n",
       "      <td>xone</td>\n",
       "      <td>9</td>\n",
       "    </tr>\n",
       "    <tr>\n",
       "      <td>3</td>\n",
       "      <td>3ds</td>\n",
       "      <td>5</td>\n",
       "    </tr>\n",
       "    <tr>\n",
       "      <td>4</td>\n",
       "      <td>ps3</td>\n",
       "      <td>5</td>\n",
       "    </tr>\n",
       "    <tr>\n",
       "      <td>5</td>\n",
       "      <td>wiiu</td>\n",
       "      <td>2</td>\n",
       "    </tr>\n",
       "    <tr>\n",
       "      <td>6</td>\n",
       "      <td>x360</td>\n",
       "      <td>1</td>\n",
       "    </tr>\n",
       "  </tbody>\n",
       "</table>\n",
       "</div>"
      ],
      "text/plain": [
       "  platform  eu_sales\n",
       "0      ps4        22\n",
       "1       pc        17\n",
       "2     xone         9\n",
       "3      3ds         5\n",
       "4      ps3         5\n",
       "5     wiiu         2\n",
       "6     x360         1"
      ]
     },
     "execution_count": 42,
     "metadata": {},
     "output_type": "execute_result"
    }
   ],
   "source": [
    "# количество игр без рейтинга в разрезе платформ, где продажи не равны нулю, в Европе\n",
    "no_rate_eu[no_rate_eu['eu_sales'] > 0].pivot_table(index='platform',\n",
    "                                                   values='eu_sales',\n",
    "                                                   aggfunc='count') \\\n",
    "                                      .sort_values(by='eu_sales',\n",
    "                                                   ascending=False) \\\n",
    "                                      .reset_index() \\\n",
    "                                      .rename_axis(None, axis=1) \\\n",
    "                                      .head(60)"
   ]
  },
  {
   "cell_type": "markdown",
   "metadata": {},
   "source": [
    "**Вывод:**\n",
    "\n",
    "- Игр с ненулевыми продажами также не так много. \n",
    "- Лидирующая по продажам платформа - `PS4`. Следом идут `3DS` и `XOne`.\n",
    "- Лидирующий по продажам жанр - `Role-Playing`. С заметным отставанием идут `Action` и `Shooter`."
   ]
  },
  {
   "cell_type": "markdown",
   "metadata": {},
   "source": [
    "**Продажи игр без рейтинга в Японии:**"
   ]
  },
  {
   "cell_type": "code",
   "execution_count": 43,
   "metadata": {},
   "outputs": [
    {
     "data": {
      "text/html": [
       "<div>\n",
       "<style scoped>\n",
       "    .dataframe tbody tr th:only-of-type {\n",
       "        vertical-align: middle;\n",
       "    }\n",
       "\n",
       "    .dataframe tbody tr th {\n",
       "        vertical-align: top;\n",
       "    }\n",
       "\n",
       "    .dataframe thead th {\n",
       "        text-align: right;\n",
       "    }\n",
       "</style>\n",
       "<table border=\"1\" class=\"dataframe\">\n",
       "  <thead>\n",
       "    <tr style=\"text-align: right;\">\n",
       "      <th></th>\n",
       "      <th>platform</th>\n",
       "      <th>jp_sales</th>\n",
       "    </tr>\n",
       "  </thead>\n",
       "  <tbody>\n",
       "    <tr>\n",
       "      <td>0</td>\n",
       "      <td>3ds</td>\n",
       "      <td>7.05</td>\n",
       "    </tr>\n",
       "    <tr>\n",
       "      <td>1</td>\n",
       "      <td>psv</td>\n",
       "      <td>2.94</td>\n",
       "    </tr>\n",
       "    <tr>\n",
       "      <td>2</td>\n",
       "      <td>ps4</td>\n",
       "      <td>2.88</td>\n",
       "    </tr>\n",
       "    <tr>\n",
       "      <td>3</td>\n",
       "      <td>ps3</td>\n",
       "      <td>1.16</td>\n",
       "    </tr>\n",
       "    <tr>\n",
       "      <td>4</td>\n",
       "      <td>wiiu</td>\n",
       "      <td>0.29</td>\n",
       "    </tr>\n",
       "    <tr>\n",
       "      <td>5</td>\n",
       "      <td>pc</td>\n",
       "      <td>0.00</td>\n",
       "    </tr>\n",
       "    <tr>\n",
       "      <td>6</td>\n",
       "      <td>x360</td>\n",
       "      <td>0.00</td>\n",
       "    </tr>\n",
       "    <tr>\n",
       "      <td>7</td>\n",
       "      <td>xone</td>\n",
       "      <td>0.00</td>\n",
       "    </tr>\n",
       "  </tbody>\n",
       "</table>\n",
       "</div>"
      ],
      "text/plain": [
       "  platform  jp_sales\n",
       "0      3ds      7.05\n",
       "1      psv      2.94\n",
       "2      ps4      2.88\n",
       "3      ps3      1.16\n",
       "4     wiiu      0.29\n",
       "5       pc      0.00\n",
       "6     x360      0.00\n",
       "7     xone      0.00"
      ]
     },
     "execution_count": 43,
     "metadata": {},
     "output_type": "execute_result"
    }
   ],
   "source": [
    "# продажи игр без рейтинга по платформам для Японии\n",
    "no_rate_jp = df[pd.isnull(df['rating'])]\n",
    "no_rate_jp = no_rate_jp[no_rate_jp['year_of_release'] > 2015]\n",
    "no_rate_jp.pivot_table(index='platform',\n",
    "                       values='jp_sales',\n",
    "                       aggfunc='sum') \\\n",
    "          .sort_values(by='jp_sales',\n",
    "                       ascending=False) \\\n",
    "          .reset_index() \\\n",
    "          .rename_axis(None, axis=1) \\\n",
    "          .head(60)"
   ]
  },
  {
   "cell_type": "code",
   "execution_count": 44,
   "metadata": {},
   "outputs": [
    {
     "data": {
      "text/html": [
       "<div>\n",
       "<style scoped>\n",
       "    .dataframe tbody tr th:only-of-type {\n",
       "        vertical-align: middle;\n",
       "    }\n",
       "\n",
       "    .dataframe tbody tr th {\n",
       "        vertical-align: top;\n",
       "    }\n",
       "\n",
       "    .dataframe thead th {\n",
       "        text-align: right;\n",
       "    }\n",
       "</style>\n",
       "<table border=\"1\" class=\"dataframe\">\n",
       "  <thead>\n",
       "    <tr style=\"text-align: right;\">\n",
       "      <th></th>\n",
       "      <th>genre</th>\n",
       "      <th>jp_sales</th>\n",
       "    </tr>\n",
       "  </thead>\n",
       "  <tbody>\n",
       "    <tr>\n",
       "      <td>0</td>\n",
       "      <td>action</td>\n",
       "      <td>5.82</td>\n",
       "    </tr>\n",
       "    <tr>\n",
       "      <td>1</td>\n",
       "      <td>role-playing</td>\n",
       "      <td>5.22</td>\n",
       "    </tr>\n",
       "    <tr>\n",
       "      <td>2</td>\n",
       "      <td>adventure</td>\n",
       "      <td>1.09</td>\n",
       "    </tr>\n",
       "    <tr>\n",
       "      <td>3</td>\n",
       "      <td>misc</td>\n",
       "      <td>0.82</td>\n",
       "    </tr>\n",
       "    <tr>\n",
       "      <td>4</td>\n",
       "      <td>sports</td>\n",
       "      <td>0.58</td>\n",
       "    </tr>\n",
       "    <tr>\n",
       "      <td>5</td>\n",
       "      <td>simulation</td>\n",
       "      <td>0.33</td>\n",
       "    </tr>\n",
       "    <tr>\n",
       "      <td>6</td>\n",
       "      <td>strategy</td>\n",
       "      <td>0.23</td>\n",
       "    </tr>\n",
       "    <tr>\n",
       "      <td>7</td>\n",
       "      <td>fighting</td>\n",
       "      <td>0.16</td>\n",
       "    </tr>\n",
       "    <tr>\n",
       "      <td>8</td>\n",
       "      <td>platform</td>\n",
       "      <td>0.04</td>\n",
       "    </tr>\n",
       "    <tr>\n",
       "      <td>9</td>\n",
       "      <td>shooter</td>\n",
       "      <td>0.02</td>\n",
       "    </tr>\n",
       "    <tr>\n",
       "      <td>10</td>\n",
       "      <td>racing</td>\n",
       "      <td>0.01</td>\n",
       "    </tr>\n",
       "  </tbody>\n",
       "</table>\n",
       "</div>"
      ],
      "text/plain": [
       "           genre  jp_sales\n",
       "0         action      5.82\n",
       "1   role-playing      5.22\n",
       "2      adventure      1.09\n",
       "3           misc      0.82\n",
       "4         sports      0.58\n",
       "5     simulation      0.33\n",
       "6       strategy      0.23\n",
       "7       fighting      0.16\n",
       "8       platform      0.04\n",
       "9        shooter      0.02\n",
       "10        racing      0.01"
      ]
     },
     "execution_count": 44,
     "metadata": {},
     "output_type": "execute_result"
    }
   ],
   "source": [
    "# продажи игр без рейтинга по жанрам для Японии\n",
    "no_rate_jp[no_rate_jp['jp_sales'] > 0].pivot_table(index='genre',\n",
    "                                                   values='jp_sales',\n",
    "                                                   aggfunc='sum') \\\n",
    "                                      .sort_values(by='jp_sales',\n",
    "                                                   ascending=False) \\\n",
    "                                      .reset_index() \\\n",
    "                                      .rename_axis(None, axis=1) \\\n",
    "                                      .head(60)"
   ]
  },
  {
   "cell_type": "code",
   "execution_count": 45,
   "metadata": {},
   "outputs": [
    {
     "data": {
      "text/html": [
       "<div>\n",
       "<style scoped>\n",
       "    .dataframe tbody tr th:only-of-type {\n",
       "        vertical-align: middle;\n",
       "    }\n",
       "\n",
       "    .dataframe tbody tr th {\n",
       "        vertical-align: top;\n",
       "    }\n",
       "\n",
       "    .dataframe thead th {\n",
       "        text-align: right;\n",
       "    }\n",
       "</style>\n",
       "<table border=\"1\" class=\"dataframe\">\n",
       "  <thead>\n",
       "    <tr style=\"text-align: right;\">\n",
       "      <th></th>\n",
       "      <th>platform</th>\n",
       "      <th>jp_sales</th>\n",
       "    </tr>\n",
       "  </thead>\n",
       "  <tbody>\n",
       "    <tr>\n",
       "      <td>0</td>\n",
       "      <td>psv</td>\n",
       "      <td>69</td>\n",
       "    </tr>\n",
       "    <tr>\n",
       "      <td>1</td>\n",
       "      <td>ps4</td>\n",
       "      <td>44</td>\n",
       "    </tr>\n",
       "    <tr>\n",
       "      <td>2</td>\n",
       "      <td>3ds</td>\n",
       "      <td>28</td>\n",
       "    </tr>\n",
       "    <tr>\n",
       "      <td>3</td>\n",
       "      <td>ps3</td>\n",
       "      <td>20</td>\n",
       "    </tr>\n",
       "    <tr>\n",
       "      <td>4</td>\n",
       "      <td>wiiu</td>\n",
       "      <td>2</td>\n",
       "    </tr>\n",
       "  </tbody>\n",
       "</table>\n",
       "</div>"
      ],
      "text/plain": [
       "  platform  jp_sales\n",
       "0      psv        69\n",
       "1      ps4        44\n",
       "2      3ds        28\n",
       "3      ps3        20\n",
       "4     wiiu         2"
      ]
     },
     "execution_count": 45,
     "metadata": {},
     "output_type": "execute_result"
    }
   ],
   "source": [
    "# количество игр без рейтинга в разрезе платформ, где продажи не равны нулю, в Японии\n",
    "no_rate_jp[no_rate_jp['jp_sales'] > 0].pivot_table(index='platform',\n",
    "                                                   values='jp_sales',\n",
    "                                                   aggfunc='count') \\\n",
    "                                      .sort_values(by='jp_sales',\n",
    "                                                   ascending=False) \\\n",
    "                                      .reset_index() \\\n",
    "                                      .rename_axis(None, axis=1) \\\n",
    "                                      .head(60)"
   ]
  },
  {
   "cell_type": "markdown",
   "metadata": {},
   "source": [
    "**Вывод:**\n",
    "\n",
    "- В Японии ситуация иная. Игр с ненулевыми продажами и без рейтинга там значительно больше, чем в Америке и Европе. \n",
    "- Лидирующая по продажам платформа с большим перевесом - `3DS`. На втором и третьем местах идут `PSV` и `PS4`.\n",
    "- Лидирующий по продажам жанр - `Action`. Немного уступает - `Role-Playing`. И замыкает тройку - `Adventure`."
   ]
  },
  {
   "cell_type": "markdown",
   "metadata": {},
   "source": [
    "**Общий вывод:**\n",
    "\n",
    "Для прогноза будущих продаж лучше брать данные за последний год и ориентироваться по регионам. Соответственно, для 2017 года большую часть прибыли будут приносить игры:\n",
    "\n",
    "в Северной Америке:\n",
    "\n",
    "+ жанров: `Shooter`, `Action`;\n",
    "+ для платформ: `PS4`, `XOne`; \n",
    "+ с рейтингом `'от 17 и выше'` и `'для всех'`.\n",
    "\n",
    "в Европе:\n",
    "\n",
    "+ жанров: `Action`, `Shooter`;\n",
    "+ для платформ: `PS4`, `XOne`; \n",
    "+ с рейтингом `'от 17 и выше'` и `'для всех'`.\n",
    "\n",
    "в Японии:\n",
    "\n",
    "+ жанров: `Role-Plaing`, `Action`;\n",
    "+ для платформ: `3DS`, `PS4`; \n",
    "+ с рейтингом `'от 13 и выше'` и `'для всех'`."
   ]
  },
  {
   "cell_type": "markdown",
   "metadata": {},
   "source": [
    "## Проверка гипотез"
   ]
  },
  {
   "cell_type": "markdown",
   "metadata": {},
   "source": [
    "**Проверим две гипотезы:**\n",
    "\n",
    "+ Средние пользовательские рейтинги платформ `Xbox One` и `PC` одинаковые;\n",
    "+ Средние пользовательские рейтинги жанров `Action` и `Sports` разные."
   ]
  },
  {
   "cell_type": "markdown",
   "metadata": {},
   "source": [
    "**Первая гипотеза:**\n",
    "\n",
    "***H0***  — Средние пользовательские рейтинги платформ `Xbox One` и `PC` одинаковые.\n",
    "\n",
    "***H1*** — Средние пользовательские рейтинги платформ `Xbox One` и `PC` разные.\n",
    "\n",
    "***α*** = 1%"
   ]
  },
  {
   "cell_type": "code",
   "execution_count": 46,
   "metadata": {},
   "outputs": [
    {
     "name": "stdout",
     "output_type": "stream",
     "text": [
      "p-значение: 0.13923712043548309\n",
      "Не получилось отвергнуть нулевую гипотезу\n"
     ]
    }
   ],
   "source": [
    "xone_hyp = df[df['platform'] == 'xone']['user_score']\n",
    "pc_hyp = df[df['platform'] == 'pc']['user_score']\n",
    "\n",
    "alpha = .01\n",
    "\n",
    "results = st.ttest_ind(xone_hyp.dropna(),\n",
    "                       pc_hyp.dropna(),\n",
    "                       equal_var=False)\n",
    "\n",
    "print('p-значение:', results.pvalue)\n",
    "\n",
    "if (results.pvalue < alpha):\n",
    "    print('Отвергаем нулевую гипотезу')\n",
    "else:\n",
    "    print('Не получилось отвергнуть нулевую гипотезу')"
   ]
  },
  {
   "cell_type": "markdown",
   "metadata": {},
   "source": [
    "**Вывод:**\n",
    "\n",
    "Значение `p-value` равно чуть меньше `14%`. Таким образом, не получилось опровергнуть нулевую гипотезу. То есть, с вероятностью в `14%` можно получить такие же или еще более значимые различия в рейтингах двух платформ.\n",
    "\n",
    "На основании проведенного статистического эксперимента мы можем предпологать, что средние пользовательские рейтинги платформ `Xbox One` и `PC` одинаковые."
   ]
  },
  {
   "cell_type": "markdown",
   "metadata": {},
   "source": [
    "**Вторая гипотеза:**\n",
    "\n",
    "***H0*** — Средние пользовательские рейтинги жанров `Action` и `Sports` одинаковые.\n",
    "\n",
    "***H1***  — Средние пользовательские рейтинги жанров `Action` и `Sports` разные.\n",
    "\n",
    "***α*** = 1%"
   ]
  },
  {
   "cell_type": "code",
   "execution_count": 47,
   "metadata": {},
   "outputs": [
    {
     "name": "stdout",
     "output_type": "stream",
     "text": [
      "p-значение: 9.658176026869598e-15\n",
      "Отвергаем нулевую гипотезу\n"
     ]
    }
   ],
   "source": [
    "genre_action_hyp = df[df['genre'] == 'action']['user_score']\n",
    "genre_sports_hyp = df[df['genre'] == 'sports']['user_score']\n",
    "\n",
    "alpha = .01\n",
    "\n",
    "results = st.ttest_ind(genre_action_hyp.dropna(),\n",
    "                       genre_sports_hyp.dropna(),\n",
    "                       equal_var=False)\n",
    "\n",
    "print('p-значение:', results.pvalue)\n",
    "\n",
    "\n",
    "if (results.pvalue < alpha):\n",
    "    print('Отвергаем нулевую гипотезу')\n",
    "else:\n",
    "    print('Не получилось отвергнуть нулевую гипотезу')"
   ]
  },
  {
   "cell_type": "markdown",
   "metadata": {},
   "source": [
    "**Вывод:**\n",
    "\n",
    "Получив `p-value`, мы отвергли нулевую гипотезу. Таким образом, у нас практически нет вероятности получить одинакове средние рейнтинги по двум жанрам.\n",
    "\n",
    "На основании проведенного статистического эксперимента мы можем предпологать, что средние пользовательские рейтинги жанров `Action` и `Sports` разные."
   ]
  },
  {
   "cell_type": "markdown",
   "metadata": {},
   "source": [
    "## Общий вывод"
   ]
  },
  {
   "cell_type": "markdown",
   "metadata": {},
   "source": [
    "1. Мы выявили, что средняя продолжительность жизни игровой консоли составляет порядка 10 лет.\n",
    "\n",
    "2. Самый пик продаж наступает примерно через 5 лет после выпуска консоли.\n",
    "\n",
    "3. У платформ лидеров наблюдается взаимосвязь между продажами и оценками критиков. Пользовательские же оценки не играют значимой роли. Это значит, что для людей мнение критиков важнее мнения других пользователей. Самый популярный жанр за последние 3 года: `Shooter`. Якорем висит жанр `Adventure`.\n",
    "\n",
    "4. Для прогноза будущих продаж лучше брать данные за последний год, так как технологии стремительно развиваются, а вкусы людей могут меняться очень быстро. Соответственно, для 2017 года большую часть прибыли будут приносить игры:\n",
    "\n",
    "    в **Северной Америке**:\n",
    "    + жанров: `Shooter`, `Action`;\n",
    "    + для платформ: `PS4`, `XOne`; \n",
    "    + с рейтингом `'от 17 и выше'` и `'для всех'`.\n",
    "\n",
    "   в **Европе**:  \n",
    "    \n",
    "    + жанров: `Action`, `Shooter`;\n",
    "    + для платформ: `PS4`, `XOne`; \n",
    "    + с рейтингом `'от 17 и выше'` и `'для всех'`.\n",
    "\n",
    "   в **Японии**:  \n",
    "\n",
    "    + жанров: `Role-Plaing`, `Action`;\n",
    "    + для платформ: `3DS`, `PS4`; \n",
    "    + с рейтингом `'от 13 и выше'` и `'для всех'`."
   ]
  }
 ],
 "metadata": {
  "ExecuteTimeLog": [
   {
    "duration": 62,
    "start_time": "2022-01-19T18:49:38.296Z"
   },
   {
    "duration": 1088,
    "start_time": "2022-01-22T08:39:41.160Z"
   },
   {
    "duration": 1483,
    "start_time": "2022-01-22T08:40:44.904Z"
   },
   {
    "duration": 49,
    "start_time": "2022-01-22T08:41:03.245Z"
   },
   {
    "duration": 41,
    "start_time": "2022-01-22T08:42:29.365Z"
   },
   {
    "duration": 44,
    "start_time": "2022-01-22T08:44:33.031Z"
   },
   {
    "duration": 49,
    "start_time": "2022-01-22T08:44:48.844Z"
   },
   {
    "duration": 203,
    "start_time": "2022-01-22T08:47:13.346Z"
   },
   {
    "duration": 198,
    "start_time": "2022-01-22T08:47:21.079Z"
   },
   {
    "duration": 193,
    "start_time": "2022-01-22T08:49:17.726Z"
   },
   {
    "duration": 5,
    "start_time": "2022-01-22T08:49:21.219Z"
   },
   {
    "duration": 4,
    "start_time": "2022-01-22T08:49:42.891Z"
   },
   {
    "duration": 191,
    "start_time": "2022-01-22T08:49:58.553Z"
   },
   {
    "duration": 203,
    "start_time": "2022-01-22T08:50:05.512Z"
   },
   {
    "duration": 4,
    "start_time": "2022-01-22T08:50:15.913Z"
   },
   {
    "duration": 3,
    "start_time": "2022-01-22T08:50:26.742Z"
   },
   {
    "duration": 50,
    "start_time": "2022-01-22T08:50:27.573Z"
   },
   {
    "duration": 5,
    "start_time": "2022-01-22T08:50:35.233Z"
   },
   {
    "duration": 17,
    "start_time": "2022-01-22T08:50:38.128Z"
   },
   {
    "duration": 2,
    "start_time": "2022-01-22T08:50:55.877Z"
   },
   {
    "duration": 20,
    "start_time": "2022-01-22T08:50:56.606Z"
   },
   {
    "duration": 188,
    "start_time": "2022-01-22T08:52:35.352Z"
   },
   {
    "duration": 64,
    "start_time": "2022-01-22T08:58:15.197Z"
   },
   {
    "duration": 69,
    "start_time": "2022-01-22T08:58:20.004Z"
   },
   {
    "duration": 5038,
    "start_time": "2022-01-22T09:01:59.380Z"
   },
   {
    "duration": 4,
    "start_time": "2022-01-22T09:02:38.470Z"
   },
   {
    "duration": 3,
    "start_time": "2022-01-22T09:02:45.435Z"
   },
   {
    "duration": 4,
    "start_time": "2022-01-22T09:02:48.108Z"
   },
   {
    "duration": 788,
    "start_time": "2022-01-22T09:03:00.362Z"
   },
   {
    "duration": 3,
    "start_time": "2022-01-22T09:03:10.249Z"
   },
   {
    "duration": 345,
    "start_time": "2022-01-22T09:06:45.074Z"
   },
   {
    "duration": 11,
    "start_time": "2022-01-22T09:07:28.365Z"
   },
   {
    "duration": 5,
    "start_time": "2022-01-22T09:08:08.259Z"
   },
   {
    "duration": 209,
    "start_time": "2022-01-22T09:08:47.439Z"
   },
   {
    "duration": 4,
    "start_time": "2022-01-22T09:08:58.198Z"
   },
   {
    "duration": 7,
    "start_time": "2022-01-22T09:10:12.264Z"
   },
   {
    "duration": 36,
    "start_time": "2022-01-22T09:12:00.195Z"
   },
   {
    "duration": 25,
    "start_time": "2022-01-22T09:12:00.906Z"
   },
   {
    "duration": 34,
    "start_time": "2022-01-22T09:14:29.567Z"
   },
   {
    "duration": 39,
    "start_time": "2022-01-22T09:14:30.176Z"
   },
   {
    "duration": 3,
    "start_time": "2022-01-22T09:17:33.144Z"
   },
   {
    "duration": 24,
    "start_time": "2022-01-22T09:18:37.051Z"
   },
   {
    "duration": 5,
    "start_time": "2022-01-22T09:19:08.826Z"
   },
   {
    "duration": 1076,
    "start_time": "2022-01-22T09:29:57.437Z"
   },
   {
    "duration": 35,
    "start_time": "2022-01-22T09:29:58.514Z"
   },
   {
    "duration": 42,
    "start_time": "2022-01-22T09:29:58.551Z"
   },
   {
    "duration": 17,
    "start_time": "2022-01-22T09:29:58.595Z"
   },
   {
    "duration": 25,
    "start_time": "2022-01-22T09:29:58.614Z"
   },
   {
    "duration": 4,
    "start_time": "2022-01-22T09:29:58.640Z"
   },
   {
    "duration": 356,
    "start_time": "2022-01-22T09:29:58.646Z"
   },
   {
    "duration": 14,
    "start_time": "2022-01-22T09:29:59.004Z"
   },
   {
    "duration": 7,
    "start_time": "2022-01-22T09:29:59.019Z"
   },
   {
    "duration": 18,
    "start_time": "2022-01-22T09:29:59.027Z"
   },
   {
    "duration": 10,
    "start_time": "2022-01-22T09:30:38.044Z"
   },
   {
    "duration": 20,
    "start_time": "2022-01-22T09:53:24.417Z"
   },
   {
    "duration": 266,
    "start_time": "2022-01-22T10:00:28.187Z"
   },
   {
    "duration": 302,
    "start_time": "2022-01-22T10:00:38.816Z"
   },
   {
    "duration": 270,
    "start_time": "2022-01-22T10:02:05.555Z"
   },
   {
    "duration": 548,
    "start_time": "2022-01-22T10:03:28.340Z"
   },
   {
    "duration": 457,
    "start_time": "2022-01-22T10:03:37.681Z"
   },
   {
    "duration": 451,
    "start_time": "2022-01-22T10:03:42.201Z"
   },
   {
    "duration": 521,
    "start_time": "2022-01-22T10:04:05.560Z"
   },
   {
    "duration": 445,
    "start_time": "2022-01-22T10:04:26.139Z"
   },
   {
    "duration": 1095,
    "start_time": "2022-01-22T10:04:58.932Z"
   },
   {
    "duration": 37,
    "start_time": "2022-01-22T10:05:00.028Z"
   },
   {
    "duration": 48,
    "start_time": "2022-01-22T10:05:00.067Z"
   },
   {
    "duration": 3,
    "start_time": "2022-01-22T10:05:00.117Z"
   },
   {
    "duration": 25,
    "start_time": "2022-01-22T10:05:00.121Z"
   },
   {
    "duration": 13,
    "start_time": "2022-01-22T10:05:00.148Z"
   },
   {
    "duration": 353,
    "start_time": "2022-01-22T10:05:00.163Z"
   },
   {
    "duration": 11,
    "start_time": "2022-01-22T10:05:00.518Z"
   },
   {
    "duration": 23,
    "start_time": "2022-01-22T10:05:00.531Z"
   },
   {
    "duration": 20,
    "start_time": "2022-01-22T10:05:00.556Z"
   },
   {
    "duration": 10,
    "start_time": "2022-01-22T10:05:00.578Z"
   },
   {
    "duration": 274,
    "start_time": "2022-01-22T10:05:00.589Z"
   },
   {
    "duration": 408,
    "start_time": "2022-01-22T10:23:28.278Z"
   },
   {
    "duration": 402,
    "start_time": "2022-01-22T10:24:50.565Z"
   },
   {
    "duration": 17,
    "start_time": "2022-01-22T10:46:18.156Z"
   },
   {
    "duration": 4,
    "start_time": "2022-01-22T10:50:38.316Z"
   },
   {
    "duration": 461,
    "start_time": "2022-01-22T10:51:14.780Z"
   },
   {
    "duration": 9,
    "start_time": "2022-01-22T11:00:06.942Z"
   },
   {
    "duration": 259,
    "start_time": "2022-01-22T11:00:56.733Z"
   },
   {
    "duration": 259,
    "start_time": "2022-01-22T11:02:51.224Z"
   },
   {
    "duration": 509,
    "start_time": "2022-01-22T11:05:57.350Z"
   },
   {
    "duration": 308,
    "start_time": "2022-01-22T11:06:24.858Z"
   },
   {
    "duration": 315,
    "start_time": "2022-01-22T11:07:07.068Z"
   },
   {
    "duration": 341,
    "start_time": "2022-01-22T11:07:16.371Z"
   },
   {
    "duration": 5,
    "start_time": "2022-01-22T11:07:46.482Z"
   },
   {
    "duration": 5,
    "start_time": "2022-01-22T11:08:10.661Z"
   },
   {
    "duration": 349,
    "start_time": "2022-01-22T11:09:14.255Z"
   },
   {
    "duration": 335,
    "start_time": "2022-01-22T11:10:30.872Z"
   },
   {
    "duration": 5,
    "start_time": "2022-01-22T11:11:12.013Z"
   },
   {
    "duration": 9,
    "start_time": "2022-01-22T11:16:03.135Z"
   },
   {
    "duration": 2656,
    "start_time": "2022-01-22T11:16:25.348Z"
   },
   {
    "duration": 9,
    "start_time": "2022-01-22T11:17:15.105Z"
   },
   {
    "duration": 2700,
    "start_time": "2022-01-22T11:17:15.727Z"
   },
   {
    "duration": 61,
    "start_time": "2022-01-22T11:19:06.798Z"
   },
   {
    "duration": 62,
    "start_time": "2022-01-22T11:19:56.371Z"
   },
   {
    "duration": 22,
    "start_time": "2022-01-22T11:22:54.059Z"
   },
   {
    "duration": 33,
    "start_time": "2022-01-22T11:23:46.931Z"
   },
   {
    "duration": 307,
    "start_time": "2022-01-22T11:24:41.138Z"
   },
   {
    "duration": 414,
    "start_time": "2022-01-22T11:33:28.503Z"
   },
   {
    "duration": 340,
    "start_time": "2022-01-22T11:33:42.367Z"
   },
   {
    "duration": 388,
    "start_time": "2022-01-22T11:34:00.107Z"
   },
   {
    "duration": 277,
    "start_time": "2022-01-22T11:34:17.329Z"
   },
   {
    "duration": 275,
    "start_time": "2022-01-22T11:34:22.793Z"
   },
   {
    "duration": 461,
    "start_time": "2022-01-22T11:34:32.109Z"
   },
   {
    "duration": 272,
    "start_time": "2022-01-22T11:34:52.599Z"
   },
   {
    "duration": 286,
    "start_time": "2022-01-22T11:34:59.636Z"
   },
   {
    "duration": 281,
    "start_time": "2022-01-22T11:35:10.978Z"
   },
   {
    "duration": 270,
    "start_time": "2022-01-22T11:35:17.432Z"
   },
   {
    "duration": 66,
    "start_time": "2022-01-22T11:38:32.096Z"
   },
   {
    "duration": 316,
    "start_time": "2022-01-22T11:38:37.156Z"
   },
   {
    "duration": 397,
    "start_time": "2022-01-22T11:38:46.001Z"
   },
   {
    "duration": 473,
    "start_time": "2022-01-22T11:40:37.321Z"
   },
   {
    "duration": 373,
    "start_time": "2022-01-22T11:50:53.086Z"
   },
   {
    "duration": 342,
    "start_time": "2022-01-22T11:51:28.572Z"
   },
   {
    "duration": 8,
    "start_time": "2022-01-22T12:07:09.330Z"
   },
   {
    "duration": 2616,
    "start_time": "2022-01-22T12:07:14.088Z"
   },
   {
    "duration": 347,
    "start_time": "2022-01-22T12:08:25.577Z"
   },
   {
    "duration": 332,
    "start_time": "2022-01-22T12:08:33.550Z"
   },
   {
    "duration": 439,
    "start_time": "2022-01-22T12:09:32.728Z"
   },
   {
    "duration": 11,
    "start_time": "2022-01-22T12:09:43.002Z"
   },
   {
    "duration": 2568,
    "start_time": "2022-01-22T12:09:44.932Z"
   },
   {
    "duration": 196,
    "start_time": "2022-01-22T12:11:18.603Z"
   },
   {
    "duration": 402,
    "start_time": "2022-01-22T12:11:39.668Z"
   },
   {
    "duration": 229,
    "start_time": "2022-01-22T12:12:02.229Z"
   },
   {
    "duration": 503,
    "start_time": "2022-01-22T12:12:05.909Z"
   },
   {
    "duration": 218,
    "start_time": "2022-01-22T12:12:12.747Z"
   },
   {
    "duration": 407,
    "start_time": "2022-01-22T12:12:27.082Z"
   },
   {
    "duration": 269,
    "start_time": "2022-01-22T12:13:25.217Z"
   },
   {
    "duration": 65,
    "start_time": "2022-01-22T12:37:17.050Z"
   },
   {
    "duration": 73,
    "start_time": "2022-01-22T12:37:50.525Z"
   },
   {
    "duration": 6,
    "start_time": "2022-01-22T12:38:13.382Z"
   },
   {
    "duration": 186,
    "start_time": "2022-01-22T12:56:36.398Z"
   },
   {
    "duration": 5,
    "start_time": "2022-01-22T12:56:41.386Z"
   },
   {
    "duration": 215,
    "start_time": "2022-01-22T12:56:41.943Z"
   },
   {
    "duration": 8,
    "start_time": "2022-01-22T12:58:02.117Z"
   },
   {
    "duration": 546,
    "start_time": "2022-01-22T12:58:43.512Z"
   },
   {
    "duration": 532,
    "start_time": "2022-01-22T12:59:51.523Z"
   },
   {
    "duration": 6,
    "start_time": "2022-01-22T13:01:14.713Z"
   },
   {
    "duration": 5,
    "start_time": "2022-01-22T13:01:36.395Z"
   },
   {
    "duration": 5,
    "start_time": "2022-01-22T13:01:37.062Z"
   },
   {
    "duration": 608,
    "start_time": "2022-01-22T13:01:38.773Z"
   },
   {
    "duration": 5,
    "start_time": "2022-01-22T13:02:48.066Z"
   },
   {
    "duration": 529,
    "start_time": "2022-01-22T13:02:51.404Z"
   },
   {
    "duration": 5,
    "start_time": "2022-01-22T13:03:24.683Z"
   },
   {
    "duration": 5,
    "start_time": "2022-01-22T13:03:30.189Z"
   },
   {
    "duration": 509,
    "start_time": "2022-01-22T13:03:33.662Z"
   },
   {
    "duration": 541,
    "start_time": "2022-01-22T13:04:31.129Z"
   },
   {
    "duration": 5,
    "start_time": "2022-01-22T13:04:48.729Z"
   },
   {
    "duration": 1142,
    "start_time": "2022-01-22T13:05:04.281Z"
   },
   {
    "duration": 5,
    "start_time": "2022-01-22T13:05:24.622Z"
   },
   {
    "duration": 509,
    "start_time": "2022-01-22T13:05:27.083Z"
   },
   {
    "duration": 5,
    "start_time": "2022-01-22T13:05:57.359Z"
   },
   {
    "duration": 1271,
    "start_time": "2022-01-22T13:06:00.619Z"
   },
   {
    "duration": 5,
    "start_time": "2022-01-22T13:06:55.917Z"
   },
   {
    "duration": 514,
    "start_time": "2022-01-22T13:06:59.390Z"
   },
   {
    "duration": 5,
    "start_time": "2022-01-22T13:07:11.183Z"
   },
   {
    "duration": 517,
    "start_time": "2022-01-22T13:07:13.988Z"
   },
   {
    "duration": 5,
    "start_time": "2022-01-22T13:07:20.435Z"
   },
   {
    "duration": 525,
    "start_time": "2022-01-22T13:07:24.699Z"
   },
   {
    "duration": 5,
    "start_time": "2022-01-22T13:07:42.973Z"
   },
   {
    "duration": 4,
    "start_time": "2022-01-22T13:07:47.808Z"
   },
   {
    "duration": 5,
    "start_time": "2022-01-22T13:07:49.378Z"
   },
   {
    "duration": 549,
    "start_time": "2022-01-22T13:07:51.246Z"
   },
   {
    "duration": 1124,
    "start_time": "2022-01-22T13:07:56.243Z"
   },
   {
    "duration": 5,
    "start_time": "2022-01-22T13:08:21.190Z"
   },
   {
    "duration": 547,
    "start_time": "2022-01-22T13:08:23.767Z"
   },
   {
    "duration": 568,
    "start_time": "2022-01-22T13:19:47.842Z"
   },
   {
    "duration": 548,
    "start_time": "2022-01-22T13:20:30.319Z"
   },
   {
    "duration": 586,
    "start_time": "2022-01-22T13:28:21.104Z"
   },
   {
    "duration": 536,
    "start_time": "2022-01-22T13:28:48.258Z"
   },
   {
    "duration": 9,
    "start_time": "2022-01-22T13:53:17.414Z"
   },
   {
    "duration": 4,
    "start_time": "2022-01-22T13:55:03.617Z"
   },
   {
    "duration": 5,
    "start_time": "2022-01-22T13:55:32.383Z"
   },
   {
    "duration": 4,
    "start_time": "2022-01-22T13:56:12.773Z"
   },
   {
    "duration": 4,
    "start_time": "2022-01-22T13:56:13.381Z"
   },
   {
    "duration": 14,
    "start_time": "2022-01-22T13:58:18.677Z"
   },
   {
    "duration": 15,
    "start_time": "2022-01-22T14:07:11.396Z"
   },
   {
    "duration": 1148,
    "start_time": "2022-01-22T14:25:55.885Z"
   },
   {
    "duration": 37,
    "start_time": "2022-01-22T14:25:57.035Z"
   },
   {
    "duration": 49,
    "start_time": "2022-01-22T14:25:57.074Z"
   },
   {
    "duration": 3,
    "start_time": "2022-01-22T14:25:57.124Z"
   },
   {
    "duration": 26,
    "start_time": "2022-01-22T14:25:57.129Z"
   },
   {
    "duration": 4,
    "start_time": "2022-01-22T14:25:57.156Z"
   },
   {
    "duration": 376,
    "start_time": "2022-01-22T14:25:57.162Z"
   },
   {
    "duration": 10,
    "start_time": "2022-01-22T14:25:57.540Z"
   },
   {
    "duration": 7,
    "start_time": "2022-01-22T14:25:57.552Z"
   },
   {
    "duration": 19,
    "start_time": "2022-01-22T14:25:57.561Z"
   },
   {
    "duration": 32,
    "start_time": "2022-01-22T14:25:57.581Z"
   },
   {
    "duration": 288,
    "start_time": "2022-01-22T14:25:57.614Z"
   },
   {
    "duration": 415,
    "start_time": "2022-01-22T14:25:57.904Z"
   },
   {
    "duration": 15,
    "start_time": "2022-01-22T14:25:58.321Z"
   },
   {
    "duration": 3,
    "start_time": "2022-01-22T14:25:58.338Z"
   },
   {
    "duration": 398,
    "start_time": "2022-01-22T14:25:58.342Z"
   },
   {
    "duration": 8,
    "start_time": "2022-01-22T14:25:58.741Z"
   },
   {
    "duration": 274,
    "start_time": "2022-01-22T14:25:58.751Z"
   },
   {
    "duration": 450,
    "start_time": "2022-01-22T14:25:59.027Z"
   },
   {
    "duration": 5,
    "start_time": "2022-01-22T14:25:59.479Z"
   },
   {
    "duration": 384,
    "start_time": "2022-01-22T14:25:59.485Z"
   },
   {
    "duration": 5,
    "start_time": "2022-01-22T14:25:59.871Z"
   },
   {
    "duration": 8,
    "start_time": "2022-01-22T14:25:59.880Z"
   },
   {
    "duration": 2529,
    "start_time": "2022-01-22T14:25:59.890Z"
   },
   {
    "duration": 57,
    "start_time": "2022-01-22T14:26:02.420Z"
   },
   {
    "duration": 80,
    "start_time": "2022-01-22T14:26:02.479Z"
   },
   {
    "duration": 17,
    "start_time": "2022-01-22T14:26:02.560Z"
   },
   {
    "duration": 296,
    "start_time": "2022-01-22T14:26:02.579Z"
   },
   {
    "duration": 4,
    "start_time": "2022-01-22T14:26:02.877Z"
   },
   {
    "duration": 7,
    "start_time": "2022-01-22T14:26:02.883Z"
   },
   {
    "duration": 488,
    "start_time": "2022-01-22T14:26:02.892Z"
   },
   {
    "duration": 565,
    "start_time": "2022-01-22T14:26:03.382Z"
   },
   {
    "duration": 504,
    "start_time": "2022-01-22T14:26:03.949Z"
   },
   {
    "duration": 489,
    "start_time": "2022-01-22T14:26:04.455Z"
   },
   {
    "duration": 493,
    "start_time": "2022-01-22T14:26:04.946Z"
   },
   {
    "duration": 473,
    "start_time": "2022-01-22T14:26:05.440Z"
   },
   {
    "duration": 14,
    "start_time": "2022-01-22T14:26:05.915Z"
   },
   {
    "duration": 11,
    "start_time": "2022-01-22T14:26:05.931Z"
   },
   {
    "duration": 1551,
    "start_time": "2022-01-29T08:43:27.135Z"
   },
   {
    "duration": 47,
    "start_time": "2022-01-29T08:43:28.689Z"
   },
   {
    "duration": 63,
    "start_time": "2022-01-29T08:43:28.739Z"
   },
   {
    "duration": 4,
    "start_time": "2022-01-29T08:43:28.805Z"
   },
   {
    "duration": 62,
    "start_time": "2022-01-29T08:43:28.811Z"
   },
   {
    "duration": 6,
    "start_time": "2022-01-29T08:43:28.875Z"
   },
   {
    "duration": 555,
    "start_time": "2022-01-29T08:43:28.883Z"
   },
   {
    "duration": 20,
    "start_time": "2022-01-29T08:43:29.442Z"
   },
   {
    "duration": 8,
    "start_time": "2022-01-29T08:43:29.465Z"
   },
   {
    "duration": 33,
    "start_time": "2022-01-29T08:43:29.476Z"
   },
   {
    "duration": 49,
    "start_time": "2022-01-29T08:43:29.512Z"
   },
   {
    "duration": 442,
    "start_time": "2022-01-29T08:43:29.564Z"
   },
   {
    "duration": 762,
    "start_time": "2022-01-29T08:43:30.010Z"
   },
   {
    "duration": 23,
    "start_time": "2022-01-29T08:43:30.775Z"
   },
   {
    "duration": 4,
    "start_time": "2022-01-29T08:43:30.801Z"
   },
   {
    "duration": 788,
    "start_time": "2022-01-29T08:43:30.807Z"
   },
   {
    "duration": 11,
    "start_time": "2022-01-29T08:43:31.597Z"
   },
   {
    "duration": 427,
    "start_time": "2022-01-29T08:43:31.610Z"
   },
   {
    "duration": 588,
    "start_time": "2022-01-29T08:43:32.039Z"
   },
   {
    "duration": 7,
    "start_time": "2022-01-29T08:43:32.629Z"
   },
   {
    "duration": 629,
    "start_time": "2022-01-29T08:43:32.638Z"
   },
   {
    "duration": 7,
    "start_time": "2022-01-29T08:43:33.269Z"
   },
   {
    "duration": 14,
    "start_time": "2022-01-29T08:43:33.281Z"
   },
   {
    "duration": 4239,
    "start_time": "2022-01-29T08:43:33.298Z"
   },
   {
    "duration": 91,
    "start_time": "2022-01-29T08:43:37.539Z"
   },
   {
    "duration": 101,
    "start_time": "2022-01-29T08:43:37.632Z"
   },
   {
    "duration": 43,
    "start_time": "2022-01-29T08:43:37.736Z"
   },
   {
    "duration": 447,
    "start_time": "2022-01-29T08:43:37.783Z"
   },
   {
    "duration": 7,
    "start_time": "2022-01-29T08:43:38.233Z"
   },
   {
    "duration": 18,
    "start_time": "2022-01-29T08:43:38.242Z"
   },
   {
    "duration": 736,
    "start_time": "2022-01-29T08:43:38.262Z"
   },
   {
    "duration": 810,
    "start_time": "2022-01-29T08:43:39.000Z"
   },
   {
    "duration": 765,
    "start_time": "2022-01-29T08:43:39.812Z"
   },
   {
    "duration": 765,
    "start_time": "2022-01-29T08:43:40.580Z"
   },
   {
    "duration": 782,
    "start_time": "2022-01-29T08:43:41.347Z"
   },
   {
    "duration": 750,
    "start_time": "2022-01-29T08:43:42.132Z"
   },
   {
    "duration": 23,
    "start_time": "2022-01-29T08:43:42.884Z"
   },
   {
    "duration": 23,
    "start_time": "2022-01-29T08:43:42.910Z"
   },
   {
    "duration": 5,
    "start_time": "2022-01-29T12:44:46.451Z"
   },
   {
    "duration": 9853,
    "start_time": "2022-01-29T12:44:51.654Z"
   },
   {
    "duration": 1464,
    "start_time": "2022-01-29T12:45:21.986Z"
   },
   {
    "duration": 47,
    "start_time": "2022-01-29T12:45:23.453Z"
   },
   {
    "duration": 72,
    "start_time": "2022-01-29T12:45:23.503Z"
   },
   {
    "duration": 3,
    "start_time": "2022-01-29T12:45:23.578Z"
   },
   {
    "duration": 36,
    "start_time": "2022-01-29T12:45:23.584Z"
   },
   {
    "duration": 6,
    "start_time": "2022-01-29T12:45:23.622Z"
   },
   {
    "duration": 565,
    "start_time": "2022-01-29T12:45:23.631Z"
   },
   {
    "duration": 17,
    "start_time": "2022-01-29T12:45:24.201Z"
   },
   {
    "duration": 7,
    "start_time": "2022-01-29T12:45:24.222Z"
   },
   {
    "duration": 54,
    "start_time": "2022-01-29T12:45:24.232Z"
   },
   {
    "duration": 17,
    "start_time": "2022-01-29T12:45:24.288Z"
   },
   {
    "duration": 470,
    "start_time": "2022-01-29T12:45:24.308Z"
   },
   {
    "duration": 657,
    "start_time": "2022-01-29T12:45:24.781Z"
   },
   {
    "duration": 36,
    "start_time": "2022-01-29T12:45:25.440Z"
   },
   {
    "duration": 5,
    "start_time": "2022-01-29T12:45:25.478Z"
   },
   {
    "duration": 10788,
    "start_time": "2022-01-29T12:45:25.486Z"
   },
   {
    "duration": -1010,
    "start_time": "2022-01-29T12:45:37.289Z"
   },
   {
    "duration": -1015,
    "start_time": "2022-01-29T12:45:37.297Z"
   },
   {
    "duration": -1016,
    "start_time": "2022-01-29T12:45:37.301Z"
   },
   {
    "duration": -1019,
    "start_time": "2022-01-29T12:45:37.306Z"
   },
   {
    "duration": -1022,
    "start_time": "2022-01-29T12:45:37.311Z"
   },
   {
    "duration": -1026,
    "start_time": "2022-01-29T12:45:37.317Z"
   },
   {
    "duration": -1029,
    "start_time": "2022-01-29T12:45:37.323Z"
   },
   {
    "duration": -1038,
    "start_time": "2022-01-29T12:45:37.334Z"
   },
   {
    "duration": -1040,
    "start_time": "2022-01-29T12:45:37.338Z"
   },
   {
    "duration": -1045,
    "start_time": "2022-01-29T12:45:37.346Z"
   },
   {
    "duration": -1047,
    "start_time": "2022-01-29T12:45:37.350Z"
   },
   {
    "duration": -1048,
    "start_time": "2022-01-29T12:45:37.354Z"
   },
   {
    "duration": -1058,
    "start_time": "2022-01-29T12:45:37.365Z"
   },
   {
    "duration": -1062,
    "start_time": "2022-01-29T12:45:37.372Z"
   },
   {
    "duration": -1070,
    "start_time": "2022-01-29T12:45:37.382Z"
   },
   {
    "duration": -1029,
    "start_time": "2022-01-29T12:45:37.388Z"
   },
   {
    "duration": -1037,
    "start_time": "2022-01-29T12:45:37.398Z"
   },
   {
    "duration": -1039,
    "start_time": "2022-01-29T12:45:37.402Z"
   },
   {
    "duration": -1041,
    "start_time": "2022-01-29T12:45:37.406Z"
   },
   {
    "duration": -1051,
    "start_time": "2022-01-29T12:45:37.417Z"
   },
   {
    "duration": -1052,
    "start_time": "2022-01-29T12:45:37.420Z"
   },
   {
    "duration": -1062,
    "start_time": "2022-01-29T12:45:37.431Z"
   },
   {
    "duration": 5281,
    "start_time": "2022-01-29T12:49:18.221Z"
   },
   {
    "duration": 10,
    "start_time": "2022-01-29T12:49:56.842Z"
   },
   {
    "duration": 5,
    "start_time": "2022-01-29T12:50:15.779Z"
   },
   {
    "duration": 5,
    "start_time": "2022-01-29T12:50:38.193Z"
   },
   {
    "duration": 9499,
    "start_time": "2022-01-29T12:51:47.878Z"
   },
   {
    "duration": 1814,
    "start_time": "2022-01-29T12:53:00.893Z"
   },
   {
    "duration": 807,
    "start_time": "2022-01-29T12:55:57.191Z"
   },
   {
    "duration": 309,
    "start_time": "2022-01-29T18:27:37.573Z"
   },
   {
    "duration": 1061,
    "start_time": "2022-01-29T18:27:51.514Z"
   },
   {
    "duration": 1173,
    "start_time": "2022-01-29T18:28:00.625Z"
   },
   {
    "duration": 40,
    "start_time": "2022-01-29T18:28:01.800Z"
   },
   {
    "duration": 42,
    "start_time": "2022-01-29T18:28:01.842Z"
   },
   {
    "duration": 3,
    "start_time": "2022-01-29T18:28:01.886Z"
   },
   {
    "duration": 34,
    "start_time": "2022-01-29T18:28:01.891Z"
   },
   {
    "duration": 4,
    "start_time": "2022-01-29T18:28:01.927Z"
   },
   {
    "duration": 373,
    "start_time": "2022-01-29T18:28:01.932Z"
   },
   {
    "duration": 10,
    "start_time": "2022-01-29T18:28:02.307Z"
   },
   {
    "duration": 12,
    "start_time": "2022-01-29T18:28:02.319Z"
   },
   {
    "duration": 24,
    "start_time": "2022-01-29T18:28:02.332Z"
   },
   {
    "duration": 10,
    "start_time": "2022-01-29T18:28:02.357Z"
   },
   {
    "duration": 275,
    "start_time": "2022-01-29T18:28:02.369Z"
   },
   {
    "duration": 395,
    "start_time": "2022-01-29T18:28:02.646Z"
   },
   {
    "duration": 26,
    "start_time": "2022-01-29T18:28:03.043Z"
   },
   {
    "duration": 4,
    "start_time": "2022-01-29T18:28:03.070Z"
   },
   {
    "duration": 7161,
    "start_time": "2022-01-29T18:28:03.076Z"
   },
   {
    "duration": 90,
    "start_time": "2022-01-29T18:28:10.149Z"
   },
   {
    "duration": 86,
    "start_time": "2022-01-29T18:28:10.154Z"
   },
   {
    "duration": 81,
    "start_time": "2022-01-29T18:28:10.159Z"
   },
   {
    "duration": 78,
    "start_time": "2022-01-29T18:28:10.163Z"
   },
   {
    "duration": 75,
    "start_time": "2022-01-29T18:28:10.167Z"
   },
   {
    "duration": 72,
    "start_time": "2022-01-29T18:28:10.171Z"
   },
   {
    "duration": 69,
    "start_time": "2022-01-29T18:28:10.174Z"
   },
   {
    "duration": 66,
    "start_time": "2022-01-29T18:28:10.178Z"
   },
   {
    "duration": 79,
    "start_time": "2022-01-29T18:28:10.181Z"
   },
   {
    "duration": 77,
    "start_time": "2022-01-29T18:28:10.184Z"
   },
   {
    "duration": 74,
    "start_time": "2022-01-29T18:28:10.188Z"
   },
   {
    "duration": 72,
    "start_time": "2022-01-29T18:28:10.191Z"
   },
   {
    "duration": 70,
    "start_time": "2022-01-29T18:28:10.194Z"
   },
   {
    "duration": 67,
    "start_time": "2022-01-29T18:28:10.198Z"
   },
   {
    "duration": 65,
    "start_time": "2022-01-29T18:28:10.201Z"
   },
   {
    "duration": 55,
    "start_time": "2022-01-29T18:28:10.211Z"
   },
   {
    "duration": 52,
    "start_time": "2022-01-29T18:28:10.215Z"
   },
   {
    "duration": 51,
    "start_time": "2022-01-29T18:28:10.218Z"
   },
   {
    "duration": 48,
    "start_time": "2022-01-29T18:28:10.222Z"
   },
   {
    "duration": 46,
    "start_time": "2022-01-29T18:28:10.225Z"
   },
   {
    "duration": 44,
    "start_time": "2022-01-29T18:28:10.228Z"
   },
   {
    "duration": 41,
    "start_time": "2022-01-29T18:28:10.232Z"
   },
   {
    "duration": 9160,
    "start_time": "2022-01-29T18:29:01.970Z"
   },
   {
    "duration": 588,
    "start_time": "2022-01-29T18:30:46.546Z"
   },
   {
    "duration": 7020,
    "start_time": "2022-01-29T18:31:11.783Z"
   },
   {
    "duration": 1172,
    "start_time": "2022-01-30T12:28:10.439Z"
   },
   {
    "duration": 43,
    "start_time": "2022-01-30T12:28:11.614Z"
   },
   {
    "duration": 53,
    "start_time": "2022-01-30T12:28:11.660Z"
   },
   {
    "duration": 7,
    "start_time": "2022-01-30T12:28:11.715Z"
   },
   {
    "duration": 40,
    "start_time": "2022-01-30T12:28:11.724Z"
   },
   {
    "duration": 5,
    "start_time": "2022-01-30T12:28:11.767Z"
   },
   {
    "duration": 429,
    "start_time": "2022-01-30T12:28:11.774Z"
   },
   {
    "duration": 11,
    "start_time": "2022-01-30T12:28:12.206Z"
   },
   {
    "duration": 11,
    "start_time": "2022-01-30T12:28:12.219Z"
   },
   {
    "duration": 31,
    "start_time": "2022-01-30T12:28:12.231Z"
   },
   {
    "duration": 11,
    "start_time": "2022-01-30T12:28:12.263Z"
   },
   {
    "duration": 281,
    "start_time": "2022-01-30T12:28:12.276Z"
   },
   {
    "duration": 388,
    "start_time": "2022-01-30T12:28:12.559Z"
   },
   {
    "duration": 22,
    "start_time": "2022-01-30T12:28:12.949Z"
   },
   {
    "duration": 3,
    "start_time": "2022-01-30T12:28:12.972Z"
   },
   {
    "duration": 7827,
    "start_time": "2022-01-30T12:28:12.977Z"
   },
   {
    "duration": -979,
    "start_time": "2022-01-30T12:28:21.787Z"
   },
   {
    "duration": -982,
    "start_time": "2022-01-30T12:28:21.791Z"
   },
   {
    "duration": -984,
    "start_time": "2022-01-30T12:28:21.795Z"
   },
   {
    "duration": -986,
    "start_time": "2022-01-30T12:28:21.798Z"
   },
   {
    "duration": -988,
    "start_time": "2022-01-30T12:28:21.802Z"
   },
   {
    "duration": -990,
    "start_time": "2022-01-30T12:28:21.805Z"
   },
   {
    "duration": -993,
    "start_time": "2022-01-30T12:28:21.809Z"
   },
   {
    "duration": -994,
    "start_time": "2022-01-30T12:28:21.812Z"
   },
   {
    "duration": -996,
    "start_time": "2022-01-30T12:28:21.815Z"
   },
   {
    "duration": -998,
    "start_time": "2022-01-30T12:28:21.819Z"
   },
   {
    "duration": -1000,
    "start_time": "2022-01-30T12:28:21.822Z"
   },
   {
    "duration": -1003,
    "start_time": "2022-01-30T12:28:21.826Z"
   },
   {
    "duration": -1005,
    "start_time": "2022-01-30T12:28:21.830Z"
   },
   {
    "duration": -1007,
    "start_time": "2022-01-30T12:28:21.833Z"
   },
   {
    "duration": -1009,
    "start_time": "2022-01-30T12:28:21.836Z"
   },
   {
    "duration": -1011,
    "start_time": "2022-01-30T12:28:21.839Z"
   },
   {
    "duration": -983,
    "start_time": "2022-01-30T12:28:21.842Z"
   },
   {
    "duration": -983,
    "start_time": "2022-01-30T12:28:21.845Z"
   },
   {
    "duration": -986,
    "start_time": "2022-01-30T12:28:21.849Z"
   },
   {
    "duration": -987,
    "start_time": "2022-01-30T12:28:21.852Z"
   },
   {
    "duration": -989,
    "start_time": "2022-01-30T12:28:21.855Z"
   },
   {
    "duration": -991,
    "start_time": "2022-01-30T12:28:21.858Z"
   },
   {
    "duration": 6737,
    "start_time": "2022-01-30T13:27:52.457Z"
   },
   {
    "duration": 6,
    "start_time": "2022-01-30T14:44:50.587Z"
   },
   {
    "duration": 252,
    "start_time": "2022-01-30T14:48:25.376Z"
   },
   {
    "duration": 6797,
    "start_time": "2022-01-30T14:48:36.079Z"
   },
   {
    "duration": 1449,
    "start_time": "2022-01-30T14:50:02.652Z"
   },
   {
    "duration": 2,
    "start_time": "2022-01-30T14:50:04.103Z"
   },
   {
    "duration": 49,
    "start_time": "2022-01-30T14:50:04.108Z"
   },
   {
    "duration": 43,
    "start_time": "2022-01-30T14:50:04.159Z"
   },
   {
    "duration": 3,
    "start_time": "2022-01-30T14:50:04.204Z"
   },
   {
    "duration": 36,
    "start_time": "2022-01-30T14:50:04.208Z"
   },
   {
    "duration": 17,
    "start_time": "2022-01-30T14:50:04.245Z"
   },
   {
    "duration": 379,
    "start_time": "2022-01-30T14:50:04.265Z"
   },
   {
    "duration": 17,
    "start_time": "2022-01-30T14:50:04.646Z"
   },
   {
    "duration": 7,
    "start_time": "2022-01-30T14:50:04.665Z"
   },
   {
    "duration": 24,
    "start_time": "2022-01-30T14:50:04.674Z"
   },
   {
    "duration": 10,
    "start_time": "2022-01-30T14:50:04.700Z"
   },
   {
    "duration": 292,
    "start_time": "2022-01-30T14:50:04.712Z"
   },
   {
    "duration": 395,
    "start_time": "2022-01-30T14:50:05.005Z"
   },
   {
    "duration": 6,
    "start_time": "2022-01-30T14:50:05.401Z"
   },
   {
    "duration": 6631,
    "start_time": "2022-01-30T14:50:05.409Z"
   },
   {
    "duration": 27,
    "start_time": "2022-01-30T14:50:12.042Z"
   },
   {
    "duration": 4,
    "start_time": "2022-01-30T14:50:12.071Z"
   },
   {
    "duration": 6997,
    "start_time": "2022-01-30T14:50:12.076Z"
   },
   {
    "duration": -703,
    "start_time": "2022-01-30T14:50:19.779Z"
   },
   {
    "duration": -708,
    "start_time": "2022-01-30T14:50:19.785Z"
   },
   {
    "duration": -715,
    "start_time": "2022-01-30T14:50:19.793Z"
   },
   {
    "duration": -719,
    "start_time": "2022-01-30T14:50:19.798Z"
   },
   {
    "duration": -720,
    "start_time": "2022-01-30T14:50:19.801Z"
   },
   {
    "duration": -724,
    "start_time": "2022-01-30T14:50:19.805Z"
   },
   {
    "duration": -725,
    "start_time": "2022-01-30T14:50:19.808Z"
   },
   {
    "duration": -729,
    "start_time": "2022-01-30T14:50:19.813Z"
   },
   {
    "duration": -732,
    "start_time": "2022-01-30T14:50:19.817Z"
   },
   {
    "duration": -734,
    "start_time": "2022-01-30T14:50:19.820Z"
   },
   {
    "duration": -735,
    "start_time": "2022-01-30T14:50:19.823Z"
   },
   {
    "duration": -738,
    "start_time": "2022-01-30T14:50:19.827Z"
   },
   {
    "duration": -740,
    "start_time": "2022-01-30T14:50:19.830Z"
   },
   {
    "duration": -743,
    "start_time": "2022-01-30T14:50:19.834Z"
   },
   {
    "duration": -745,
    "start_time": "2022-01-30T14:50:19.837Z"
   },
   {
    "duration": -748,
    "start_time": "2022-01-30T14:50:19.841Z"
   },
   {
    "duration": -750,
    "start_time": "2022-01-30T14:50:19.844Z"
   },
   {
    "duration": -753,
    "start_time": "2022-01-30T14:50:19.848Z"
   },
   {
    "duration": -756,
    "start_time": "2022-01-30T14:50:19.852Z"
   },
   {
    "duration": -758,
    "start_time": "2022-01-30T14:50:19.855Z"
   },
   {
    "duration": -761,
    "start_time": "2022-01-30T14:50:19.859Z"
   },
   {
    "duration": -764,
    "start_time": "2022-01-30T14:50:19.863Z"
   },
   {
    "duration": 16,
    "start_time": "2022-01-30T14:52:00.834Z"
   },
   {
    "duration": 19,
    "start_time": "2022-01-30T14:53:10.021Z"
   },
   {
    "duration": 26,
    "start_time": "2022-01-30T15:07:44.940Z"
   },
   {
    "duration": 26,
    "start_time": "2022-01-30T15:08:45.002Z"
   },
   {
    "duration": 7,
    "start_time": "2022-01-30T15:09:17.746Z"
   },
   {
    "duration": 23,
    "start_time": "2022-01-30T15:09:28.868Z"
   },
   {
    "duration": 21,
    "start_time": "2022-01-30T15:09:44.351Z"
   },
   {
    "duration": 17,
    "start_time": "2022-01-30T15:09:52.482Z"
   },
   {
    "duration": 6563,
    "start_time": "2022-01-30T15:14:38.880Z"
   },
   {
    "duration": 16,
    "start_time": "2022-01-30T15:23:53.946Z"
   },
   {
    "duration": 7,
    "start_time": "2022-01-30T15:24:26.350Z"
   },
   {
    "duration": 15,
    "start_time": "2022-01-30T15:27:34.907Z"
   },
   {
    "duration": 7,
    "start_time": "2022-01-30T15:27:36.466Z"
   },
   {
    "duration": 7,
    "start_time": "2022-01-30T15:27:45.921Z"
   },
   {
    "duration": 253,
    "start_time": "2022-01-30T15:27:55.297Z"
   },
   {
    "duration": 618,
    "start_time": "2022-01-30T15:28:58.662Z"
   },
   {
    "duration": 389,
    "start_time": "2022-01-30T15:29:06.003Z"
   },
   {
    "duration": 371,
    "start_time": "2022-01-30T15:30:22.090Z"
   },
   {
    "duration": 293,
    "start_time": "2022-01-30T15:30:32.471Z"
   },
   {
    "duration": 337,
    "start_time": "2022-01-30T15:35:41.227Z"
   },
   {
    "duration": 5,
    "start_time": "2022-01-30T15:35:44.937Z"
   },
   {
    "duration": 299,
    "start_time": "2022-01-30T15:35:45.999Z"
   },
   {
    "duration": 5,
    "start_time": "2022-01-30T15:35:49.272Z"
   },
   {
    "duration": 9,
    "start_time": "2022-01-30T15:36:22.969Z"
   },
   {
    "duration": 8,
    "start_time": "2022-01-30T15:36:33.741Z"
   },
   {
    "duration": 2646,
    "start_time": "2022-01-30T15:36:44.501Z"
   },
   {
    "duration": 10,
    "start_time": "2022-01-30T15:39:06.367Z"
   },
   {
    "duration": 2845,
    "start_time": "2022-01-30T15:39:07.706Z"
   },
   {
    "duration": 1211,
    "start_time": "2022-01-30T15:40:10.748Z"
   },
   {
    "duration": 3,
    "start_time": "2022-01-30T15:40:11.962Z"
   },
   {
    "duration": 50,
    "start_time": "2022-01-30T15:40:11.968Z"
   },
   {
    "duration": 45,
    "start_time": "2022-01-30T15:40:12.020Z"
   },
   {
    "duration": 3,
    "start_time": "2022-01-30T15:40:12.067Z"
   },
   {
    "duration": 35,
    "start_time": "2022-01-30T15:40:12.071Z"
   },
   {
    "duration": 5,
    "start_time": "2022-01-30T15:40:12.107Z"
   },
   {
    "duration": 496,
    "start_time": "2022-01-30T15:40:12.114Z"
   },
   {
    "duration": 11,
    "start_time": "2022-01-30T15:40:12.612Z"
   },
   {
    "duration": 33,
    "start_time": "2022-01-30T15:40:12.625Z"
   },
   {
    "duration": 29,
    "start_time": "2022-01-30T15:40:12.660Z"
   },
   {
    "duration": 12,
    "start_time": "2022-01-30T15:40:12.690Z"
   },
   {
    "duration": 299,
    "start_time": "2022-01-30T15:40:12.704Z"
   },
   {
    "duration": 408,
    "start_time": "2022-01-30T15:40:13.004Z"
   },
   {
    "duration": 6,
    "start_time": "2022-01-30T15:40:13.414Z"
   },
   {
    "duration": 8426,
    "start_time": "2022-01-30T15:40:13.421Z"
   },
   {
    "duration": 26,
    "start_time": "2022-01-30T15:40:21.849Z"
   },
   {
    "duration": 18,
    "start_time": "2022-01-30T15:40:21.878Z"
   },
   {
    "duration": 8,
    "start_time": "2022-01-30T15:40:21.898Z"
   },
   {
    "duration": 13,
    "start_time": "2022-01-30T15:40:21.908Z"
   },
   {
    "duration": 353,
    "start_time": "2022-01-30T15:40:21.923Z"
   },
   {
    "duration": 432,
    "start_time": "2022-01-30T15:40:22.278Z"
   },
   {
    "duration": 6,
    "start_time": "2022-01-30T15:40:22.715Z"
   },
   {
    "duration": 422,
    "start_time": "2022-01-30T15:40:22.723Z"
   },
   {
    "duration": 16,
    "start_time": "2022-01-30T15:40:23.147Z"
   },
   {
    "duration": 10,
    "start_time": "2022-01-30T15:40:23.165Z"
   },
   {
    "duration": 2742,
    "start_time": "2022-01-30T15:40:23.177Z"
   },
   {
    "duration": 60,
    "start_time": "2022-01-30T15:40:25.921Z"
   },
   {
    "duration": 46,
    "start_time": "2022-01-30T15:40:25.983Z"
   },
   {
    "duration": 39,
    "start_time": "2022-01-30T15:40:26.032Z"
   },
   {
    "duration": 268,
    "start_time": "2022-01-30T15:40:26.073Z"
   },
   {
    "duration": 5,
    "start_time": "2022-01-30T15:40:26.343Z"
   },
   {
    "duration": 13,
    "start_time": "2022-01-30T15:40:26.350Z"
   },
   {
    "duration": 698,
    "start_time": "2022-01-30T15:40:26.364Z"
   },
   {
    "duration": 467,
    "start_time": "2022-01-30T15:40:27.064Z"
   },
   {
    "duration": 474,
    "start_time": "2022-01-30T15:40:27.533Z"
   },
   {
    "duration": 491,
    "start_time": "2022-01-30T15:40:28.008Z"
   },
   {
    "duration": 509,
    "start_time": "2022-01-30T15:40:28.501Z"
   },
   {
    "duration": 468,
    "start_time": "2022-01-30T15:40:29.012Z"
   },
   {
    "duration": 14,
    "start_time": "2022-01-30T15:40:29.483Z"
   },
   {
    "duration": 22,
    "start_time": "2022-01-30T15:40:29.499Z"
   },
   {
    "duration": 18,
    "start_time": "2022-01-30T15:43:33.659Z"
   },
   {
    "duration": 492,
    "start_time": "2022-01-30T15:43:40.073Z"
   },
   {
    "duration": 22,
    "start_time": "2022-01-30T15:43:58.022Z"
   },
   {
    "duration": 375,
    "start_time": "2022-01-30T15:43:58.812Z"
   },
   {
    "duration": 1553,
    "start_time": "2022-01-30T15:46:07.789Z"
   },
   {
    "duration": 3,
    "start_time": "2022-01-30T15:46:09.344Z"
   },
   {
    "duration": 51,
    "start_time": "2022-01-30T15:46:09.349Z"
   },
   {
    "duration": 41,
    "start_time": "2022-01-30T15:46:09.402Z"
   },
   {
    "duration": 3,
    "start_time": "2022-01-30T15:46:09.445Z"
   },
   {
    "duration": 33,
    "start_time": "2022-01-30T15:46:09.449Z"
   },
   {
    "duration": 4,
    "start_time": "2022-01-30T15:46:09.484Z"
   },
   {
    "duration": 380,
    "start_time": "2022-01-30T15:46:09.491Z"
   },
   {
    "duration": 10,
    "start_time": "2022-01-30T15:46:09.874Z"
   },
   {
    "duration": 9,
    "start_time": "2022-01-30T15:46:09.886Z"
   },
   {
    "duration": 24,
    "start_time": "2022-01-30T15:46:09.897Z"
   },
   {
    "duration": 11,
    "start_time": "2022-01-30T15:46:09.923Z"
   },
   {
    "duration": 316,
    "start_time": "2022-01-30T15:46:09.936Z"
   },
   {
    "duration": 406,
    "start_time": "2022-01-30T15:46:10.260Z"
   },
   {
    "duration": 7,
    "start_time": "2022-01-30T15:46:10.668Z"
   },
   {
    "duration": 6842,
    "start_time": "2022-01-30T15:46:10.676Z"
   },
   {
    "duration": 20,
    "start_time": "2022-01-30T15:46:17.520Z"
   },
   {
    "duration": 35,
    "start_time": "2022-01-30T15:46:17.542Z"
   },
   {
    "duration": 6,
    "start_time": "2022-01-30T15:46:17.579Z"
   },
   {
    "duration": 13,
    "start_time": "2022-01-30T15:46:17.586Z"
   },
   {
    "duration": 315,
    "start_time": "2022-01-30T15:46:17.601Z"
   },
   {
    "duration": 365,
    "start_time": "2022-01-30T15:46:17.918Z"
   },
   {
    "duration": 4,
    "start_time": "2022-01-30T15:46:18.287Z"
   },
   {
    "duration": 341,
    "start_time": "2022-01-30T15:46:18.293Z"
   },
   {
    "duration": 5,
    "start_time": "2022-01-30T15:46:18.635Z"
   },
   {
    "duration": 19,
    "start_time": "2022-01-30T15:46:18.642Z"
   },
   {
    "duration": 2666,
    "start_time": "2022-01-30T15:46:18.662Z"
   },
   {
    "duration": 57,
    "start_time": "2022-01-30T15:46:21.330Z"
   },
   {
    "duration": 45,
    "start_time": "2022-01-30T15:46:21.389Z"
   },
   {
    "duration": 35,
    "start_time": "2022-01-30T15:46:21.436Z"
   },
   {
    "duration": 273,
    "start_time": "2022-01-30T15:46:21.472Z"
   },
   {
    "duration": 5,
    "start_time": "2022-01-30T15:46:21.747Z"
   },
   {
    "duration": 12,
    "start_time": "2022-01-30T15:46:21.761Z"
   },
   {
    "duration": 690,
    "start_time": "2022-01-30T15:46:21.775Z"
   },
   {
    "duration": 436,
    "start_time": "2022-01-30T15:46:22.466Z"
   },
   {
    "duration": 437,
    "start_time": "2022-01-30T15:46:22.903Z"
   },
   {
    "duration": 455,
    "start_time": "2022-01-30T15:46:23.341Z"
   },
   {
    "duration": 447,
    "start_time": "2022-01-30T15:46:23.797Z"
   },
   {
    "duration": 477,
    "start_time": "2022-01-30T15:46:24.246Z"
   },
   {
    "duration": 16,
    "start_time": "2022-01-30T15:46:24.725Z"
   },
   {
    "duration": 32,
    "start_time": "2022-01-30T15:46:24.743Z"
   },
   {
    "duration": 1215,
    "start_time": "2022-01-30T15:48:40.032Z"
   },
   {
    "duration": 3,
    "start_time": "2022-01-30T15:48:41.249Z"
   },
   {
    "duration": 39,
    "start_time": "2022-01-30T15:48:41.263Z"
   },
   {
    "duration": 41,
    "start_time": "2022-01-30T15:48:41.304Z"
   },
   {
    "duration": 3,
    "start_time": "2022-01-30T15:48:41.361Z"
   },
   {
    "duration": 26,
    "start_time": "2022-01-30T15:48:41.365Z"
   },
   {
    "duration": 4,
    "start_time": "2022-01-30T15:48:41.395Z"
   },
   {
    "duration": 598,
    "start_time": "2022-01-30T15:48:41.401Z"
   },
   {
    "duration": 12,
    "start_time": "2022-01-30T15:48:42.001Z"
   },
   {
    "duration": 14,
    "start_time": "2022-01-30T15:48:42.014Z"
   },
   {
    "duration": 20,
    "start_time": "2022-01-30T15:48:42.029Z"
   },
   {
    "duration": 19,
    "start_time": "2022-01-30T15:48:42.051Z"
   },
   {
    "duration": 290,
    "start_time": "2022-01-30T15:48:42.072Z"
   },
   {
    "duration": 404,
    "start_time": "2022-01-30T15:48:42.364Z"
   },
   {
    "duration": 6,
    "start_time": "2022-01-30T15:48:42.770Z"
   },
   {
    "duration": 6858,
    "start_time": "2022-01-30T15:48:42.778Z"
   },
   {
    "duration": 25,
    "start_time": "2022-01-30T15:48:49.638Z"
   },
   {
    "duration": 15,
    "start_time": "2022-01-30T15:48:49.665Z"
   },
   {
    "duration": 6,
    "start_time": "2022-01-30T15:48:49.681Z"
   },
   {
    "duration": 11,
    "start_time": "2022-01-30T15:48:49.688Z"
   },
   {
    "duration": 308,
    "start_time": "2022-01-30T15:48:49.700Z"
   },
   {
    "duration": 343,
    "start_time": "2022-01-30T15:48:50.013Z"
   },
   {
    "duration": 4,
    "start_time": "2022-01-30T15:48:50.361Z"
   },
   {
    "duration": 359,
    "start_time": "2022-01-30T15:48:50.366Z"
   },
   {
    "duration": 5,
    "start_time": "2022-01-30T15:48:50.727Z"
   },
   {
    "duration": 10,
    "start_time": "2022-01-30T15:48:50.733Z"
   },
   {
    "duration": 2486,
    "start_time": "2022-01-30T15:48:50.760Z"
   },
   {
    "duration": 44,
    "start_time": "2022-01-30T15:48:53.247Z"
   },
   {
    "duration": 72,
    "start_time": "2022-01-30T15:48:53.293Z"
   },
   {
    "duration": 16,
    "start_time": "2022-01-30T15:48:53.367Z"
   },
   {
    "duration": 287,
    "start_time": "2022-01-30T15:48:53.384Z"
   },
   {
    "duration": 5,
    "start_time": "2022-01-30T15:48:53.672Z"
   },
   {
    "duration": 11,
    "start_time": "2022-01-30T15:48:53.679Z"
   },
   {
    "duration": 636,
    "start_time": "2022-01-30T15:48:53.691Z"
   },
   {
    "duration": 486,
    "start_time": "2022-01-30T15:48:54.329Z"
   },
   {
    "duration": 489,
    "start_time": "2022-01-30T15:48:54.818Z"
   },
   {
    "duration": 516,
    "start_time": "2022-01-30T15:48:55.309Z"
   },
   {
    "duration": 474,
    "start_time": "2022-01-30T15:48:55.826Z"
   },
   {
    "duration": 468,
    "start_time": "2022-01-30T15:48:56.302Z"
   },
   {
    "duration": 14,
    "start_time": "2022-01-30T15:48:56.772Z"
   },
   {
    "duration": 15,
    "start_time": "2022-01-30T15:48:56.788Z"
   },
   {
    "duration": 106,
    "start_time": "2022-01-30T15:50:39.155Z"
   },
   {
    "duration": 612,
    "start_time": "2022-01-30T15:50:46.542Z"
   },
   {
    "duration": 11,
    "start_time": "2022-01-30T15:51:14.257Z"
   },
   {
    "duration": 2881,
    "start_time": "2022-01-30T15:51:17.754Z"
   },
   {
    "duration": 11,
    "start_time": "2022-01-30T15:53:48.709Z"
   },
   {
    "duration": 3071,
    "start_time": "2022-01-30T15:53:55.457Z"
   },
   {
    "duration": 13,
    "start_time": "2022-01-30T15:55:02.060Z"
   },
   {
    "duration": 2642,
    "start_time": "2022-01-30T15:55:03.112Z"
   },
   {
    "duration": 12,
    "start_time": "2022-01-30T15:55:52.180Z"
   },
   {
    "duration": 2650,
    "start_time": "2022-01-30T15:55:52.912Z"
   },
   {
    "duration": 12,
    "start_time": "2022-01-30T15:57:39.613Z"
   },
   {
    "duration": 2975,
    "start_time": "2022-01-30T15:57:40.261Z"
   },
   {
    "duration": 17,
    "start_time": "2022-01-30T15:58:38.075Z"
   },
   {
    "duration": 3813,
    "start_time": "2022-01-30T15:58:38.795Z"
   },
   {
    "duration": 1239,
    "start_time": "2022-01-30T15:59:14.152Z"
   },
   {
    "duration": 2,
    "start_time": "2022-01-30T15:59:15.393Z"
   },
   {
    "duration": 42,
    "start_time": "2022-01-30T15:59:15.397Z"
   },
   {
    "duration": 42,
    "start_time": "2022-01-30T15:59:15.441Z"
   },
   {
    "duration": 3,
    "start_time": "2022-01-30T15:59:15.485Z"
   },
   {
    "duration": 27,
    "start_time": "2022-01-30T15:59:15.490Z"
   },
   {
    "duration": 4,
    "start_time": "2022-01-30T15:59:15.519Z"
   },
   {
    "duration": 363,
    "start_time": "2022-01-30T15:59:15.526Z"
   },
   {
    "duration": 9,
    "start_time": "2022-01-30T15:59:15.892Z"
   },
   {
    "duration": 13,
    "start_time": "2022-01-30T15:59:15.903Z"
   },
   {
    "duration": 36,
    "start_time": "2022-01-30T15:59:15.917Z"
   },
   {
    "duration": 10,
    "start_time": "2022-01-30T15:59:15.955Z"
   },
   {
    "duration": 276,
    "start_time": "2022-01-30T15:59:15.966Z"
   },
   {
    "duration": 382,
    "start_time": "2022-01-30T15:59:16.244Z"
   },
   {
    "duration": 6,
    "start_time": "2022-01-30T15:59:16.628Z"
   },
   {
    "duration": 6711,
    "start_time": "2022-01-30T15:59:16.636Z"
   },
   {
    "duration": 25,
    "start_time": "2022-01-30T15:59:23.349Z"
   },
   {
    "duration": 15,
    "start_time": "2022-01-30T15:59:23.376Z"
   },
   {
    "duration": 6,
    "start_time": "2022-01-30T15:59:23.393Z"
   },
   {
    "duration": 11,
    "start_time": "2022-01-30T15:59:23.401Z"
   },
   {
    "duration": 320,
    "start_time": "2022-01-30T15:59:23.414Z"
   },
   {
    "duration": 384,
    "start_time": "2022-01-30T15:59:23.736Z"
   },
   {
    "duration": 5,
    "start_time": "2022-01-30T15:59:24.124Z"
   },
   {
    "duration": 384,
    "start_time": "2022-01-30T15:59:24.131Z"
   },
   {
    "duration": 4,
    "start_time": "2022-01-30T15:59:24.517Z"
   },
   {
    "duration": 16,
    "start_time": "2022-01-30T15:59:24.523Z"
   },
   {
    "duration": 3626,
    "start_time": "2022-01-30T15:59:24.541Z"
   },
   {
    "duration": 41,
    "start_time": "2022-01-30T15:59:28.169Z"
   },
   {
    "duration": 73,
    "start_time": "2022-01-30T15:59:28.212Z"
   },
   {
    "duration": 15,
    "start_time": "2022-01-30T15:59:28.287Z"
   },
   {
    "duration": 275,
    "start_time": "2022-01-30T15:59:28.304Z"
   },
   {
    "duration": 5,
    "start_time": "2022-01-30T15:59:28.582Z"
   },
   {
    "duration": 8,
    "start_time": "2022-01-30T15:59:28.589Z"
   },
   {
    "duration": 653,
    "start_time": "2022-01-30T15:59:28.598Z"
   },
   {
    "duration": 449,
    "start_time": "2022-01-30T15:59:29.253Z"
   },
   {
    "duration": 456,
    "start_time": "2022-01-30T15:59:29.704Z"
   },
   {
    "duration": 470,
    "start_time": "2022-01-30T15:59:30.162Z"
   },
   {
    "duration": 452,
    "start_time": "2022-01-30T15:59:30.634Z"
   },
   {
    "duration": 459,
    "start_time": "2022-01-30T15:59:31.088Z"
   },
   {
    "duration": 20,
    "start_time": "2022-01-30T15:59:31.549Z"
   },
   {
    "duration": 22,
    "start_time": "2022-01-30T15:59:31.571Z"
   },
   {
    "duration": 108,
    "start_time": "2022-01-30T16:03:20.611Z"
   },
   {
    "duration": 2565,
    "start_time": "2022-01-30T16:03:21.163Z"
   },
   {
    "duration": 11,
    "start_time": "2022-01-30T16:03:40.533Z"
   },
   {
    "duration": 2601,
    "start_time": "2022-01-30T16:03:41.714Z"
   },
   {
    "duration": 13,
    "start_time": "2022-01-30T16:06:47.524Z"
   },
   {
    "duration": 2784,
    "start_time": "2022-01-30T16:06:48.343Z"
   },
   {
    "duration": 14,
    "start_time": "2022-01-30T16:08:35.197Z"
   },
   {
    "duration": 2791,
    "start_time": "2022-01-30T16:08:35.956Z"
   },
   {
    "duration": 1126,
    "start_time": "2022-01-30T16:09:08.766Z"
   },
   {
    "duration": 2,
    "start_time": "2022-01-30T16:09:09.894Z"
   },
   {
    "duration": 42,
    "start_time": "2022-01-30T16:09:09.898Z"
   },
   {
    "duration": 40,
    "start_time": "2022-01-30T16:09:09.942Z"
   },
   {
    "duration": 3,
    "start_time": "2022-01-30T16:09:09.983Z"
   },
   {
    "duration": 29,
    "start_time": "2022-01-30T16:09:09.987Z"
   },
   {
    "duration": 5,
    "start_time": "2022-01-30T16:09:10.017Z"
   },
   {
    "duration": 369,
    "start_time": "2022-01-30T16:09:10.024Z"
   },
   {
    "duration": 10,
    "start_time": "2022-01-30T16:09:10.395Z"
   },
   {
    "duration": 7,
    "start_time": "2022-01-30T16:09:10.407Z"
   },
   {
    "duration": 19,
    "start_time": "2022-01-30T16:09:10.415Z"
   },
   {
    "duration": 26,
    "start_time": "2022-01-30T16:09:10.435Z"
   },
   {
    "duration": 273,
    "start_time": "2022-01-30T16:09:10.463Z"
   },
   {
    "duration": 384,
    "start_time": "2022-01-30T16:09:10.738Z"
   },
   {
    "duration": 6,
    "start_time": "2022-01-30T16:09:11.124Z"
   },
   {
    "duration": 6578,
    "start_time": "2022-01-30T16:09:11.131Z"
   },
   {
    "duration": 18,
    "start_time": "2022-01-30T16:09:17.712Z"
   },
   {
    "duration": 32,
    "start_time": "2022-01-30T16:09:17.732Z"
   },
   {
    "duration": 6,
    "start_time": "2022-01-30T16:09:17.766Z"
   },
   {
    "duration": 9,
    "start_time": "2022-01-30T16:09:17.773Z"
   },
   {
    "duration": 299,
    "start_time": "2022-01-30T16:09:17.784Z"
   },
   {
    "duration": 336,
    "start_time": "2022-01-30T16:09:18.085Z"
   },
   {
    "duration": 4,
    "start_time": "2022-01-30T16:09:18.425Z"
   },
   {
    "duration": 361,
    "start_time": "2022-01-30T16:09:18.432Z"
   },
   {
    "duration": 5,
    "start_time": "2022-01-30T16:09:18.794Z"
   },
   {
    "duration": 14,
    "start_time": "2022-01-30T16:09:18.800Z"
   },
   {
    "duration": 2501,
    "start_time": "2022-01-30T16:09:18.815Z"
   },
   {
    "duration": 55,
    "start_time": "2022-01-30T16:09:21.317Z"
   },
   {
    "duration": 38,
    "start_time": "2022-01-30T16:09:21.373Z"
   },
   {
    "duration": 16,
    "start_time": "2022-01-30T16:09:21.413Z"
   },
   {
    "duration": 293,
    "start_time": "2022-01-30T16:09:21.431Z"
   },
   {
    "duration": 5,
    "start_time": "2022-01-30T16:09:21.727Z"
   },
   {
    "duration": 26,
    "start_time": "2022-01-30T16:09:21.734Z"
   },
   {
    "duration": 653,
    "start_time": "2022-01-30T16:09:21.762Z"
   },
   {
    "duration": 468,
    "start_time": "2022-01-30T16:09:22.417Z"
   },
   {
    "duration": 455,
    "start_time": "2022-01-30T16:09:22.886Z"
   },
   {
    "duration": 475,
    "start_time": "2022-01-30T16:09:23.344Z"
   },
   {
    "duration": 443,
    "start_time": "2022-01-30T16:09:23.821Z"
   },
   {
    "duration": 452,
    "start_time": "2022-01-30T16:09:24.266Z"
   },
   {
    "duration": 11,
    "start_time": "2022-01-30T16:09:24.720Z"
   },
   {
    "duration": 19,
    "start_time": "2022-01-30T16:09:24.732Z"
   },
   {
    "duration": 536,
    "start_time": "2022-01-30T16:15:58.229Z"
   },
   {
    "duration": 443,
    "start_time": "2022-01-30T16:17:31.624Z"
   },
   {
    "duration": 1656,
    "start_time": "2022-01-30T16:36:36.714Z"
   },
   {
    "duration": 340,
    "start_time": "2022-01-30T16:40:57.472Z"
   },
   {
    "duration": 18,
    "start_time": "2022-01-30T16:41:03.704Z"
   },
   {
    "duration": 19,
    "start_time": "2022-01-30T16:42:53.731Z"
   },
   {
    "duration": 17,
    "start_time": "2022-01-30T16:44:12.492Z"
   },
   {
    "duration": 298,
    "start_time": "2022-01-30T16:48:31.301Z"
   },
   {
    "duration": 18,
    "start_time": "2022-01-30T16:48:38.637Z"
   },
   {
    "duration": 16,
    "start_time": "2022-01-30T16:49:59.166Z"
   },
   {
    "duration": 16,
    "start_time": "2022-01-30T16:51:11.536Z"
   },
   {
    "duration": 25,
    "start_time": "2022-01-30T16:54:07.832Z"
   },
   {
    "duration": 20,
    "start_time": "2022-01-30T16:54:48.765Z"
   },
   {
    "duration": 18,
    "start_time": "2022-01-30T16:54:49.226Z"
   },
   {
    "duration": 18,
    "start_time": "2022-01-30T16:54:49.396Z"
   },
   {
    "duration": 18,
    "start_time": "2022-01-30T16:54:49.804Z"
   },
   {
    "duration": 18,
    "start_time": "2022-01-30T16:54:49.944Z"
   },
   {
    "duration": 16,
    "start_time": "2022-01-30T16:54:50.386Z"
   },
   {
    "duration": 18,
    "start_time": "2022-01-30T16:54:51.547Z"
   },
   {
    "duration": 23,
    "start_time": "2022-01-30T16:55:32.419Z"
   },
   {
    "duration": 15,
    "start_time": "2022-01-30T16:56:41.204Z"
   },
   {
    "duration": 9,
    "start_time": "2022-01-30T17:17:44.357Z"
   },
   {
    "duration": 13,
    "start_time": "2022-01-30T17:27:04.441Z"
   },
   {
    "duration": 1139,
    "start_time": "2022-01-30T17:34:57.352Z"
   },
   {
    "duration": 3,
    "start_time": "2022-01-30T17:34:58.493Z"
   },
   {
    "duration": 42,
    "start_time": "2022-01-30T17:34:58.498Z"
   },
   {
    "duration": 44,
    "start_time": "2022-01-30T17:34:58.542Z"
   },
   {
    "duration": 3,
    "start_time": "2022-01-30T17:34:58.587Z"
   },
   {
    "duration": 28,
    "start_time": "2022-01-30T17:34:58.592Z"
   },
   {
    "duration": 4,
    "start_time": "2022-01-30T17:34:58.622Z"
   },
   {
    "duration": 374,
    "start_time": "2022-01-30T17:34:58.629Z"
   },
   {
    "duration": 10,
    "start_time": "2022-01-30T17:34:59.005Z"
   },
   {
    "duration": 15,
    "start_time": "2022-01-30T17:34:59.016Z"
   },
   {
    "duration": 24,
    "start_time": "2022-01-30T17:34:59.032Z"
   },
   {
    "duration": 10,
    "start_time": "2022-01-30T17:34:59.058Z"
   },
   {
    "duration": 278,
    "start_time": "2022-01-30T17:34:59.069Z"
   },
   {
    "duration": 398,
    "start_time": "2022-01-30T17:34:59.349Z"
   },
   {
    "duration": 12,
    "start_time": "2022-01-30T17:34:59.749Z"
   },
   {
    "duration": 6569,
    "start_time": "2022-01-30T17:34:59.763Z"
   },
   {
    "duration": 16,
    "start_time": "2022-01-30T17:35:06.334Z"
   },
   {
    "duration": 14,
    "start_time": "2022-01-30T17:35:06.361Z"
   },
   {
    "duration": 6,
    "start_time": "2022-01-30T17:35:06.376Z"
   },
   {
    "duration": 8,
    "start_time": "2022-01-30T17:35:06.383Z"
   },
   {
    "duration": 367,
    "start_time": "2022-01-30T17:35:06.392Z"
   },
   {
    "duration": 367,
    "start_time": "2022-01-30T17:35:06.762Z"
   },
   {
    "duration": 5,
    "start_time": "2022-01-30T17:35:07.133Z"
   },
   {
    "duration": 362,
    "start_time": "2022-01-30T17:35:07.141Z"
   },
   {
    "duration": 5,
    "start_time": "2022-01-30T17:35:07.505Z"
   },
   {
    "duration": 13,
    "start_time": "2022-01-30T17:35:07.511Z"
   },
   {
    "duration": 2727,
    "start_time": "2022-01-30T17:35:07.526Z"
   },
   {
    "duration": 45,
    "start_time": "2022-01-30T17:35:10.254Z"
   },
   {
    "duration": 69,
    "start_time": "2022-01-30T17:35:10.301Z"
   },
   {
    "duration": 16,
    "start_time": "2022-01-30T17:35:10.371Z"
   },
   {
    "duration": 276,
    "start_time": "2022-01-30T17:35:10.389Z"
   },
   {
    "duration": 5,
    "start_time": "2022-01-30T17:35:10.668Z"
   },
   {
    "duration": 643,
    "start_time": "2022-01-30T17:35:10.675Z"
   },
   {
    "duration": 452,
    "start_time": "2022-01-30T17:35:11.320Z"
   },
   {
    "duration": 471,
    "start_time": "2022-01-30T17:35:11.774Z"
   },
   {
    "duration": 1536,
    "start_time": "2022-01-30T17:35:12.247Z"
   },
   {
    "duration": 21,
    "start_time": "2022-01-30T17:35:13.785Z"
   },
   {
    "duration": 17,
    "start_time": "2022-01-30T17:35:13.808Z"
   },
   {
    "duration": 44,
    "start_time": "2022-01-30T17:35:13.827Z"
   },
   {
    "duration": 16,
    "start_time": "2022-01-30T17:35:13.873Z"
   },
   {
    "duration": 15,
    "start_time": "2022-01-30T17:35:13.890Z"
   },
   {
    "duration": 18,
    "start_time": "2022-01-30T17:35:13.907Z"
   },
   {
    "duration": 50,
    "start_time": "2022-01-30T17:35:13.926Z"
   },
   {
    "duration": 16,
    "start_time": "2022-01-30T17:35:13.978Z"
   },
   {
    "duration": 15,
    "start_time": "2022-01-30T17:35:13.996Z"
   },
   {
    "duration": 8,
    "start_time": "2022-01-30T17:35:14.013Z"
   },
   {
    "duration": 10,
    "start_time": "2022-01-30T17:35:14.023Z"
   },
   {
    "duration": 1154,
    "start_time": "2022-01-30T17:53:03.241Z"
   },
   {
    "duration": 4,
    "start_time": "2022-01-30T17:53:04.397Z"
   },
   {
    "duration": 54,
    "start_time": "2022-01-30T17:53:04.404Z"
   },
   {
    "duration": 46,
    "start_time": "2022-01-30T17:53:04.460Z"
   },
   {
    "duration": 3,
    "start_time": "2022-01-30T17:53:04.509Z"
   },
   {
    "duration": 57,
    "start_time": "2022-01-30T17:53:04.514Z"
   },
   {
    "duration": 6,
    "start_time": "2022-01-30T17:53:04.573Z"
   },
   {
    "duration": 379,
    "start_time": "2022-01-30T17:53:04.581Z"
   },
   {
    "duration": 11,
    "start_time": "2022-01-30T17:53:04.962Z"
   },
   {
    "duration": 9,
    "start_time": "2022-01-30T17:53:04.974Z"
   },
   {
    "duration": 24,
    "start_time": "2022-01-30T17:53:04.985Z"
   },
   {
    "duration": 12,
    "start_time": "2022-01-30T17:53:05.010Z"
   },
   {
    "duration": 292,
    "start_time": "2022-01-30T17:53:05.024Z"
   },
   {
    "duration": 390,
    "start_time": "2022-01-30T17:53:05.318Z"
   },
   {
    "duration": 6,
    "start_time": "2022-01-30T17:53:05.710Z"
   },
   {
    "duration": 6661,
    "start_time": "2022-01-30T17:53:05.718Z"
   },
   {
    "duration": 16,
    "start_time": "2022-01-30T17:53:12.381Z"
   },
   {
    "duration": 20,
    "start_time": "2022-01-30T17:53:12.399Z"
   },
   {
    "duration": 6,
    "start_time": "2022-01-30T17:53:12.420Z"
   },
   {
    "duration": 6,
    "start_time": "2022-01-30T17:53:12.428Z"
   },
   {
    "duration": 432,
    "start_time": "2022-01-30T17:53:12.435Z"
   },
   {
    "duration": 335,
    "start_time": "2022-01-30T17:53:12.870Z"
   },
   {
    "duration": 4,
    "start_time": "2022-01-30T17:53:13.209Z"
   },
   {
    "duration": 334,
    "start_time": "2022-01-30T17:53:13.215Z"
   },
   {
    "duration": 13,
    "start_time": "2022-01-30T17:53:13.551Z"
   },
   {
    "duration": 14,
    "start_time": "2022-01-30T17:53:13.566Z"
   },
   {
    "duration": 2536,
    "start_time": "2022-01-30T17:53:13.581Z"
   },
   {
    "duration": 58,
    "start_time": "2022-01-30T17:53:16.119Z"
   },
   {
    "duration": 42,
    "start_time": "2022-01-30T17:53:16.179Z"
   },
   {
    "duration": 39,
    "start_time": "2022-01-30T17:53:16.223Z"
   },
   {
    "duration": 273,
    "start_time": "2022-01-30T17:53:16.264Z"
   },
   {
    "duration": 5,
    "start_time": "2022-01-30T17:53:16.539Z"
   },
   {
    "duration": 655,
    "start_time": "2022-01-30T17:53:16.546Z"
   },
   {
    "duration": 439,
    "start_time": "2022-01-30T17:53:17.203Z"
   },
   {
    "duration": 435,
    "start_time": "2022-01-30T17:53:17.644Z"
   },
   {
    "duration": 1558,
    "start_time": "2022-01-30T17:53:18.080Z"
   },
   {
    "duration": 32,
    "start_time": "2022-01-30T17:53:19.640Z"
   },
   {
    "duration": 17,
    "start_time": "2022-01-30T17:53:19.674Z"
   },
   {
    "duration": 17,
    "start_time": "2022-01-30T17:53:19.693Z"
   },
   {
    "duration": 19,
    "start_time": "2022-01-30T17:53:19.712Z"
   },
   {
    "duration": 18,
    "start_time": "2022-01-30T17:53:19.761Z"
   },
   {
    "duration": 16,
    "start_time": "2022-01-30T17:53:19.780Z"
   },
   {
    "duration": 22,
    "start_time": "2022-01-30T17:53:19.798Z"
   },
   {
    "duration": 40,
    "start_time": "2022-01-30T17:53:19.821Z"
   },
   {
    "duration": 17,
    "start_time": "2022-01-30T17:53:19.862Z"
   },
   {
    "duration": 9,
    "start_time": "2022-01-30T17:53:19.881Z"
   },
   {
    "duration": 11,
    "start_time": "2022-01-30T17:53:19.894Z"
   }
  ],
  "kernelspec": {
   "display_name": "Python 3",
   "language": "python",
   "name": "python3"
  },
  "language_info": {
   "codemirror_mode": {
    "name": "ipython",
    "version": 3
   },
   "file_extension": ".py",
   "mimetype": "text/x-python",
   "name": "python",
   "nbconvert_exporter": "python",
   "pygments_lexer": "ipython3",
   "version": "3.8.8"
  },
  "toc": {
   "base_numbering": 1,
   "nav_menu": {},
   "number_sections": false,
   "sideBar": true,
   "skip_h1_title": false,
   "title_cell": "Table of Contents",
   "title_sidebar": "Contents",
   "toc_cell": false,
   "toc_position": {},
   "toc_section_display": true,
   "toc_window_display": true
  }
 },
 "nbformat": 4,
 "nbformat_minor": 2
}

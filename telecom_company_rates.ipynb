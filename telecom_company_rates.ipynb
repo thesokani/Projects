{
 "cells": [
  {
   "cell_type": "markdown",
   "metadata": {},
   "source": [
    "# Определение перспективного тарифа для телеком-компании"
   ]
  },
  {
   "cell_type": "markdown",
   "metadata": {},
   "source": [
    "# Описание проекта\n",
    "\n",
    "Вы аналитик компании «Мегалайн» — федерального оператора сотовой связи. Клиентам предлагают два тарифных плана: `Smart` и `Ultra`. Чтобы скорректировать рекламный бюджет, коммерческий департамент хочет понять, какой тариф приносит больше денег.\n",
    "Вам предстоит сделать предварительный анализ тарифов на небольшой выборке клиентов. В вашем распоряжении данные 500 пользователей «Мегалайна»: кто они, откуда, каким тарифом пользуются, сколько звонков и сообщений каждый отправил за 2018 год. Нужно проанализировать поведение клиентов и сделать вывод — какой тариф лучше."
   ]
  },
  {
   "cell_type": "markdown",
   "metadata": {},
   "source": [
    "# Описание тарифов"
   ]
  },
  {
   "cell_type": "markdown",
   "metadata": {},
   "source": [
    "**Тариф `Smart`**\n",
    "\n",
    "+ Ежемесячная плата: 550 рублей\n",
    "+ Включено 500 минут разговора, 50 сообщений и 15 Гб интернет-трафика\n",
    "+ Стоимость услуг сверх тарифного пакета: 1. минута разговора: 3 рубля («Мегалайн» всегда округляет вверх значения минут и мегабайтов. Если пользователь проговорил всего 1 секунду, в тарифе засчитывается целая минута); 2. сообщение: 3 рубля; 3. 1 Гб интернет-трафика: 200 рублей.\n",
    "\n",
    "**Тариф `Ultra`**\n",
    "\n",
    "+ Ежемесячная плата: 1950 рублей\n",
    "+ Включено 3000 минут разговора, 1000 сообщений и 30 Гб интернет-трафика\n",
    "+ Стоимость услуг сверх тарифного пакета: 1. минута разговора: 1 рубль; 2. сообщение: 1 рубль; 3. 1 Гб интернет-трафика: 150 рублей.\n",
    "\n",
    "**Примечание:**\n",
    "\n",
    "«Мегалайн» всегда округляет секунды до минут, а мегабайты — до гигабайт. Каждый звонок округляется отдельно: даже если он длился всего 1 секунду, будет засчитан как 1 минута.\n",
    "Для веб-трафика отдельные сессии не считаются. Вместо этого общая сумма за месяц округляется в бо́льшую сторону. Если абонент использует 1025 мегабайт в этом месяце, с него возьмут плату за 2 гигабайта."
   ]
  },
  {
   "cell_type": "markdown",
   "metadata": {},
   "source": [
    "## Изучение данных"
   ]
  },
  {
   "cell_type": "code",
   "execution_count": 1,
   "metadata": {},
   "outputs": [],
   "source": [
    "import pandas as pd\n",
    "import matplotlib.pyplot as plt\n",
    "import seaborn as sns\n",
    "import numpy as np\n",
    "from scipy import stats as st"
   ]
  },
  {
   "cell_type": "code",
   "execution_count": 2,
   "metadata": {},
   "outputs": [],
   "source": [
    "calls = pd.read_csv('/datasets/calls.csv', index_col=0)\n",
    "internet = pd.read_csv('/datasets/internet.csv', index_col=0)\n",
    "messages = pd.read_csv('/datasets/messages.csv', index_col=0)\n",
    "tariffs = pd.read_csv('/datasets/tariffs.csv', index_col=0)\n",
    "users = pd.read_csv('/datasets/users.csv', index_col=0)"
   ]
  },
  {
   "cell_type": "code",
   "execution_count": 3,
   "metadata": {},
   "outputs": [
    {
     "name": "stdout",
     "output_type": "stream",
     "text": [
      "<class 'pandas.core.frame.DataFrame'>\n",
      "Index: 202607 entries, 1000_0 to 1499_219\n",
      "Data columns (total 3 columns):\n",
      "call_date    202607 non-null object\n",
      "duration     202607 non-null float64\n",
      "user_id      202607 non-null int64\n",
      "dtypes: float64(1), int64(1), object(1)\n",
      "memory usage: 6.2+ MB\n",
      "None\n",
      "\n",
      "\n",
      "<class 'pandas.core.frame.DataFrame'>\n",
      "Int64Index: 149396 entries, 0 to 149395\n",
      "Data columns (total 4 columns):\n",
      "id              149396 non-null object\n",
      "mb_used         149396 non-null float64\n",
      "session_date    149396 non-null object\n",
      "user_id         149396 non-null int64\n",
      "dtypes: float64(1), int64(1), object(2)\n",
      "memory usage: 5.7+ MB\n",
      "None\n",
      "\n",
      "\n",
      "<class 'pandas.core.frame.DataFrame'>\n",
      "Index: 123036 entries, 1000_0 to 1499_183\n",
      "Data columns (total 2 columns):\n",
      "message_date    123036 non-null object\n",
      "user_id         123036 non-null int64\n",
      "dtypes: int64(1), object(1)\n",
      "memory usage: 2.8+ MB\n",
      "None\n",
      "\n",
      "\n",
      "<class 'pandas.core.frame.DataFrame'>\n",
      "Int64Index: 500 entries, 1000 to 1499\n",
      "Data columns (total 7 columns):\n",
      "age           500 non-null int64\n",
      "churn_date    38 non-null object\n",
      "city          500 non-null object\n",
      "first_name    500 non-null object\n",
      "last_name     500 non-null object\n",
      "reg_date      500 non-null object\n",
      "tariff        500 non-null object\n",
      "dtypes: int64(1), object(6)\n",
      "memory usage: 31.2+ KB\n",
      "None\n",
      "\n",
      "\n",
      "<class 'pandas.core.frame.DataFrame'>\n",
      "Int64Index: 2 entries, 50 to 1000\n",
      "Data columns (total 7 columns):\n",
      "mb_per_month_included    2 non-null int64\n",
      "minutes_included         2 non-null int64\n",
      "rub_monthly_fee          2 non-null int64\n",
      "rub_per_gb               2 non-null int64\n",
      "rub_per_message          2 non-null int64\n",
      "rub_per_minute           2 non-null int64\n",
      "tariff_name              2 non-null object\n",
      "dtypes: int64(6), object(1)\n",
      "memory usage: 128.0+ bytes\n",
      "None\n",
      "\n",
      "\n"
     ]
    }
   ],
   "source": [
    "for data in [calls, internet, messages, users, tariffs]: print(data.info(), end='\\n\\n\\n')"
   ]
  },
  {
   "cell_type": "markdown",
   "metadata": {},
   "source": [
    "**Вывод**\n",
    "\n",
    "Датасет содержит данные по 500 клиентам, потребуется заменить тип данных у столбцов с датой и временем, а также округлить значения минут разговора и мегабайт использованного трафика в большую сторону, так как тарифы считаются по минутам и мегабайтам.\n",
    "\n",
    "Кроме того, после объединения данных (сводная таблица по звонкам, по сообщениям и интернет-трафику) возникнут пропущенные значения (клиент мог в каком-то месяце не писать сообщений, но звонить и использовать интернет), которые также нужно будет заменить на нули."
   ]
  },
  {
   "cell_type": "markdown",
   "metadata": {},
   "source": [
    "## Предобработка данных"
   ]
  },
  {
   "cell_type": "markdown",
   "metadata": {},
   "source": [
    "**Изменим тип данных:**"
   ]
  },
  {
   "cell_type": "code",
   "execution_count": 4,
   "metadata": {},
   "outputs": [],
   "source": [
    "calls['call_date'] = pd.to_datetime(calls['call_date'], format='%Y-%m-%d')\n",
    "internet['session_date'] = pd.to_datetime(internet['session_date'], format='%Y-%m-%d')\n",
    "messages['message_date'] = pd.to_datetime(messages['message_date'], format='%Y-%m-%d')\n",
    "users['churn_date'] = pd.to_datetime(users['churn_date'], format='%Y-%m-%d')\n",
    "users['reg_date'] = pd.to_datetime(users['reg_date'], format='%Y-%m-%d')"
   ]
  },
  {
   "cell_type": "markdown",
   "metadata": {},
   "source": [
    "**Исправим ошибки в данных:**\n",
    "\n",
    "**Звонки**"
   ]
  },
  {
   "cell_type": "code",
   "execution_count": 5,
   "metadata": {},
   "outputs": [
    {
     "name": "stdout",
     "output_type": "stream",
     "text": [
      "Количество звонков с длительностью, равной нулю: 39613\n"
     ]
    }
   ],
   "source": [
    "print('Количество звонков с длительностью, равной нулю:',\n",
    "      calls.loc[calls['duration'] == 0, 'duration'].\n",
    "      value_counts()[0])"
   ]
  },
  {
   "cell_type": "code",
   "execution_count": 6,
   "metadata": {},
   "outputs": [],
   "source": [
    "# добавим столбец со значением месяца\n",
    "calls['month'] = calls['call_date'].dt.month\n",
    "\n",
    "# округлим время звонков  в большую сторону\n",
    "calls['duration'] = calls['duration'].apply(np.ceil)"
   ]
  },
  {
   "cell_type": "markdown",
   "metadata": {},
   "source": [
    "**Интернет**"
   ]
  },
  {
   "cell_type": "code",
   "execution_count": 7,
   "metadata": {},
   "outputs": [],
   "source": [
    "# добавим столбец со значением месяца\n",
    "internet['month'] = internet['session_date'].dt.month\n",
    "\n",
    "# округлим веб-трафик в большую сторону\n",
    "internet['mb_used'] = internet['mb_used'].apply(np.ceil)"
   ]
  },
  {
   "cell_type": "markdown",
   "metadata": {},
   "source": [
    "**Сообщения**"
   ]
  },
  {
   "cell_type": "code",
   "execution_count": 8,
   "metadata": {},
   "outputs": [],
   "source": [
    "# добавим столбец со значением месяца\n",
    "messages['month'] = messages['message_date'].dt.month"
   ]
  },
  {
   "cell_type": "markdown",
   "metadata": {},
   "source": [
    "**Расчет значений для каждого пользователя:**\n",
    "\n",
    "+ количество сделанных звонков и израсходованных минут разговора по месяцам;\n",
    "+ количество отправленных сообщений по месяцам;\n",
    "+ объем израсходованного интернет-трафика по месяцам;"
   ]
  },
  {
   "cell_type": "code",
   "execution_count": 9,
   "metadata": {},
   "outputs": [],
   "source": [
    "# для подсчета при создании сводной таблицы добавим столбец с уникальным id клиентов\n",
    "users['unique_name'] = users.index"
   ]
  },
  {
   "cell_type": "code",
   "execution_count": 10,
   "metadata": {},
   "outputs": [],
   "source": [
    "# сводная таблица по звонкам\n",
    "calls_merge = calls.merge(users, on='user_id', how='inner')\n",
    "calls_grouped = calls_merge.pivot_table(values=['unique_name', 'duration'], \n",
    "                       index=['user_id', 'month'], \n",
    "                       aggfunc={'unique_name': 'count', 'duration': 'sum'})\n",
    "calls_grouped.columns = ['duration', 'calls']"
   ]
  },
  {
   "cell_type": "code",
   "execution_count": 11,
   "metadata": {},
   "outputs": [],
   "source": [
    "# сводная таблица по интернет-трафику\n",
    "internet_merge = internet.merge(users, on='user_id', how='inner')\n",
    "internet_grouped = internet_merge.pivot_table(values='mb_used', \n",
    "                       index=['user_id', 'month'], \n",
    "                       aggfunc={'mb_used': 'sum'})\n",
    "internet_grouped.columns = ['mb_used']"
   ]
  },
  {
   "cell_type": "code",
   "execution_count": 12,
   "metadata": {},
   "outputs": [],
   "source": [
    "# сводная таблица по сообщениям\n",
    "messages_merge = messages.merge(users, on='user_id', how='inner')\n",
    "messages_grouped = messages_merge.pivot_table(values='unique_name', \n",
    "                       index=['user_id', 'month'], \n",
    "                       aggfunc={'unique_name': 'count'})\n",
    "messages_grouped.columns = ['messages']"
   ]
  },
  {
   "cell_type": "code",
   "execution_count": 13,
   "metadata": {},
   "outputs": [
    {
     "data": {
      "text/html": [
       "<div>\n",
       "<style scoped>\n",
       "    .dataframe tbody tr th:only-of-type {\n",
       "        vertical-align: middle;\n",
       "    }\n",
       "\n",
       "    .dataframe tbody tr th {\n",
       "        vertical-align: top;\n",
       "    }\n",
       "\n",
       "    .dataframe thead th {\n",
       "        text-align: right;\n",
       "    }\n",
       "</style>\n",
       "<table border=\"1\" class=\"dataframe\">\n",
       "  <thead>\n",
       "    <tr style=\"text-align: right;\">\n",
       "      <th></th>\n",
       "      <th></th>\n",
       "      <th>duration</th>\n",
       "      <th>calls</th>\n",
       "      <th>messages</th>\n",
       "      <th>mb_used</th>\n",
       "    </tr>\n",
       "    <tr>\n",
       "      <th>user_id</th>\n",
       "      <th>month</th>\n",
       "      <th></th>\n",
       "      <th></th>\n",
       "      <th></th>\n",
       "      <th></th>\n",
       "    </tr>\n",
       "  </thead>\n",
       "  <tbody>\n",
       "    <tr>\n",
       "      <td rowspan=\"8\" valign=\"top\">1000</td>\n",
       "      <td>5</td>\n",
       "      <td>159.0</td>\n",
       "      <td>22.0</td>\n",
       "      <td>22.0</td>\n",
       "      <td>2256.0</td>\n",
       "    </tr>\n",
       "    <tr>\n",
       "      <td>6</td>\n",
       "      <td>172.0</td>\n",
       "      <td>43.0</td>\n",
       "      <td>60.0</td>\n",
       "      <td>23257.0</td>\n",
       "    </tr>\n",
       "    <tr>\n",
       "      <td>7</td>\n",
       "      <td>340.0</td>\n",
       "      <td>47.0</td>\n",
       "      <td>75.0</td>\n",
       "      <td>14016.0</td>\n",
       "    </tr>\n",
       "    <tr>\n",
       "      <td>8</td>\n",
       "      <td>408.0</td>\n",
       "      <td>52.0</td>\n",
       "      <td>81.0</td>\n",
       "      <td>14070.0</td>\n",
       "    </tr>\n",
       "    <tr>\n",
       "      <td>9</td>\n",
       "      <td>466.0</td>\n",
       "      <td>58.0</td>\n",
       "      <td>57.0</td>\n",
       "      <td>14581.0</td>\n",
       "    </tr>\n",
       "    <tr>\n",
       "      <td>10</td>\n",
       "      <td>350.0</td>\n",
       "      <td>57.0</td>\n",
       "      <td>73.0</td>\n",
       "      <td>14717.0</td>\n",
       "    </tr>\n",
       "    <tr>\n",
       "      <td>11</td>\n",
       "      <td>338.0</td>\n",
       "      <td>43.0</td>\n",
       "      <td>58.0</td>\n",
       "      <td>14768.0</td>\n",
       "    </tr>\n",
       "    <tr>\n",
       "      <td>12</td>\n",
       "      <td>333.0</td>\n",
       "      <td>46.0</td>\n",
       "      <td>70.0</td>\n",
       "      <td>9827.0</td>\n",
       "    </tr>\n",
       "    <tr>\n",
       "      <td rowspan=\"2\" valign=\"top\">1001</td>\n",
       "      <td>11</td>\n",
       "      <td>430.0</td>\n",
       "      <td>59.0</td>\n",
       "      <td>NaN</td>\n",
       "      <td>18452.0</td>\n",
       "    </tr>\n",
       "    <tr>\n",
       "      <td>12</td>\n",
       "      <td>414.0</td>\n",
       "      <td>63.0</td>\n",
       "      <td>NaN</td>\n",
       "      <td>14053.0</td>\n",
       "    </tr>\n",
       "  </tbody>\n",
       "</table>\n",
       "</div>"
      ],
      "text/plain": [
       "               duration  calls  messages  mb_used\n",
       "user_id month                                    \n",
       "1000    5         159.0   22.0      22.0   2256.0\n",
       "        6         172.0   43.0      60.0  23257.0\n",
       "        7         340.0   47.0      75.0  14016.0\n",
       "        8         408.0   52.0      81.0  14070.0\n",
       "        9         466.0   58.0      57.0  14581.0\n",
       "        10        350.0   57.0      73.0  14717.0\n",
       "        11        338.0   43.0      58.0  14768.0\n",
       "        12        333.0   46.0      70.0   9827.0\n",
       "1001    11        430.0   59.0       NaN  18452.0\n",
       "        12        414.0   63.0       NaN  14053.0"
      ]
     },
     "execution_count": 13,
     "metadata": {},
     "output_type": "execute_result"
    }
   ],
   "source": [
    "# объединяем все три сводные таблицы в одну\n",
    "grouped_data = calls_grouped.merge(messages_grouped, on=['user_id', 'month'], how='outer')\n",
    "grouped_data = grouped_data.merge(internet_grouped, on=['user_id', 'month'], how='outer')\n",
    "grouped_data.head(10)"
   ]
  },
  {
   "cell_type": "markdown",
   "metadata": {},
   "source": [
    "**Теперь посчитаем:**\n",
    "\n",
    "+ помесячную выручку с каждого пользователя (  \n",
    "вычтем бесплатный лимит из суммарного количества звонков, сообщений и интернет-трафика;  \n",
    "остаток умножим на значение из тарифного плана;  \n",
    "прибавим абонентскую плату, соответствующую тарифному плану)."
   ]
  },
  {
   "cell_type": "code",
   "execution_count": 14,
   "metadata": {},
   "outputs": [],
   "source": [
    "# пропущенные значения заменим на нули\n",
    "grouped_data.loc[grouped_data['duration'].isna(), 'duration'] = 0\n",
    "grouped_data.loc[grouped_data['messages'].isna(), 'messages'] = 0\n",
    "grouped_data.loc[grouped_data['mb_used'].isna(), 'mb_used'] = 0"
   ]
  },
  {
   "cell_type": "code",
   "execution_count": 15,
   "metadata": {},
   "outputs": [],
   "source": [
    "# добавим наименование используемого тарифа для каждого пользователя\n",
    "for user in users.unique_name:\n",
    "    grouped_data.loc[user, 'tariff'] = users.loc[user, 'tariff']\n",
    "grouped_data.dropna(inplace=True)"
   ]
  },
  {
   "cell_type": "code",
   "execution_count": 16,
   "metadata": {
    "scrolled": false
   },
   "outputs": [
    {
     "data": {
      "text/html": [
       "<div>\n",
       "<style scoped>\n",
       "    .dataframe tbody tr th:only-of-type {\n",
       "        vertical-align: middle;\n",
       "    }\n",
       "\n",
       "    .dataframe tbody tr th {\n",
       "        vertical-align: top;\n",
       "    }\n",
       "\n",
       "    .dataframe thead th {\n",
       "        text-align: right;\n",
       "    }\n",
       "</style>\n",
       "<table border=\"1\" class=\"dataframe\">\n",
       "  <thead>\n",
       "    <tr style=\"text-align: right;\">\n",
       "      <th></th>\n",
       "      <th></th>\n",
       "      <th>duration</th>\n",
       "      <th>calls</th>\n",
       "      <th>messages</th>\n",
       "      <th>mb_used</th>\n",
       "      <th>tariff</th>\n",
       "    </tr>\n",
       "    <tr>\n",
       "      <th>user_id</th>\n",
       "      <th>month</th>\n",
       "      <th></th>\n",
       "      <th></th>\n",
       "      <th></th>\n",
       "      <th></th>\n",
       "      <th></th>\n",
       "    </tr>\n",
       "  </thead>\n",
       "  <tbody>\n",
       "    <tr>\n",
       "      <td rowspan=\"8\" valign=\"top\">1000</td>\n",
       "      <td>5</td>\n",
       "      <td>159.0</td>\n",
       "      <td>22.0</td>\n",
       "      <td>22.0</td>\n",
       "      <td>2256.0</td>\n",
       "      <td>ultra</td>\n",
       "    </tr>\n",
       "    <tr>\n",
       "      <td>6</td>\n",
       "      <td>172.0</td>\n",
       "      <td>43.0</td>\n",
       "      <td>60.0</td>\n",
       "      <td>23257.0</td>\n",
       "      <td>ultra</td>\n",
       "    </tr>\n",
       "    <tr>\n",
       "      <td>7</td>\n",
       "      <td>340.0</td>\n",
       "      <td>47.0</td>\n",
       "      <td>75.0</td>\n",
       "      <td>14016.0</td>\n",
       "      <td>ultra</td>\n",
       "    </tr>\n",
       "    <tr>\n",
       "      <td>8</td>\n",
       "      <td>408.0</td>\n",
       "      <td>52.0</td>\n",
       "      <td>81.0</td>\n",
       "      <td>14070.0</td>\n",
       "      <td>ultra</td>\n",
       "    </tr>\n",
       "    <tr>\n",
       "      <td>9</td>\n",
       "      <td>466.0</td>\n",
       "      <td>58.0</td>\n",
       "      <td>57.0</td>\n",
       "      <td>14581.0</td>\n",
       "      <td>ultra</td>\n",
       "    </tr>\n",
       "    <tr>\n",
       "      <td>10</td>\n",
       "      <td>350.0</td>\n",
       "      <td>57.0</td>\n",
       "      <td>73.0</td>\n",
       "      <td>14717.0</td>\n",
       "      <td>ultra</td>\n",
       "    </tr>\n",
       "    <tr>\n",
       "      <td>11</td>\n",
       "      <td>338.0</td>\n",
       "      <td>43.0</td>\n",
       "      <td>58.0</td>\n",
       "      <td>14768.0</td>\n",
       "      <td>ultra</td>\n",
       "    </tr>\n",
       "    <tr>\n",
       "      <td>12</td>\n",
       "      <td>333.0</td>\n",
       "      <td>46.0</td>\n",
       "      <td>70.0</td>\n",
       "      <td>9827.0</td>\n",
       "      <td>ultra</td>\n",
       "    </tr>\n",
       "    <tr>\n",
       "      <td rowspan=\"2\" valign=\"top\">1001</td>\n",
       "      <td>11</td>\n",
       "      <td>430.0</td>\n",
       "      <td>59.0</td>\n",
       "      <td>0.0</td>\n",
       "      <td>18452.0</td>\n",
       "      <td>smart</td>\n",
       "    </tr>\n",
       "    <tr>\n",
       "      <td>12</td>\n",
       "      <td>414.0</td>\n",
       "      <td>63.0</td>\n",
       "      <td>0.0</td>\n",
       "      <td>14053.0</td>\n",
       "      <td>smart</td>\n",
       "    </tr>\n",
       "  </tbody>\n",
       "</table>\n",
       "</div>"
      ],
      "text/plain": [
       "               duration  calls  messages  mb_used tariff\n",
       "user_id month                                           \n",
       "1000    5         159.0   22.0      22.0   2256.0  ultra\n",
       "        6         172.0   43.0      60.0  23257.0  ultra\n",
       "        7         340.0   47.0      75.0  14016.0  ultra\n",
       "        8         408.0   52.0      81.0  14070.0  ultra\n",
       "        9         466.0   58.0      57.0  14581.0  ultra\n",
       "        10        350.0   57.0      73.0  14717.0  ultra\n",
       "        11        338.0   43.0      58.0  14768.0  ultra\n",
       "        12        333.0   46.0      70.0   9827.0  ultra\n",
       "1001    11        430.0   59.0       0.0  18452.0  smart\n",
       "        12        414.0   63.0       0.0  14053.0  smart"
      ]
     },
     "execution_count": 16,
     "metadata": {},
     "output_type": "execute_result"
    }
   ],
   "source": [
    "grouped_data.head(10)"
   ]
  },
  {
   "cell_type": "code",
   "execution_count": 17,
   "metadata": {
    "scrolled": false
   },
   "outputs": [
    {
     "data": {
      "text/html": [
       "<div>\n",
       "<style scoped>\n",
       "    .dataframe tbody tr th:only-of-type {\n",
       "        vertical-align: middle;\n",
       "    }\n",
       "\n",
       "    .dataframe tbody tr th {\n",
       "        vertical-align: top;\n",
       "    }\n",
       "\n",
       "    .dataframe thead th {\n",
       "        text-align: right;\n",
       "    }\n",
       "</style>\n",
       "<table border=\"1\" class=\"dataframe\">\n",
       "  <thead>\n",
       "    <tr style=\"text-align: right;\">\n",
       "      <th></th>\n",
       "      <th>mb_per_month_included</th>\n",
       "      <th>minutes_included</th>\n",
       "      <th>rub_monthly_fee</th>\n",
       "      <th>rub_per_gb</th>\n",
       "      <th>rub_per_message</th>\n",
       "      <th>rub_per_minute</th>\n",
       "      <th>tariff_name</th>\n",
       "    </tr>\n",
       "    <tr>\n",
       "      <th>messages_included</th>\n",
       "      <th></th>\n",
       "      <th></th>\n",
       "      <th></th>\n",
       "      <th></th>\n",
       "      <th></th>\n",
       "      <th></th>\n",
       "      <th></th>\n",
       "    </tr>\n",
       "  </thead>\n",
       "  <tbody>\n",
       "    <tr>\n",
       "      <td>50</td>\n",
       "      <td>15360</td>\n",
       "      <td>500</td>\n",
       "      <td>550</td>\n",
       "      <td>200</td>\n",
       "      <td>3</td>\n",
       "      <td>3</td>\n",
       "      <td>smart</td>\n",
       "    </tr>\n",
       "    <tr>\n",
       "      <td>1000</td>\n",
       "      <td>30720</td>\n",
       "      <td>3000</td>\n",
       "      <td>1950</td>\n",
       "      <td>150</td>\n",
       "      <td>1</td>\n",
       "      <td>1</td>\n",
       "      <td>ultra</td>\n",
       "    </tr>\n",
       "  </tbody>\n",
       "</table>\n",
       "</div>"
      ],
      "text/plain": [
       "                   mb_per_month_included  minutes_included  rub_monthly_fee  \\\n",
       "messages_included                                                             \n",
       "50                                 15360               500              550   \n",
       "1000                               30720              3000             1950   \n",
       "\n",
       "                   rub_per_gb  rub_per_message  rub_per_minute tariff_name  \n",
       "messages_included                                                           \n",
       "50                        200                3               3       smart  \n",
       "1000                      150                1               1       ultra  "
      ]
     },
     "execution_count": 17,
     "metadata": {},
     "output_type": "execute_result"
    }
   ],
   "source": [
    "tariffs"
   ]
  },
  {
   "cell_type": "code",
   "execution_count": 18,
   "metadata": {},
   "outputs": [
    {
     "data": {
      "text/html": [
       "<div>\n",
       "<style scoped>\n",
       "    .dataframe tbody tr th:only-of-type {\n",
       "        vertical-align: middle;\n",
       "    }\n",
       "\n",
       "    .dataframe tbody tr th {\n",
       "        vertical-align: top;\n",
       "    }\n",
       "\n",
       "    .dataframe thead th {\n",
       "        text-align: right;\n",
       "    }\n",
       "</style>\n",
       "<table border=\"1\" class=\"dataframe\">\n",
       "  <thead>\n",
       "    <tr style=\"text-align: right;\">\n",
       "      <th></th>\n",
       "      <th></th>\n",
       "      <th>duration</th>\n",
       "      <th>calls</th>\n",
       "      <th>messages</th>\n",
       "      <th>mb_used</th>\n",
       "      <th>tariff</th>\n",
       "      <th>revenue</th>\n",
       "    </tr>\n",
       "    <tr>\n",
       "      <th>user_id</th>\n",
       "      <th>month</th>\n",
       "      <th></th>\n",
       "      <th></th>\n",
       "      <th></th>\n",
       "      <th></th>\n",
       "      <th></th>\n",
       "      <th></th>\n",
       "    </tr>\n",
       "  </thead>\n",
       "  <tbody>\n",
       "    <tr>\n",
       "      <td rowspan=\"8\" valign=\"top\">1000</td>\n",
       "      <td>5</td>\n",
       "      <td>159.0</td>\n",
       "      <td>22.0</td>\n",
       "      <td>22.0</td>\n",
       "      <td>2256.0</td>\n",
       "      <td>ultra</td>\n",
       "      <td>1950.00000</td>\n",
       "    </tr>\n",
       "    <tr>\n",
       "      <td>6</td>\n",
       "      <td>172.0</td>\n",
       "      <td>43.0</td>\n",
       "      <td>60.0</td>\n",
       "      <td>23257.0</td>\n",
       "      <td>ultra</td>\n",
       "      <td>1950.00000</td>\n",
       "    </tr>\n",
       "    <tr>\n",
       "      <td>7</td>\n",
       "      <td>340.0</td>\n",
       "      <td>47.0</td>\n",
       "      <td>75.0</td>\n",
       "      <td>14016.0</td>\n",
       "      <td>ultra</td>\n",
       "      <td>1950.00000</td>\n",
       "    </tr>\n",
       "    <tr>\n",
       "      <td>8</td>\n",
       "      <td>408.0</td>\n",
       "      <td>52.0</td>\n",
       "      <td>81.0</td>\n",
       "      <td>14070.0</td>\n",
       "      <td>ultra</td>\n",
       "      <td>1950.00000</td>\n",
       "    </tr>\n",
       "    <tr>\n",
       "      <td>9</td>\n",
       "      <td>466.0</td>\n",
       "      <td>58.0</td>\n",
       "      <td>57.0</td>\n",
       "      <td>14581.0</td>\n",
       "      <td>ultra</td>\n",
       "      <td>1950.00000</td>\n",
       "    </tr>\n",
       "    <tr>\n",
       "      <td>10</td>\n",
       "      <td>350.0</td>\n",
       "      <td>57.0</td>\n",
       "      <td>73.0</td>\n",
       "      <td>14717.0</td>\n",
       "      <td>ultra</td>\n",
       "      <td>1950.00000</td>\n",
       "    </tr>\n",
       "    <tr>\n",
       "      <td>11</td>\n",
       "      <td>338.0</td>\n",
       "      <td>43.0</td>\n",
       "      <td>58.0</td>\n",
       "      <td>14768.0</td>\n",
       "      <td>ultra</td>\n",
       "      <td>1950.00000</td>\n",
       "    </tr>\n",
       "    <tr>\n",
       "      <td>12</td>\n",
       "      <td>333.0</td>\n",
       "      <td>46.0</td>\n",
       "      <td>70.0</td>\n",
       "      <td>9827.0</td>\n",
       "      <td>ultra</td>\n",
       "      <td>1950.00000</td>\n",
       "    </tr>\n",
       "    <tr>\n",
       "      <td rowspan=\"2\" valign=\"top\">1001</td>\n",
       "      <td>11</td>\n",
       "      <td>430.0</td>\n",
       "      <td>59.0</td>\n",
       "      <td>0.0</td>\n",
       "      <td>18452.0</td>\n",
       "      <td>smart</td>\n",
       "      <td>1153.90625</td>\n",
       "    </tr>\n",
       "    <tr>\n",
       "      <td>12</td>\n",
       "      <td>414.0</td>\n",
       "      <td>63.0</td>\n",
       "      <td>0.0</td>\n",
       "      <td>14053.0</td>\n",
       "      <td>smart</td>\n",
       "      <td>550.00000</td>\n",
       "    </tr>\n",
       "  </tbody>\n",
       "</table>\n",
       "</div>"
      ],
      "text/plain": [
       "               duration  calls  messages  mb_used tariff     revenue\n",
       "user_id month                                                       \n",
       "1000    5         159.0   22.0      22.0   2256.0  ultra  1950.00000\n",
       "        6         172.0   43.0      60.0  23257.0  ultra  1950.00000\n",
       "        7         340.0   47.0      75.0  14016.0  ultra  1950.00000\n",
       "        8         408.0   52.0      81.0  14070.0  ultra  1950.00000\n",
       "        9         466.0   58.0      57.0  14581.0  ultra  1950.00000\n",
       "        10        350.0   57.0      73.0  14717.0  ultra  1950.00000\n",
       "        11        338.0   43.0      58.0  14768.0  ultra  1950.00000\n",
       "        12        333.0   46.0      70.0   9827.0  ultra  1950.00000\n",
       "1001    11        430.0   59.0       0.0  18452.0  smart  1153.90625\n",
       "        12        414.0   63.0       0.0  14053.0  smart   550.00000"
      ]
     },
     "execution_count": 18,
     "metadata": {},
     "output_type": "execute_result"
    }
   ],
   "source": [
    "# функция подсчета выручки с каждого пользователя в месяц\n",
    "def get_revenue(row):\n",
    "    messages = row['messages']\n",
    "    mb_used = row['mb_used']\n",
    "    tariff = row['tariff']\n",
    "    duration = row['duration']\n",
    "    calls = row['calls']\n",
    "    \n",
    "    if tariff == 'smart':\n",
    "        extra_duration = duration - tariffs.iloc[0, 1]\n",
    "        extra_mb = mb_used - tariffs.iloc[0, 0]\n",
    "        extra_messages = messages - tariffs.index[0]\n",
    "        \n",
    "        if extra_duration < 0: extra_duration = 0\n",
    "        if extra_mb < 0: extra_mb = 0\n",
    "        if extra_messages < 0: extra_messages = 0\n",
    "        \n",
    "        return (tariffs.iloc[0, 4] * extra_messages + \n",
    "                   (tariffs.iloc[0, 3] / 1024) * extra_mb + \n",
    "                   tariffs.iloc[0, 5] * extra_duration + \n",
    "                   tariffs.iloc[0, 2]\n",
    "                  ) \n",
    "    else:\n",
    "        extra_duration = duration - tariffs.iloc[1, 1]\n",
    "        extra_mb = mb_used - tariffs.iloc[1, 0]\n",
    "        extra_messages = messages - tariffs.index[1]\n",
    "        \n",
    "        if extra_duration < 0: extra_duration = 0\n",
    "        if extra_mb < 0: extra_mb = 0\n",
    "        if extra_messages < 0: extra_messages = 0\n",
    "        \n",
    "        return (tariffs.iloc[1, 4] * extra_messages + \n",
    "                   (tariffs.iloc[1, 3] / 1024) * extra_mb + \n",
    "                   tariffs.iloc[1, 5] * extra_duration + \n",
    "                   tariffs.iloc[1, 2]\n",
    "                  )\n",
    "\n",
    "grouped_data['revenue'] = grouped_data.apply(get_revenue, axis=1)\n",
    "grouped_data.head(10)"
   ]
  },
  {
   "cell_type": "markdown",
   "metadata": {},
   "source": [
    "## Анализ данных"
   ]
  },
  {
   "cell_type": "markdown",
   "metadata": {},
   "source": [
    "**Посчитаем:**\n",
    "\n",
    "+ сколько в среднем каждому пользователю требуется минут, сообщений и мегабайт в месяц"
   ]
  },
  {
   "cell_type": "code",
   "execution_count": 19,
   "metadata": {},
   "outputs": [
    {
     "data": {
      "text/html": [
       "<div>\n",
       "<style scoped>\n",
       "    .dataframe tbody tr th:only-of-type {\n",
       "        vertical-align: middle;\n",
       "    }\n",
       "\n",
       "    .dataframe tbody tr th {\n",
       "        vertical-align: top;\n",
       "    }\n",
       "\n",
       "    .dataframe thead th {\n",
       "        text-align: right;\n",
       "    }\n",
       "</style>\n",
       "<table border=\"1\" class=\"dataframe\">\n",
       "  <thead>\n",
       "    <tr style=\"text-align: right;\">\n",
       "      <th></th>\n",
       "      <th>duration</th>\n",
       "      <th>mb_used</th>\n",
       "      <th>messages</th>\n",
       "      <th>revenue</th>\n",
       "      <th>tariff</th>\n",
       "    </tr>\n",
       "    <tr>\n",
       "      <th>user_id</th>\n",
       "      <th></th>\n",
       "      <th></th>\n",
       "      <th></th>\n",
       "      <th></th>\n",
       "      <th></th>\n",
       "    </tr>\n",
       "  </thead>\n",
       "  <tbody>\n",
       "    <tr>\n",
       "      <td>1000</td>\n",
       "      <td>339.0</td>\n",
       "      <td>14325.5</td>\n",
       "      <td>65.0</td>\n",
       "      <td>1950.000000</td>\n",
       "      <td>ultra</td>\n",
       "    </tr>\n",
       "    <tr>\n",
       "      <td>1001</td>\n",
       "      <td>422.0</td>\n",
       "      <td>16252.5</td>\n",
       "      <td>0.0</td>\n",
       "      <td>851.953125</td>\n",
       "      <td>smart</td>\n",
       "    </tr>\n",
       "    <tr>\n",
       "      <td>1002</td>\n",
       "      <td>214.0</td>\n",
       "      <td>17601.0</td>\n",
       "      <td>11.0</td>\n",
       "      <td>987.695312</td>\n",
       "      <td>smart</td>\n",
       "    </tr>\n",
       "    <tr>\n",
       "      <td>1003</td>\n",
       "      <td>824.0</td>\n",
       "      <td>11368.0</td>\n",
       "      <td>83.0</td>\n",
       "      <td>1950.000000</td>\n",
       "      <td>ultra</td>\n",
       "    </tr>\n",
       "    <tr>\n",
       "      <td>1004</td>\n",
       "      <td>132.5</td>\n",
       "      <td>17828.5</td>\n",
       "      <td>154.5</td>\n",
       "      <td>1950.000000</td>\n",
       "      <td>ultra</td>\n",
       "    </tr>\n",
       "  </tbody>\n",
       "</table>\n",
       "</div>"
      ],
      "text/plain": [
       "         duration  mb_used  messages      revenue tariff\n",
       "user_id                                                 \n",
       "1000        339.0  14325.5      65.0  1950.000000  ultra\n",
       "1001        422.0  16252.5       0.0   851.953125  smart\n",
       "1002        214.0  17601.0      11.0   987.695312  smart\n",
       "1003        824.0  11368.0      83.0  1950.000000  ultra\n",
       "1004        132.5  17828.5     154.5  1950.000000  ultra"
      ]
     },
     "execution_count": 19,
     "metadata": {},
     "output_type": "execute_result"
    }
   ],
   "source": [
    "medians = grouped_data.pivot_table(index='user_id',\n",
    "                                   values=['duration', 'messages', 'mb_used', 'revenue'],\n",
    "                                   aggfunc='median')\n",
    "for user in users.unique_name:\n",
    "    medians.loc[user, 'tariff'] = users.loc[user, 'tariff']\n",
    "medians.head()"
   ]
  },
  {
   "cell_type": "markdown",
   "metadata": {},
   "source": [
    "**Найдем:**\n",
    "\n",
    "+ медиану\n",
    "+ дисперсию\n",
    "+ стандартное отклонение"
   ]
  },
  {
   "cell_type": "code",
   "execution_count": 20,
   "metadata": {},
   "outputs": [
    {
     "data": {
      "text/html": [
       "<div>\n",
       "<style scoped>\n",
       "    .dataframe tbody tr th:only-of-type {\n",
       "        vertical-align: middle;\n",
       "    }\n",
       "\n",
       "    .dataframe tbody tr th {\n",
       "        vertical-align: top;\n",
       "    }\n",
       "\n",
       "    .dataframe thead tr th {\n",
       "        text-align: left;\n",
       "    }\n",
       "\n",
       "    .dataframe thead tr:last-of-type th {\n",
       "        text-align: right;\n",
       "    }\n",
       "</style>\n",
       "<table border=\"1\" class=\"dataframe\">\n",
       "  <thead>\n",
       "    <tr>\n",
       "      <th></th>\n",
       "      <th colspan=\"3\" halign=\"left\">duration</th>\n",
       "      <th colspan=\"3\" halign=\"left\">mb_used</th>\n",
       "      <th colspan=\"3\" halign=\"left\">messages</th>\n",
       "    </tr>\n",
       "    <tr>\n",
       "      <th></th>\n",
       "      <th>median</th>\n",
       "      <th>std</th>\n",
       "      <th>var</th>\n",
       "      <th>median</th>\n",
       "      <th>std</th>\n",
       "      <th>var</th>\n",
       "      <th>median</th>\n",
       "      <th>std</th>\n",
       "      <th>var</th>\n",
       "    </tr>\n",
       "    <tr>\n",
       "      <th>tariff</th>\n",
       "      <th></th>\n",
       "      <th></th>\n",
       "      <th></th>\n",
       "      <th></th>\n",
       "      <th></th>\n",
       "      <th></th>\n",
       "      <th></th>\n",
       "      <th></th>\n",
       "      <th></th>\n",
       "    </tr>\n",
       "  </thead>\n",
       "  <tbody>\n",
       "    <tr>\n",
       "      <td>smart</td>\n",
       "      <td>440.0</td>\n",
       "      <td>158.761565</td>\n",
       "      <td>25205.234463</td>\n",
       "      <td>16935.0</td>\n",
       "      <td>4185.707737</td>\n",
       "      <td>1.752015e+07</td>\n",
       "      <td>28.5</td>\n",
       "      <td>28.042491</td>\n",
       "      <td>786.381307</td>\n",
       "    </tr>\n",
       "    <tr>\n",
       "      <td>ultra</td>\n",
       "      <td>546.0</td>\n",
       "      <td>290.153182</td>\n",
       "      <td>84188.868930</td>\n",
       "      <td>19826.0</td>\n",
       "      <td>8903.219170</td>\n",
       "      <td>7.926731e+07</td>\n",
       "      <td>49.5</td>\n",
       "      <td>48.496913</td>\n",
       "      <td>2351.950532</td>\n",
       "    </tr>\n",
       "  </tbody>\n",
       "</table>\n",
       "</div>"
      ],
      "text/plain": [
       "       duration                            mb_used                             \\\n",
       "         median         std           var   median          std           var   \n",
       "tariff                                                                          \n",
       "smart     440.0  158.761565  25205.234463  16935.0  4185.707737  1.752015e+07   \n",
       "ultra     546.0  290.153182  84188.868930  19826.0  8903.219170  7.926731e+07   \n",
       "\n",
       "       messages                          \n",
       "         median        std          var  \n",
       "tariff                                   \n",
       "smart      28.5  28.042491   786.381307  \n",
       "ultra      49.5  48.496913  2351.950532  "
      ]
     },
     "execution_count": 20,
     "metadata": {},
     "output_type": "execute_result"
    }
   ],
   "source": [
    "medians.dropna(subset=['duration'], inplace=True)\n",
    "users_stat = medians.pivot_table(index=['tariff'], values=['duration', 'messages', 'mb_used'], \n",
    "                    aggfunc={'duration': [np.median, np.var, np.std], \n",
    "                             'messages': [np.median, np.var, np.std], \n",
    "                             'mb_used': [np.median, np.var, np.std]})\n",
    "users_stat"
   ]
  },
  {
   "cell_type": "code",
   "execution_count": 21,
   "metadata": {},
   "outputs": [
    {
     "data": {
      "image/png": "[encoded data removed]",
      "text/plain": [
       "<Figure size 360x360 with 1 Axes>"
      ]
     },
     "metadata": {
      "needs_background": "light"
     },
     "output_type": "display_data"
    },
    {
     "data": {
      "image/png": "[encoded data removed]",
      "text/plain": [
       "<Figure size 360x360 with 1 Axes>"
      ]
     },
     "metadata": {
      "needs_background": "light"
     },
     "output_type": "display_data"
    },
    {
     "data": {
      "image/png": "[encoded data removed]",
      "text/plain": [
       "<Figure size 360x360 with 1 Axes>"
      ]
     },
     "metadata": {
      "needs_background": "light"
     },
     "output_type": "display_data"
    }
   ],
   "source": [
    "for column in ['duration', 'mb_used', 'messages']:    \n",
    "    sns.catplot(x=\"tariff\", y=column, kind=\"box\", data=medians, palette='inferno')"
   ]
  },
  {
   "cell_type": "markdown",
   "metadata": {},
   "source": [
    "**Вывод:**\n",
    "\n",
    "Минуты разговора, объём веб-трафика и число сообщений по тарифу `Ultra` имеют большую дисперсию по сравнению с тарифом `Smart`, и медианы по этим признакам также смещены в большую сторону. Кроме того, выбросов в рамках более дешевого тарифа существенно больше."
   ]
  },
  {
   "cell_type": "code",
   "execution_count": 22,
   "metadata": {
    "scrolled": true
   },
   "outputs": [
    {
     "data": {
      "image/png": "[encoded data removed]",
      "text/plain": [
       "<Figure size 432x288 with 1 Axes>"
      ]
     },
     "metadata": {
      "needs_background": "light"
     },
     "output_type": "display_data"
    }
   ],
   "source": [
    "for tariff in ['ultra', 'smart']:\n",
    "    sns.distplot(medians.query('tariff == @tariff')['duration'], kde=False)\n",
    "    plt.legend(['ultra', 'smart'])"
   ]
  },
  {
   "cell_type": "code",
   "execution_count": 23,
   "metadata": {
    "scrolled": true
   },
   "outputs": [
    {
     "data": {
      "image/png": "[encoded data removed]",
      "text/plain": [
       "<Figure size 432x288 with 1 Axes>"
      ]
     },
     "metadata": {
      "needs_background": "light"
     },
     "output_type": "display_data"
    }
   ],
   "source": [
    "for tariff in ['ultra', 'smart']:\n",
    "    sns.distplot(medians.query('tariff == @tariff')['messages'], kde=False)\n",
    "    plt.legend(['ultra', 'smart'])"
   ]
  },
  {
   "cell_type": "code",
   "execution_count": 24,
   "metadata": {},
   "outputs": [
    {
     "data": {
      "image/png": "[encoded data removed]",
      "text/plain": [
       "<Figure size 432x288 with 1 Axes>"
      ]
     },
     "metadata": {
      "needs_background": "light"
     },
     "output_type": "display_data"
    }
   ],
   "source": [
    "for tariff in ['ultra', 'smart']:\n",
    "    sns.distplot(medians.query('tariff == @tariff')['mb_used'], kde=False)\n",
    "    plt.legend(['ultra', 'smart'])"
   ]
  },
  {
   "cell_type": "markdown",
   "metadata": {},
   "source": [
    "**Вывод:**\n",
    "\n",
    "На гистограммах наглядно видно, что дисперсия по тарифу `Smart` меньше, чем у пользователей с тарифом `Ultra` по всем показателям:\n",
    "+ по длительности разговора\n",
    "+ числу сообщений\n",
    "+ использованному интернет-трафику\n",
    "\n",
    "Также на гистограммах видно, что мода у тарифа `Smart` явно выражена.\n",
    "\n",
    "Можно предположить, что пользователи тарифа `Ultra` более свободны в выборе того, как им использовать объемы тарифного пакета. Они могут не думать о том, что в какой-то момент у них отключится интернет или закончится лимит по минутам разговора."
   ]
  },
  {
   "cell_type": "markdown",
   "metadata": {},
   "source": [
    "## Проверка гипотез"
   ]
  },
  {
   "cell_type": "markdown",
   "metadata": {},
   "source": [
    "**Проверим две гипотезы:**\n",
    "\n",
    "+ средняя выручка пользователей тарифов `Ultra` и `Smart` различаются;\n",
    "+ средняя выручка пользователи из Москвы отличается от выручки пользователей из других регионов."
   ]
  },
  {
   "cell_type": "markdown",
   "metadata": {},
   "source": [
    "**Первая гипотеза:**\n",
    "\n",
    "***H0***  — средняя выручка пользователей тарифа `Ultra` равна средней выручке пользователей тарифа `Smart`.\n",
    "\n",
    "***H1*** — средняя выручка пользователей тарифов `Ultra` и `Smart` различаются.\n",
    "\n",
    "***α*** = 1%"
   ]
  },
  {
   "cell_type": "code",
   "execution_count": 25,
   "metadata": {},
   "outputs": [
    {
     "name": "stdout",
     "output_type": "stream",
     "text": [
      "p-значение: 3.525672521930252e-290\n",
      "Отвергаем нулевую гипотезу\n"
     ]
    }
   ],
   "source": [
    "ultra = grouped_data.query('tariff == \"ultra\"')['revenue']\n",
    "smart = grouped_data.query('tariff == \"smart\"')['revenue']\n",
    "\n",
    "alpha = .01\n",
    "\n",
    "results = st.ttest_ind(ultra, smart, equal_var=False)\n",
    "\n",
    "print('p-значение:', results.pvalue)\n",
    "\n",
    "if (results.pvalue < alpha):\n",
    "    print(\"Отвергаем нулевую гипотезу\")\n",
    "else:\n",
    "    print(\"Не получилось отвергнуть нулевую гипотезу\")"
   ]
  },
  {
   "cell_type": "code",
   "execution_count": 26,
   "metadata": {},
   "outputs": [
    {
     "data": {
      "text/html": [
       "<div>\n",
       "<style scoped>\n",
       "    .dataframe tbody tr th:only-of-type {\n",
       "        vertical-align: middle;\n",
       "    }\n",
       "\n",
       "    .dataframe tbody tr th {\n",
       "        vertical-align: top;\n",
       "    }\n",
       "\n",
       "    .dataframe thead th {\n",
       "        text-align: right;\n",
       "    }\n",
       "</style>\n",
       "<table border=\"1\" class=\"dataframe\">\n",
       "  <thead>\n",
       "    <tr style=\"text-align: right;\">\n",
       "      <th></th>\n",
       "      <th>revenue</th>\n",
       "    </tr>\n",
       "    <tr>\n",
       "      <th>tariff</th>\n",
       "      <th></th>\n",
       "    </tr>\n",
       "  </thead>\n",
       "  <tbody>\n",
       "    <tr>\n",
       "      <td>smart</td>\n",
       "      <td>961.09375</td>\n",
       "    </tr>\n",
       "    <tr>\n",
       "      <td>ultra</td>\n",
       "      <td>1950.00000</td>\n",
       "    </tr>\n",
       "  </tbody>\n",
       "</table>\n",
       "</div>"
      ],
      "text/plain": [
       "           revenue\n",
       "tariff            \n",
       "smart    961.09375\n",
       "ultra   1950.00000"
      ]
     },
     "execution_count": 26,
     "metadata": {},
     "output_type": "execute_result"
    }
   ],
   "source": [
    "grouped_data.pivot_table(index='tariff', values='revenue', aggfunc='median')"
   ]
  },
  {
   "cell_type": "code",
   "execution_count": 27,
   "metadata": {},
   "outputs": [
    {
     "data": {
      "image/png": "[encoded data removed]",
      "text/plain": [
       "<Figure size 360x360 with 1 Axes>"
      ]
     },
     "metadata": {
      "needs_background": "light"
     },
     "output_type": "display_data"
    }
   ],
   "source": [
    "sns.catplot(x=\"tariff\", y='revenue', kind=\"box\", data=grouped_data)\n",
    "plt.show()"
   ]
  },
  {
   "cell_type": "markdown",
   "metadata": {},
   "source": [
    "**Вывод:**\n",
    "\n",
    "Средние значения выручки по тарифам различаются почти в 2 раза. Если у пользователя подключен тариф `Smart` с абонентской платой в 550 рублей, то он скорее всего по итогам месяца заплатит гораздо больше из-за нехватки услуг в рамках тарифного пакета.\n",
    "\n",
    "В заключение можно с уверенностью 99% подтвердить, что доходы \"Мегалайна\" с пользователя по тарифу `Ultra` действительно отличаются от доходов по тарифу `Smart`."
   ]
  },
  {
   "cell_type": "markdown",
   "metadata": {},
   "source": [
    "**Вторая гипотеза:**\n",
    "\n",
    "***H0*** — средняя выручка пользователей из Москвы равна средней выручке пользователей из других регионов.\n",
    "\n",
    "***H1***  — средняя выручка пользователей из Москвы отличается от средней выручке пользователей из других регионов.\n",
    "\n",
    "***α*** = 1%"
   ]
  },
  {
   "cell_type": "code",
   "execution_count": 28,
   "metadata": {},
   "outputs": [],
   "source": [
    "# добавим наименование города для каждого пользователя\n",
    "for user in users.unique_name:\n",
    "    grouped_data.loc[user, 'city'] = users.loc[user, 'city']\n",
    "grouped_data.dropna(inplace=True)"
   ]
  },
  {
   "cell_type": "code",
   "execution_count": 29,
   "metadata": {},
   "outputs": [
    {
     "name": "stdout",
     "output_type": "stream",
     "text": [
      "p-значение: 0.3720425188871448\n",
      "Не получилось отвергнуть нулевую гипотезу\n"
     ]
    }
   ],
   "source": [
    "moscow = grouped_data.query('city == \"Москва\"')['revenue']\n",
    "regions = grouped_data.query('city != \"Москва\"')['revenue']\n",
    "\n",
    "alpha = .01\n",
    "\n",
    "results = st.ttest_ind(\n",
    "    moscow, \n",
    "    regions, \n",
    "    equal_var=False)\n",
    "\n",
    "print('p-значение:', results.pvalue)\n",
    "\n",
    "if (results.pvalue < alpha):\n",
    "    print(\"Отвергаем нулевую гипотезу\")\n",
    "else:\n",
    "    print(\"Не получилось отвергнуть нулевую гипотезу\")"
   ]
  },
  {
   "cell_type": "code",
   "execution_count": 30,
   "metadata": {},
   "outputs": [
    {
     "data": {
      "text/html": [
       "<div>\n",
       "<style scoped>\n",
       "    .dataframe tbody tr th:only-of-type {\n",
       "        vertical-align: middle;\n",
       "    }\n",
       "\n",
       "    .dataframe tbody tr th {\n",
       "        vertical-align: top;\n",
       "    }\n",
       "\n",
       "    .dataframe thead th {\n",
       "        text-align: right;\n",
       "    }\n",
       "</style>\n",
       "<table border=\"1\" class=\"dataframe\">\n",
       "  <thead>\n",
       "    <tr style=\"text-align: right;\">\n",
       "      <th></th>\n",
       "      <th>revenue</th>\n",
       "    </tr>\n",
       "    <tr>\n",
       "      <th>region</th>\n",
       "      <th></th>\n",
       "    </tr>\n",
       "  </thead>\n",
       "  <tbody>\n",
       "    <tr>\n",
       "      <td>Другой регион</td>\n",
       "      <td>1494.101562</td>\n",
       "    </tr>\n",
       "    <tr>\n",
       "      <td>Москва</td>\n",
       "      <td>1689.816406</td>\n",
       "    </tr>\n",
       "  </tbody>\n",
       "</table>\n",
       "</div>"
      ],
      "text/plain": [
       "                   revenue\n",
       "region                    \n",
       "Другой регион  1494.101562\n",
       "Москва         1689.816406"
      ]
     },
     "execution_count": 30,
     "metadata": {},
     "output_type": "execute_result"
    }
   ],
   "source": [
    "def det_region(city):\n",
    "    if city == 'Москва': return 'Москва'\n",
    "    else: return 'Другой регион'\n",
    "    \n",
    "grouped_data['region'] = grouped_data['city'].apply(det_region)\n",
    "grouped_data.pivot_table(index='region', values='revenue', aggfunc='median')"
   ]
  },
  {
   "cell_type": "code",
   "execution_count": 31,
   "metadata": {},
   "outputs": [
    {
     "data": {
      "image/png": "[encoded data removed]",
      "text/plain": [
       "<Figure size 360x360 with 1 Axes>"
      ]
     },
     "metadata": {
      "needs_background": "light"
     },
     "output_type": "display_data"
    }
   ],
   "source": [
    "sns.catplot(x=\"region\", y='revenue', kind=\"box\", data=grouped_data)\n",
    "plt.show()"
   ]
  },
  {
   "cell_type": "markdown",
   "metadata": {},
   "source": [
    "**Вывод:**\n",
    "\n",
    "Проведенный статистический тест не дал возможности опровергунть исходную гипотезу о том, что доходы от пользователей из Москвы и из других регионов равны. В действительности, доходы в Московском регионе практически не отличаются от других населенных пунктов.\n",
    "\n",
    "Если бы мы отклонили нулевую гипотезу и подтвердили, что доходы \"Мегалайна\" с каждого пользователя в Москве отличаются от доходов в других регионах, мы бы с вероятностью 37,2% ошиблись."
   ]
  },
  {
   "cell_type": "markdown",
   "metadata": {},
   "source": [
    "## Общий вывод"
   ]
  },
  {
   "cell_type": "markdown",
   "metadata": {},
   "source": [
    "По результатам статистического анализа доходы от тарифа `Ultra` почти в 2 раза больше, чем от тарифа `Smart`: в среднем «Мегалайн» от одного пользователя в месяц получает 1950 рублей и 961 рубль соответственно.\n",
    "\n",
    "Особенности использования тарифов заключаются в следующем:\n",
    "\n",
    "+ Пользователям тарифа `Smart` не хватает услуг в рамках тарифного пакета: кроме абонентской платы пользователи в среднем доплачивают еще 411 рублей ежемесячно (+74,7%).\n",
    "+ Пользователи тарифа `Ultra`, напротив, не используют тарифный пакет в полном объеме.\n",
    "+ Средние доходы от пользователей в Москве не отличаются от доходов в других населенных пунктах: разница статистически незначима (p-значение: 0,372) и составляет 195 руб. (1689 руб. в Москве против 1494 руб в других городах)."
   ]
  }
 ],
 "metadata": {
  "ExecuteTimeLog": [
   {
    "duration": 1168,
    "start_time": "2022-01-06T14:20:22.602Z"
   },
   {
    "duration": 158,
    "start_time": "2022-01-06T14:22:20.638Z"
   },
   {
    "duration": 395,
    "start_time": "2022-01-06T14:25:39.809Z"
   },
   {
    "duration": 9,
    "start_time": "2022-01-06T14:26:25.179Z"
   },
   {
    "duration": 7,
    "start_time": "2022-01-06T14:26:39.261Z"
   },
   {
    "duration": 8,
    "start_time": "2022-01-06T14:26:48.076Z"
   },
   {
    "duration": 468,
    "start_time": "2022-01-06T14:30:57.042Z"
   },
   {
    "duration": 8,
    "start_time": "2022-01-06T14:30:57.574Z"
   },
   {
    "duration": 414,
    "start_time": "2022-01-06T14:31:10.737Z"
   },
   {
    "duration": 9,
    "start_time": "2022-01-06T14:31:11.239Z"
   },
   {
    "duration": 8,
    "start_time": "2022-01-06T14:31:22.298Z"
   },
   {
    "duration": 12,
    "start_time": "2022-01-06T14:31:33.492Z"
   },
   {
    "duration": 7,
    "start_time": "2022-01-06T14:32:01.689Z"
   },
   {
    "duration": 8,
    "start_time": "2022-01-06T14:32:16.725Z"
   },
   {
    "duration": 10,
    "start_time": "2022-01-06T14:32:26.451Z"
   },
   {
    "duration": 7,
    "start_time": "2022-01-06T14:35:22.199Z"
   },
   {
    "duration": 226,
    "start_time": "2022-01-08T14:55:54.735Z"
   },
   {
    "duration": 1111,
    "start_time": "2022-01-08T14:55:57.938Z"
   },
   {
    "duration": 540,
    "start_time": "2022-01-08T14:55:59.632Z"
   },
   {
    "duration": 39,
    "start_time": "2022-01-08T14:56:53.454Z"
   },
   {
    "duration": 38,
    "start_time": "2022-01-08T14:57:20.129Z"
   },
   {
    "duration": 61,
    "start_time": "2022-01-08T15:17:49.551Z"
   },
   {
    "duration": 1526,
    "start_time": "2022-01-08T17:40:07.193Z"
   },
   {
    "duration": 629,
    "start_time": "2022-01-08T17:40:08.721Z"
   },
   {
    "duration": 55,
    "start_time": "2022-01-08T17:40:09.352Z"
   },
   {
    "duration": 100,
    "start_time": "2022-01-08T17:40:12.679Z"
   },
   {
    "duration": 18,
    "start_time": "2022-01-08T17:40:15.920Z"
   },
   {
    "duration": 99,
    "start_time": "2022-01-08T17:43:45.657Z"
   },
   {
    "duration": 12,
    "start_time": "2022-01-08T17:43:59.757Z"
   },
   {
    "duration": 11,
    "start_time": "2022-01-08T17:44:12.162Z"
   },
   {
    "duration": 11,
    "start_time": "2022-01-08T17:44:25.501Z"
   },
   {
    "duration": 32,
    "start_time": "2022-01-08T17:53:01.547Z"
   },
   {
    "duration": 13,
    "start_time": "2022-01-08T17:53:04.542Z"
   },
   {
    "duration": 9,
    "start_time": "2022-01-08T17:53:10.027Z"
   },
   {
    "duration": 33,
    "start_time": "2022-01-08T17:55:19.007Z"
   },
   {
    "duration": 16,
    "start_time": "2022-01-08T17:55:19.704Z"
   },
   {
    "duration": 27,
    "start_time": "2022-01-08T18:00:04.728Z"
   },
   {
    "duration": 19,
    "start_time": "2022-01-08T18:00:10.213Z"
   },
   {
    "duration": 8,
    "start_time": "2022-01-08T18:02:36.120Z"
   },
   {
    "duration": 9,
    "start_time": "2022-01-08T18:02:57.724Z"
   },
   {
    "duration": 44,
    "start_time": "2022-01-08T18:03:36.112Z"
   },
   {
    "duration": 21,
    "start_time": "2022-01-08T18:08:06.151Z"
   },
   {
    "duration": 418,
    "start_time": "2022-01-08T18:16:47.475Z"
   },
   {
    "duration": 73,
    "start_time": "2022-01-08T18:16:52.423Z"
   },
   {
    "duration": 31,
    "start_time": "2022-01-08T18:16:53.402Z"
   },
   {
    "duration": 17,
    "start_time": "2022-01-08T18:17:25.229Z"
   },
   {
    "duration": 302,
    "start_time": "2022-01-08T18:18:23.459Z"
   },
   {
    "duration": 85,
    "start_time": "2022-01-08T18:18:55.807Z"
   },
   {
    "duration": 83,
    "start_time": "2022-01-08T18:18:56.618Z"
   },
   {
    "duration": 19,
    "start_time": "2022-01-08T18:19:01.323Z"
   },
   {
    "duration": 47,
    "start_time": "2022-01-08T18:19:11.840Z"
   },
   {
    "duration": 20,
    "start_time": "2022-01-08T18:19:12.558Z"
   },
   {
    "duration": 73,
    "start_time": "2022-01-08T18:19:19.024Z"
   },
   {
    "duration": 67,
    "start_time": "2022-01-08T18:19:19.885Z"
   },
   {
    "duration": 21,
    "start_time": "2022-01-08T18:19:21.014Z"
   },
   {
    "duration": 40,
    "start_time": "2022-01-08T18:19:39.445Z"
   },
   {
    "duration": 20,
    "start_time": "2022-01-08T18:19:40.939Z"
   },
   {
    "duration": 17,
    "start_time": "2022-01-08T18:23:17.705Z"
   },
   {
    "duration": 975,
    "start_time": "2022-01-09T12:48:25.473Z"
   },
   {
    "duration": 422,
    "start_time": "2022-01-09T12:48:26.991Z"
   },
   {
    "duration": 36,
    "start_time": "2022-01-09T12:48:27.862Z"
   },
   {
    "duration": 57,
    "start_time": "2022-01-09T12:48:31.030Z"
   },
   {
    "duration": 74,
    "start_time": "2022-01-09T12:48:32.894Z"
   },
   {
    "duration": 23,
    "start_time": "2022-01-09T12:48:33.772Z"
   },
   {
    "duration": 17,
    "start_time": "2022-01-09T12:48:35.288Z"
   },
   {
    "duration": 13,
    "start_time": "2022-01-09T12:48:36.372Z"
   },
   {
    "duration": 16,
    "start_time": "2022-01-09T12:53:09.820Z"
   },
   {
    "duration": 9063,
    "start_time": "2022-01-09T12:54:28.417Z"
   },
   {
    "duration": 3,
    "start_time": "2022-01-09T12:56:03.284Z"
   },
   {
    "duration": 16,
    "start_time": "2022-01-09T12:56:04.346Z"
   },
   {
    "duration": 7,
    "start_time": "2022-01-09T12:56:14.785Z"
   },
   {
    "duration": 3,
    "start_time": "2022-01-09T12:57:43.853Z"
   },
   {
    "duration": 6,
    "start_time": "2022-01-09T12:57:45.352Z"
   },
   {
    "duration": 81,
    "start_time": "2022-01-09T12:58:56.099Z"
   },
   {
    "duration": 69,
    "start_time": "2022-01-09T13:01:33.028Z"
   },
   {
    "duration": 40,
    "start_time": "2022-01-09T13:01:34.065Z"
   },
   {
    "duration": 2,
    "start_time": "2022-01-09T13:02:25.422Z"
   },
   {
    "duration": 13,
    "start_time": "2022-01-09T13:02:25.790Z"
   },
   {
    "duration": 11,
    "start_time": "2022-01-09T13:07:17.959Z"
   },
   {
    "duration": 13,
    "start_time": "2022-01-09T13:07:18.997Z"
   },
   {
    "duration": 10,
    "start_time": "2022-01-09T13:08:00.104Z"
   },
   {
    "duration": 13,
    "start_time": "2022-01-09T13:08:06.853Z"
   },
   {
    "duration": 9,
    "start_time": "2022-01-09T13:08:35.980Z"
   },
   {
    "duration": 11,
    "start_time": "2022-01-09T13:09:26.269Z"
   },
   {
    "duration": 1056,
    "start_time": "2022-01-09T13:12:26.775Z"
   },
   {
    "duration": 451,
    "start_time": "2022-01-09T13:12:27.832Z"
   },
   {
    "duration": 34,
    "start_time": "2022-01-09T13:12:28.285Z"
   },
   {
    "duration": 57,
    "start_time": "2022-01-09T13:12:28.321Z"
   },
   {
    "duration": 60,
    "start_time": "2022-01-09T13:12:28.380Z"
   },
   {
    "duration": 22,
    "start_time": "2022-01-09T13:12:28.441Z"
   },
   {
    "duration": 24,
    "start_time": "2022-01-09T13:12:28.464Z"
   },
   {
    "duration": 37,
    "start_time": "2022-01-09T13:12:28.490Z"
   },
   {
    "duration": 3,
    "start_time": "2022-01-09T13:12:28.529Z"
   },
   {
    "duration": 78,
    "start_time": "2022-01-09T13:12:28.533Z"
   },
   {
    "duration": 72,
    "start_time": "2022-01-09T13:12:28.613Z"
   },
   {
    "duration": 55,
    "start_time": "2022-01-09T13:12:28.686Z"
   },
   {
    "duration": 26,
    "start_time": "2022-01-09T13:12:28.742Z"
   },
   {
    "duration": 26,
    "start_time": "2022-01-09T13:16:30.743Z"
   },
   {
    "duration": 13308,
    "start_time": "2022-01-09T13:19:53.820Z"
   },
   {
    "duration": 17,
    "start_time": "2022-01-09T13:22:05.505Z"
   },
   {
    "duration": 330,
    "start_time": "2022-01-09T13:23:37.993Z"
   },
   {
    "duration": 104,
    "start_time": "2022-01-09T13:26:05.203Z"
   },
   {
    "duration": 6011,
    "start_time": "2022-01-09T13:26:13.897Z"
   },
   {
    "duration": 8491,
    "start_time": "2022-01-09T13:26:52.612Z"
   },
   {
    "duration": 8387,
    "start_time": "2022-01-09T13:27:25.436Z"
   },
   {
    "duration": 4463,
    "start_time": "2022-01-09T13:34:08.586Z"
   },
   {
    "duration": 14,
    "start_time": "2022-01-09T13:34:20.118Z"
   },
   {
    "duration": 4,
    "start_time": "2022-01-09T13:34:41.057Z"
   },
   {
    "duration": 14,
    "start_time": "2022-01-09T13:34:42.226Z"
   },
   {
    "duration": 4,
    "start_time": "2022-01-09T13:34:47.224Z"
   },
   {
    "duration": 15,
    "start_time": "2022-01-09T13:34:48.335Z"
   },
   {
    "duration": 6109,
    "start_time": "2022-01-09T13:36:05.204Z"
   },
   {
    "duration": 16,
    "start_time": "2022-01-09T13:38:08.907Z"
   },
   {
    "duration": 46,
    "start_time": "2022-01-09T13:39:57.810Z"
   },
   {
    "duration": 20,
    "start_time": "2022-01-09T13:39:59.439Z"
   },
   {
    "duration": 11,
    "start_time": "2022-01-09T13:40:08.435Z"
   },
   {
    "duration": 46,
    "start_time": "2022-01-09T13:45:10.975Z"
   },
   {
    "duration": 21,
    "start_time": "2022-01-09T13:45:11.834Z"
   },
   {
    "duration": 21,
    "start_time": "2022-01-09T13:45:14.636Z"
   },
   {
    "duration": 11,
    "start_time": "2022-01-09T13:45:14.845Z"
   },
   {
    "duration": 8280,
    "start_time": "2022-01-09T13:45:44.441Z"
   },
   {
    "duration": 982,
    "start_time": "2022-01-09T13:54:09.249Z"
   },
   {
    "duration": 406,
    "start_time": "2022-01-09T13:54:10.233Z"
   },
   {
    "duration": 34,
    "start_time": "2022-01-09T13:54:10.642Z"
   },
   {
    "duration": 59,
    "start_time": "2022-01-09T13:54:10.678Z"
   },
   {
    "duration": 47,
    "start_time": "2022-01-09T13:54:10.738Z"
   },
   {
    "duration": 21,
    "start_time": "2022-01-09T13:54:10.786Z"
   },
   {
    "duration": 33,
    "start_time": "2022-01-09T13:54:10.809Z"
   },
   {
    "duration": 13,
    "start_time": "2022-01-09T13:54:10.843Z"
   },
   {
    "duration": 3,
    "start_time": "2022-01-09T13:54:10.857Z"
   },
   {
    "duration": 97,
    "start_time": "2022-01-09T13:54:10.861Z"
   },
   {
    "duration": 70,
    "start_time": "2022-01-09T13:54:10.959Z"
   },
   {
    "duration": 39,
    "start_time": "2022-01-09T13:54:11.030Z"
   },
   {
    "duration": 22,
    "start_time": "2022-01-09T13:54:11.070Z"
   },
   {
    "duration": 41,
    "start_time": "2022-01-09T13:54:11.094Z"
   },
   {
    "duration": 397,
    "start_time": "2022-01-09T13:54:11.136Z"
   },
   {
    "duration": 9299,
    "start_time": "2022-01-09T14:02:12.012Z"
   },
   {
    "duration": 342,
    "start_time": "2022-01-09T14:02:28.604Z"
   },
   {
    "duration": 361,
    "start_time": "2022-01-09T14:03:18.337Z"
   },
   {
    "duration": 281,
    "start_time": "2022-01-09T14:03:24.961Z"
   },
   {
    "duration": 15,
    "start_time": "2022-01-09T14:03:33.987Z"
   },
   {
    "duration": 310,
    "start_time": "2022-01-09T14:04:04.307Z"
   },
   {
    "duration": 10,
    "start_time": "2022-01-09T14:04:19.741Z"
   },
   {
    "duration": 8229,
    "start_time": "2022-01-09T14:05:27.570Z"
   },
   {
    "duration": 10,
    "start_time": "2022-01-09T14:06:20.120Z"
   },
   {
    "duration": 1103,
    "start_time": "2022-01-15T08:23:34.649Z"
   },
   {
    "duration": 452,
    "start_time": "2022-01-15T08:23:36.290Z"
   },
   {
    "duration": 37,
    "start_time": "2022-01-15T08:23:38.147Z"
   },
   {
    "duration": 68,
    "start_time": "2022-01-15T08:23:40.455Z"
   },
   {
    "duration": 62,
    "start_time": "2022-01-15T08:23:41.776Z"
   },
   {
    "duration": 25,
    "start_time": "2022-01-15T08:23:41.997Z"
   },
   {
    "duration": 19,
    "start_time": "2022-01-15T08:23:43.147Z"
   },
   {
    "duration": 15,
    "start_time": "2022-01-15T08:23:44.037Z"
   },
   {
    "duration": 3,
    "start_time": "2022-01-15T08:23:45.075Z"
   },
   {
    "duration": 89,
    "start_time": "2022-01-15T08:23:45.478Z"
   },
   {
    "duration": 74,
    "start_time": "2022-01-15T08:23:45.860Z"
   },
   {
    "duration": 42,
    "start_time": "2022-01-15T08:23:46.486Z"
   },
   {
    "duration": 27,
    "start_time": "2022-01-15T08:23:47.426Z"
   },
   {
    "duration": 23,
    "start_time": "2022-01-15T08:23:49.248Z"
   },
   {
    "duration": 316,
    "start_time": "2022-01-15T08:23:49.832Z"
   },
   {
    "duration": 10,
    "start_time": "2022-01-15T08:23:50.509Z"
   },
   {
    "duration": 6688,
    "start_time": "2022-01-15T08:25:51.783Z"
   },
   {
    "duration": 24,
    "start_time": "2022-01-15T08:50:44.359Z"
   },
   {
    "duration": 23,
    "start_time": "2022-01-15T08:50:49.905Z"
   },
   {
    "duration": 348,
    "start_time": "2022-01-15T08:50:51.002Z"
   },
   {
    "duration": 12,
    "start_time": "2022-01-15T08:50:52.191Z"
   },
   {
    "duration": 7025,
    "start_time": "2022-01-15T08:51:06.843Z"
   },
   {
    "duration": 26,
    "start_time": "2022-01-15T08:51:49.443Z"
   },
   {
    "duration": 24,
    "start_time": "2022-01-15T08:51:53.299Z"
   },
   {
    "duration": 304,
    "start_time": "2022-01-15T08:51:54.079Z"
   },
   {
    "duration": 11,
    "start_time": "2022-01-15T08:51:54.708Z"
   },
   {
    "duration": 8,
    "start_time": "2022-01-15T09:07:02.411Z"
   },
   {
    "duration": 8900,
    "start_time": "2022-01-15T09:07:29.603Z"
   },
   {
    "duration": 7,
    "start_time": "2022-01-15T09:07:52.338Z"
   },
   {
    "duration": 282,
    "start_time": "2022-01-15T09:08:25.193Z"
   },
   {
    "duration": 4920,
    "start_time": "2022-01-15T09:08:29.295Z"
   },
   {
    "duration": 309,
    "start_time": "2022-01-15T09:09:21.175Z"
   },
   {
    "duration": 267,
    "start_time": "2022-01-15T09:09:41.285Z"
   },
   {
    "duration": 3401,
    "start_time": "2022-01-15T09:11:41.082Z"
   },
   {
    "duration": 5,
    "start_time": "2022-01-15T09:12:04.890Z"
   },
   {
    "duration": 350,
    "start_time": "2022-01-15T09:12:31.162Z"
   },
   {
    "duration": 272,
    "start_time": "2022-01-15T09:12:34.495Z"
   },
   {
    "duration": 259,
    "start_time": "2022-01-15T09:12:38.836Z"
   },
   {
    "duration": 294,
    "start_time": "2022-01-15T09:13:51.264Z"
   },
   {
    "duration": 8,
    "start_time": "2022-01-15T09:14:00.539Z"
   },
   {
    "duration": 6735,
    "start_time": "2022-01-15T09:14:45.489Z"
   },
   {
    "duration": 5,
    "start_time": "2022-01-15T09:14:56.579Z"
   },
   {
    "duration": 267,
    "start_time": "2022-01-15T09:15:15.542Z"
   },
   {
    "duration": 5,
    "start_time": "2022-01-15T09:18:00.125Z"
   },
   {
    "duration": 4,
    "start_time": "2022-01-15T09:18:07.635Z"
   },
   {
    "duration": 4,
    "start_time": "2022-01-15T09:18:26.822Z"
   },
   {
    "duration": 7,
    "start_time": "2022-01-15T09:19:13.420Z"
   },
   {
    "duration": 4,
    "start_time": "2022-01-15T09:20:15.467Z"
   },
   {
    "duration": 5,
    "start_time": "2022-01-15T09:20:48.575Z"
   },
   {
    "duration": 271,
    "start_time": "2022-01-15T09:21:02.047Z"
   },
   {
    "duration": 5,
    "start_time": "2022-01-15T09:21:04.969Z"
   },
   {
    "duration": 5,
    "start_time": "2022-01-15T09:21:08.302Z"
   },
   {
    "duration": 5,
    "start_time": "2022-01-15T09:24:03.848Z"
   },
   {
    "duration": 4,
    "start_time": "2022-01-15T09:24:13.110Z"
   },
   {
    "duration": 6625,
    "start_time": "2022-01-15T09:25:31.829Z"
   },
   {
    "duration": 5,
    "start_time": "2022-01-15T09:26:59.969Z"
   },
   {
    "duration": 4,
    "start_time": "2022-01-15T09:27:58.147Z"
   },
   {
    "duration": 85,
    "start_time": "2022-01-15T09:28:28.537Z"
   },
   {
    "duration": 4,
    "start_time": "2022-01-15T09:28:32.874Z"
   },
   {
    "duration": 583,
    "start_time": "2022-01-15T09:29:45.591Z"
   },
   {
    "duration": 565,
    "start_time": "2022-01-15T09:31:11.555Z"
   },
   {
    "duration": 25,
    "start_time": "2022-01-15T09:32:42.459Z"
   },
   {
    "duration": 23,
    "start_time": "2022-01-15T09:32:46.449Z"
   },
   {
    "duration": 300,
    "start_time": "2022-01-15T09:32:47.069Z"
   },
   {
    "duration": 12,
    "start_time": "2022-01-15T09:32:47.808Z"
   },
   {
    "duration": 7,
    "start_time": "2022-01-15T09:32:49.237Z"
   },
   {
    "duration": 634,
    "start_time": "2022-01-15T09:32:58.216Z"
   },
   {
    "duration": 6562,
    "start_time": "2022-01-15T09:45:35.080Z"
   },
   {
    "duration": 18,
    "start_time": "2022-01-15T09:46:18.946Z"
   },
   {
    "duration": 206,
    "start_time": "2022-01-15T09:47:08.138Z"
   },
   {
    "duration": 31,
    "start_time": "2022-01-15T10:12:42.734Z"
   },
   {
    "duration": 31,
    "start_time": "2022-01-15T10:16:02.927Z"
   },
   {
    "duration": 29,
    "start_time": "2022-01-15T10:16:18.053Z"
   },
   {
    "duration": 31,
    "start_time": "2022-01-15T10:16:23.828Z"
   },
   {
    "duration": 1234,
    "start_time": "2022-01-15T10:16:46.786Z"
   },
   {
    "duration": 2414,
    "start_time": "2022-01-15T10:16:48.021Z"
   },
   {
    "duration": 40,
    "start_time": "2022-01-15T10:16:50.437Z"
   },
   {
    "duration": 66,
    "start_time": "2022-01-15T10:16:50.479Z"
   },
   {
    "duration": 64,
    "start_time": "2022-01-15T10:16:50.546Z"
   },
   {
    "duration": 25,
    "start_time": "2022-01-15T10:16:50.611Z"
   },
   {
    "duration": 18,
    "start_time": "2022-01-15T10:16:50.638Z"
   },
   {
    "duration": 14,
    "start_time": "2022-01-15T10:16:50.659Z"
   },
   {
    "duration": 25,
    "start_time": "2022-01-15T10:16:50.675Z"
   },
   {
    "duration": 105,
    "start_time": "2022-01-15T10:16:50.702Z"
   },
   {
    "duration": 76,
    "start_time": "2022-01-15T10:16:50.809Z"
   },
   {
    "duration": 52,
    "start_time": "2022-01-15T10:16:50.887Z"
   },
   {
    "duration": 27,
    "start_time": "2022-01-15T10:16:50.941Z"
   },
   {
    "duration": 44,
    "start_time": "2022-01-15T10:16:50.969Z"
   },
   {
    "duration": 323,
    "start_time": "2022-01-15T10:16:51.015Z"
   },
   {
    "duration": 12,
    "start_time": "2022-01-15T10:16:51.340Z"
   },
   {
    "duration": 10,
    "start_time": "2022-01-15T10:16:51.353Z"
   },
   {
    "duration": 573,
    "start_time": "2022-01-15T10:16:51.365Z"
   },
   {
    "duration": 205,
    "start_time": "2022-01-15T10:16:51.939Z"
   },
   {
    "duration": 34,
    "start_time": "2022-01-15T10:16:52.146Z"
   },
   {
    "duration": 940,
    "start_time": "2022-01-15T10:20:25.636Z"
   },
   {
    "duration": 1049,
    "start_time": "2022-01-15T10:23:01.569Z"
   },
   {
    "duration": 357,
    "start_time": "2022-01-15T10:23:10.525Z"
   },
   {
    "duration": 1114,
    "start_time": "2022-01-15T10:23:25.847Z"
   },
   {
    "duration": 1004,
    "start_time": "2022-01-15T10:23:32.863Z"
   },
   {
    "duration": 290,
    "start_time": "2022-01-15T10:23:40.021Z"
   },
   {
    "duration": 1020,
    "start_time": "2022-01-15T10:24:01.571Z"
   },
   {
    "duration": 1017,
    "start_time": "2022-01-15T10:24:09.650Z"
   },
   {
    "duration": 288,
    "start_time": "2022-01-15T10:24:16.246Z"
   },
   {
    "duration": 974,
    "start_time": "2022-01-15T10:24:27.886Z"
   },
   {
    "duration": 958,
    "start_time": "2022-01-15T10:24:34.414Z"
   },
   {
    "duration": 1018,
    "start_time": "2022-01-15T10:24:39.946Z"
   },
   {
    "duration": 1023,
    "start_time": "2022-01-15T10:24:46.142Z"
   },
   {
    "duration": 985,
    "start_time": "2022-01-15T10:26:52.174Z"
   },
   {
    "duration": 234,
    "start_time": "2022-01-15T10:40:35.473Z"
   },
   {
    "duration": 610,
    "start_time": "2022-01-15T12:09:54.317Z"
   },
   {
    "duration": 258,
    "start_time": "2022-01-15T12:10:07.253Z"
   },
   {
    "duration": 338,
    "start_time": "2022-01-15T12:10:21.975Z"
   },
   {
    "duration": 244,
    "start_time": "2022-01-15T12:10:36.764Z"
   },
   {
    "duration": 217,
    "start_time": "2022-01-15T12:10:51.336Z"
   },
   {
    "duration": 227,
    "start_time": "2022-01-15T12:11:05.370Z"
   },
   {
    "duration": 247,
    "start_time": "2022-01-15T12:11:11.264Z"
   },
   {
    "duration": 254,
    "start_time": "2022-01-15T12:11:36.846Z"
   },
   {
    "duration": 253,
    "start_time": "2022-01-15T12:12:05.838Z"
   },
   {
    "duration": 244,
    "start_time": "2022-01-15T12:12:13.039Z"
   },
   {
    "duration": 235,
    "start_time": "2022-01-15T12:12:19.779Z"
   },
   {
    "duration": 238,
    "start_time": "2022-01-15T12:12:31.435Z"
   },
   {
    "duration": 253,
    "start_time": "2022-01-15T12:12:37.687Z"
   },
   {
    "duration": 310,
    "start_time": "2022-01-15T12:12:45.053Z"
   },
   {
    "duration": 232,
    "start_time": "2022-01-15T12:13:59.815Z"
   },
   {
    "duration": 289,
    "start_time": "2022-01-15T12:14:21.129Z"
   },
   {
    "duration": 237,
    "start_time": "2022-01-15T12:14:27.610Z"
   },
   {
    "duration": 261,
    "start_time": "2022-01-15T12:14:34.794Z"
   },
   {
    "duration": 277,
    "start_time": "2022-01-15T12:15:21.491Z"
   },
   {
    "duration": 250,
    "start_time": "2022-01-15T12:15:35.712Z"
   },
   {
    "duration": 235,
    "start_time": "2022-01-15T12:15:51.309Z"
   },
   {
    "duration": 246,
    "start_time": "2022-01-15T12:16:07.220Z"
   },
   {
    "duration": 237,
    "start_time": "2022-01-15T12:16:13.051Z"
   },
   {
    "duration": 266,
    "start_time": "2022-01-15T12:18:02.184Z"
   },
   {
    "duration": 322,
    "start_time": "2022-01-15T12:18:13.420Z"
   },
   {
    "duration": 264,
    "start_time": "2022-01-15T12:18:25.093Z"
   },
   {
    "duration": 1938,
    "start_time": "2022-01-15T12:20:07.427Z"
   },
   {
    "duration": 236,
    "start_time": "2022-01-15T12:20:27.429Z"
   },
   {
    "duration": 246,
    "start_time": "2022-01-15T12:21:35.147Z"
   },
   {
    "duration": 450,
    "start_time": "2022-01-15T12:21:52.445Z"
   },
   {
    "duration": 481,
    "start_time": "2022-01-15T12:22:05.844Z"
   },
   {
    "duration": 493,
    "start_time": "2022-01-15T12:22:10.174Z"
   },
   {
    "duration": 691,
    "start_time": "2022-01-15T12:22:29.153Z"
   },
   {
    "duration": 426,
    "start_time": "2022-01-15T12:22:41.958Z"
   },
   {
    "duration": 244,
    "start_time": "2022-01-15T12:25:45.444Z"
   },
   {
    "duration": 268,
    "start_time": "2022-01-15T12:29:27.565Z"
   },
   {
    "duration": 411,
    "start_time": "2022-01-15T12:29:38.335Z"
   },
   {
    "duration": 315,
    "start_time": "2022-01-15T12:30:10.105Z"
   },
   {
    "duration": 245,
    "start_time": "2022-01-15T12:30:16.859Z"
   },
   {
    "duration": 239,
    "start_time": "2022-01-15T12:32:04.031Z"
   },
   {
    "duration": 13,
    "start_time": "2022-01-15T13:09:20.241Z"
   },
   {
    "duration": 11,
    "start_time": "2022-01-15T13:15:06.032Z"
   },
   {
    "duration": 4,
    "start_time": "2022-01-15T13:17:31.700Z"
   },
   {
    "duration": 8,
    "start_time": "2022-01-15T13:17:45.737Z"
   },
   {
    "duration": 4,
    "start_time": "2022-01-15T13:19:28.938Z"
   },
   {
    "duration": 11,
    "start_time": "2022-01-15T13:19:42.143Z"
   },
   {
    "duration": 13,
    "start_time": "2022-01-15T13:21:32.834Z"
   },
   {
    "duration": 515,
    "start_time": "2022-01-15T13:21:45.186Z"
   },
   {
    "duration": 15,
    "start_time": "2022-01-15T13:21:52.694Z"
   },
   {
    "duration": 24,
    "start_time": "2022-01-15T13:22:07.142Z"
   },
   {
    "duration": 3,
    "start_time": "2022-01-15T13:23:37.013Z"
   },
   {
    "duration": 473,
    "start_time": "2022-01-15T13:23:37.135Z"
   },
   {
    "duration": 38,
    "start_time": "2022-01-15T13:23:37.609Z"
   },
   {
    "duration": 62,
    "start_time": "2022-01-15T13:23:39.536Z"
   },
   {
    "duration": 64,
    "start_time": "2022-01-15T13:23:40.396Z"
   },
   {
    "duration": 24,
    "start_time": "2022-01-15T13:23:41.158Z"
   },
   {
    "duration": 19,
    "start_time": "2022-01-15T13:23:41.805Z"
   },
   {
    "duration": 16,
    "start_time": "2022-01-15T13:23:42.128Z"
   },
   {
    "duration": 3,
    "start_time": "2022-01-15T13:23:43.090Z"
   },
   {
    "duration": 80,
    "start_time": "2022-01-15T13:23:43.238Z"
   },
   {
    "duration": 69,
    "start_time": "2022-01-15T13:23:43.851Z"
   },
   {
    "duration": 44,
    "start_time": "2022-01-15T13:23:44.001Z"
   },
   {
    "duration": 27,
    "start_time": "2022-01-15T13:23:44.153Z"
   },
   {
    "duration": 22,
    "start_time": "2022-01-15T13:23:59.203Z"
   },
   {
    "duration": 339,
    "start_time": "2022-01-15T13:24:03.678Z"
   },
   {
    "duration": 11,
    "start_time": "2022-01-15T13:24:09.423Z"
   },
   {
    "duration": 8,
    "start_time": "2022-01-15T13:24:36.266Z"
   },
   {
    "duration": 7,
    "start_time": "2022-01-15T13:25:52.166Z"
   },
   {
    "duration": 8,
    "start_time": "2022-01-15T13:25:53.177Z"
   },
   {
    "duration": 23,
    "start_time": "2022-01-15T13:26:06.944Z"
   },
   {
    "duration": 323,
    "start_time": "2022-01-15T13:26:07.277Z"
   },
   {
    "duration": 12,
    "start_time": "2022-01-15T13:26:08.108Z"
   },
   {
    "duration": 7,
    "start_time": "2022-01-15T13:26:11.018Z"
   },
   {
    "duration": 7,
    "start_time": "2022-01-15T13:26:43.891Z"
   },
   {
    "duration": 7,
    "start_time": "2022-01-15T13:26:45.442Z"
   },
   {
    "duration": 22,
    "start_time": "2022-01-15T13:42:16.073Z"
   },
   {
    "duration": 335,
    "start_time": "2022-01-15T13:42:16.433Z"
   },
   {
    "duration": 13,
    "start_time": "2022-01-15T13:42:17.989Z"
   },
   {
    "duration": 7,
    "start_time": "2022-01-15T13:43:26.034Z"
   },
   {
    "duration": 5,
    "start_time": "2022-01-15T13:43:33.474Z"
   },
   {
    "duration": 7,
    "start_time": "2022-01-15T13:43:34.575Z"
   },
   {
    "duration": 1167,
    "start_time": "2022-01-15T13:49:46.296Z"
   },
   {
    "duration": 508,
    "start_time": "2022-01-15T13:49:47.465Z"
   },
   {
    "duration": 39,
    "start_time": "2022-01-15T13:49:47.974Z"
   },
   {
    "duration": 63,
    "start_time": "2022-01-15T13:49:48.014Z"
   },
   {
    "duration": 77,
    "start_time": "2022-01-15T13:49:48.079Z"
   },
   {
    "duration": 24,
    "start_time": "2022-01-15T13:49:48.157Z"
   },
   {
    "duration": 29,
    "start_time": "2022-01-15T13:49:48.183Z"
   },
   {
    "duration": 16,
    "start_time": "2022-01-15T13:49:48.214Z"
   },
   {
    "duration": 4,
    "start_time": "2022-01-15T13:49:48.232Z"
   },
   {
    "duration": 121,
    "start_time": "2022-01-15T13:49:48.238Z"
   },
   {
    "duration": 79,
    "start_time": "2022-01-15T13:49:48.361Z"
   },
   {
    "duration": 45,
    "start_time": "2022-01-15T13:49:48.442Z"
   },
   {
    "duration": 36,
    "start_time": "2022-01-15T13:49:48.488Z"
   },
   {
    "duration": 22,
    "start_time": "2022-01-15T13:49:48.525Z"
   },
   {
    "duration": 351,
    "start_time": "2022-01-15T13:49:48.549Z"
   },
   {
    "duration": 10,
    "start_time": "2022-01-15T13:49:48.902Z"
   },
   {
    "duration": 8,
    "start_time": "2022-01-15T13:49:48.914Z"
   },
   {
    "duration": 609,
    "start_time": "2022-01-15T13:49:48.924Z"
   },
   {
    "duration": 203,
    "start_time": "2022-01-15T13:49:49.535Z"
   },
   {
    "duration": 30,
    "start_time": "2022-01-15T13:49:49.739Z"
   },
   {
    "duration": 1008,
    "start_time": "2022-01-15T13:49:49.771Z"
   },
   {
    "duration": 251,
    "start_time": "2022-01-15T13:49:50.781Z"
   },
   {
    "duration": 240,
    "start_time": "2022-01-15T13:49:51.035Z"
   },
   {
    "duration": 334,
    "start_time": "2022-01-15T13:49:51.277Z"
   },
   {
    "duration": 11,
    "start_time": "2022-01-15T13:49:51.613Z"
   },
   {
    "duration": 19,
    "start_time": "2022-01-15T13:49:51.626Z"
   },
   {
    "duration": 11,
    "start_time": "2022-01-15T14:13:47.756Z"
   },
   {
    "duration": 11,
    "start_time": "2022-01-15T14:14:01.079Z"
   },
   {
    "duration": 14,
    "start_time": "2022-01-15T14:15:18.705Z"
   },
   {
    "duration": 343,
    "start_time": "2022-01-15T14:15:34.539Z"
   },
   {
    "duration": 300,
    "start_time": "2022-01-15T14:15:47.016Z"
   },
   {
    "duration": 313,
    "start_time": "2022-01-15T14:16:00.911Z"
   },
   {
    "duration": 379,
    "start_time": "2022-01-15T14:22:52.826Z"
   },
   {
    "duration": 87,
    "start_time": "2022-01-15T14:23:03.692Z"
   },
   {
    "duration": 358,
    "start_time": "2022-01-15T14:23:07.510Z"
   },
   {
    "duration": 20,
    "start_time": "2022-01-15T14:23:14.968Z"
   },
   {
    "duration": 7,
    "start_time": "2022-01-15T14:23:26.325Z"
   },
   {
    "duration": 11,
    "start_time": "2022-01-15T14:24:31.163Z"
   },
   {
    "duration": 12,
    "start_time": "2022-01-15T14:24:38.117Z"
   },
   {
    "duration": 349,
    "start_time": "2022-01-15T14:24:58.975Z"
   },
   {
    "duration": 13,
    "start_time": "2022-01-15T14:25:00.333Z"
   },
   {
    "duration": 17,
    "start_time": "2022-01-15T14:25:12.867Z"
   },
   {
    "duration": 11,
    "start_time": "2022-01-15T14:25:54.813Z"
   },
   {
    "duration": 14,
    "start_time": "2022-01-15T14:30:29.573Z"
   },
   {
    "duration": 92,
    "start_time": "2022-01-15T14:30:42.922Z"
   },
   {
    "duration": 391,
    "start_time": "2022-01-15T14:30:56.640Z"
   },
   {
    "duration": 1235,
    "start_time": "2022-01-15T14:47:15.034Z"
   },
   {
    "duration": 488,
    "start_time": "2022-01-15T14:47:16.270Z"
   },
   {
    "duration": 40,
    "start_time": "2022-01-15T14:47:16.760Z"
   },
   {
    "duration": 64,
    "start_time": "2022-01-15T14:47:16.801Z"
   },
   {
    "duration": 75,
    "start_time": "2022-01-15T14:47:16.867Z"
   },
   {
    "duration": 24,
    "start_time": "2022-01-15T14:47:16.944Z"
   },
   {
    "duration": 36,
    "start_time": "2022-01-15T14:47:16.970Z"
   },
   {
    "duration": 15,
    "start_time": "2022-01-15T14:47:17.008Z"
   },
   {
    "duration": 3,
    "start_time": "2022-01-15T14:47:17.025Z"
   },
   {
    "duration": 102,
    "start_time": "2022-01-15T14:47:17.029Z"
   },
   {
    "duration": 78,
    "start_time": "2022-01-15T14:47:17.132Z"
   },
   {
    "duration": 42,
    "start_time": "2022-01-15T14:47:17.212Z"
   },
   {
    "duration": 25,
    "start_time": "2022-01-15T14:47:17.256Z"
   },
   {
    "duration": 36,
    "start_time": "2022-01-15T14:47:17.282Z"
   },
   {
    "duration": 320,
    "start_time": "2022-01-15T14:47:17.319Z"
   },
   {
    "duration": 10,
    "start_time": "2022-01-15T14:47:17.641Z"
   },
   {
    "duration": 8,
    "start_time": "2022-01-15T14:47:17.653Z"
   },
   {
    "duration": 601,
    "start_time": "2022-01-15T14:47:17.662Z"
   },
   {
    "duration": 212,
    "start_time": "2022-01-15T14:47:18.265Z"
   },
   {
    "duration": 39,
    "start_time": "2022-01-15T14:47:18.478Z"
   },
   {
    "duration": 954,
    "start_time": "2022-01-15T14:47:18.519Z"
   },
   {
    "duration": 252,
    "start_time": "2022-01-15T14:47:19.475Z"
   },
   {
    "duration": 249,
    "start_time": "2022-01-15T14:47:19.730Z"
   },
   {
    "duration": 340,
    "start_time": "2022-01-15T14:47:19.981Z"
   },
   {
    "duration": 11,
    "start_time": "2022-01-15T14:47:20.323Z"
   },
   {
    "duration": 13,
    "start_time": "2022-01-15T14:47:20.335Z"
   },
   {
    "duration": 366,
    "start_time": "2022-01-15T14:47:20.350Z"
   },
   {
    "duration": 356,
    "start_time": "2022-01-15T14:47:20.718Z"
   },
   {
    "duration": 11,
    "start_time": "2022-01-15T14:47:21.076Z"
   },
   {
    "duration": 15,
    "start_time": "2022-01-15T14:47:21.098Z"
   },
   {
    "duration": 320,
    "start_time": "2022-01-15T14:47:21.115Z"
   }
  ],
  "kernelspec": {
   "display_name": "Python 3",
   "language": "python",
   "name": "python3"
  },
  "language_info": {
   "codemirror_mode": {
    "name": "ipython",
    "version": 3
   },
   "file_extension": ".py",
   "mimetype": "text/x-python",
   "name": "python",
   "nbconvert_exporter": "python",
   "pygments_lexer": "ipython3",
   "version": "3.7.8"
  },
  "toc": {
   "base_numbering": 1,
   "nav_menu": {},
   "number_sections": true,
   "sideBar": true,
   "skip_h1_title": true,
   "title_cell": "Table of Contents",
   "title_sidebar": "Contents",
   "toc_cell": false,
   "toc_position": {
    "height": "calc(100% - 180px)",
    "left": "10px",
    "top": "150px",
    "width": "254.391px"
   },
   "toc_section_display": true,
   "toc_window_display": true
  }
 },
 "nbformat": 4,
 "nbformat_minor": 2
}
